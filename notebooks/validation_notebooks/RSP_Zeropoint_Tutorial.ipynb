{
 "cells": [
  {
   "cell_type": "markdown",
   "id": "8c251643-f23c-41d2-89c5-e63fb972674c",
   "metadata": {},
   "source": [
    "## Rubin RSP Zeropoint Notebook\n",
    "The aims of this notebook are as follows:\n",
    "1) To extract zeropoints from random single exposures and coadds in the RSP images.\n",
    "2) To verify that the pixel ratios of single exposures and coadds match expectations, given their different zeropoints.\n",
    "\n",
    "We start by importing packages. Note lsst_science_pipeline needs to be downloaded from Github. "
   ]
  },
  {
   "cell_type": "code",
   "execution_count": null,
   "id": "905946f6-abf5-47d3-b0f8-23244a096186",
   "metadata": {},
   "outputs": [],
   "source": [
    "from lsst.rsp import get_tap_service\n",
    "import lsst.daf.butler as dafButler\n",
    "import lsst.geom\n",
    "import matplotlib.pyplot as pl\n",
    "from matplotlib.colors import LogNorm\n",
    "import numpy as np\n",
    "from photutils.aperture import CircularAperture\n",
    "from skimage.feature import peak_local_max\n",
    "from slsim.lsst_science_pipeline import tap_query, list_of_calexp, warp_to_exposure\n",
    "from slsim.Util.param_util import random_radec_string\n",
    "\n",
    "service = get_tap_service(\"tap\")\n",
    "butler = dafButler.Butler(\"dp02\", collections=\"2.2i/runs/DP0.2\")\n",
    "skymap = butler.get(\"skyMap\")"
   ]
  },
  {
   "cell_type": "markdown",
   "id": "2fa74c96-cafb-431a-ae69-2c3827db80e2",
   "metadata": {},
   "source": [
    "We will first select a random coordinate patch within the LSST survey field, then retrieve the information regarding single exposure images within some given radius around that coordinate."
   ]
  },
  {
   "cell_type": "code",
   "execution_count": null,
   "id": "58c472f1-1bed-4cb1-8825-47e4d4f215fc",
   "metadata": {},
   "outputs": [],
   "source": [
    "np.random.seed(1)\n",
    "random_ra_dec = random_radec_string(55, 70, -43, -30, 1)\n",
    "ra_i = float(random_ra_dec[0].split(\",\")[0])\n",
    "dec_i = float(random_ra_dec[0].split(\",\")[1])\n",
    "print(\"RA/Dec:\", random_ra_dec)\n",
    "\n",
    "# Retrieving details of the single exposures around that coordinate:\n",
    "expo_information = tap_query(random_ra_dec[0], radius=str(0.1))\n",
    "expo_information.to_pandas()"
   ]
  },
  {
   "cell_type": "markdown",
   "id": "374ff8f8-9b3b-45c1-a470-1243463b5f10",
   "metadata": {},
   "source": [
    "Next, we'll find the coadd corresponding to that random coordinate:"
   ]
  },
  {
   "cell_type": "code",
   "execution_count": null,
   "id": "2d0f91d1-ef6e-41e2-8a6c-437fb1b9a4f1",
   "metadata": {},
   "outputs": [],
   "source": [
    "# Retrieving the corresponding coadd for the above coordinates: we first need to identify the tract and patch the coadd belongs to.\n",
    "my_spherePoint = lsst.geom.SpherePoint(\n",
    "    ra_i * lsst.geom.degrees, dec_i * lsst.geom.degrees\n",
    ")\n",
    "tract = skymap.findTract(my_spherePoint)\n",
    "patch = tract.findPatch(my_spherePoint)\n",
    "my_tract = tract.tract_id\n",
    "my_patch = patch.getSequentialIndex()\n",
    "# Looking for the i-band coadd here:\n",
    "coadd_im = butler.get(\n",
    "    \"deepCoadd\", dataId={\"tract\": (my_tract), \"patch\": (my_patch), \"band\": \"i\"}\n",
    ")\n",
    "# This retrieves the exposure map, i.e. the number of single exposure images which make up a given pixel (note, this is number of exposures,\n",
    "# not total exposure time)\n",
    "coadd_n_exp = butler.get(\n",
    "    \"deepCoadd_nImage\", dataId={\"tract\": (my_tract), \"patch\": (my_patch), \"band\": \"i\"}\n",
    ")"
   ]
  },
  {
   "cell_type": "markdown",
   "id": "152d81e6-3eec-459d-a91b-0085a5f5e1d5",
   "metadata": {
    "execution": {
     "iopub.execute_input": "2024-01-15T10:54:04.659341Z",
     "iopub.status.busy": "2024-01-15T10:54:04.658381Z",
     "iopub.status.idle": "2024-01-15T10:54:04.664301Z",
     "shell.execute_reply": "2024-01-15T10:54:04.663423Z",
     "shell.execute_reply.started": "2024-01-15T10:54:04.659308Z"
    }
   },
   "source": [
    "We want to compare pixel values between the coadd and the single exposures. To do this, they first need to be warped to the same pixel grid:"
   ]
  },
  {
   "cell_type": "code",
   "execution_count": null,
   "id": "b760b748-20a8-446a-820c-ca851493e880",
   "metadata": {},
   "outputs": [],
   "source": [
    "# Retrieves list of single-exposure images corresponding to (the first 5 extracts from) the above query:\n",
    "n_exp = 5\n",
    "list_of_sing_exp = list_of_calexp(expo_information[0:n_exp], butler)\n",
    "\n",
    "\n",
    "def aligned_calexp_to_ref(calexp_image, ref):\n",
    "    \"\"\"Aligns list of given images to the reference image provided\n",
    "\n",
    "    :param calexp_image: list of calexp images.\n",
    "    :param ref: reference image used to warp to\n",
    "    :return: list of aligned images.\n",
    "    \"\"\"\n",
    "    aligned_calexp_image = []\n",
    "    for i in range(len(calexp_image)):\n",
    "        aligned_calexp_image.append(warp_to_exposure(calexp_image[i], ref))\n",
    "    return aligned_calexp_image\n",
    "\n",
    "\n",
    "list_of_warps = aligned_calexp_to_ref(list_of_sing_exp, coadd_im)\n",
    "# We'll pick the first one in the list for the moment:\n",
    "single_exposure = list_of_sing_exp[0]\n",
    "rand_warp = list_of_warps[0]"
   ]
  },
  {
   "cell_type": "markdown",
   "id": "30e0abf1-8689-4edb-b3d8-350293d6a5c3",
   "metadata": {},
   "source": [
    "We will now find the zeropoints of the single exposure and coadd image. This is done as follows:"
   ]
  },
  {
   "cell_type": "code",
   "execution_count": null,
   "id": "0c66d900-02a8-49d3-9012-4f54f6f42b37",
   "metadata": {},
   "outputs": [],
   "source": [
    "ZP_sing_exp = list_of_sing_exp[0].getPhotoCalib().instFluxToMagnitude(1)\n",
    "ZP_coadd_exp = coadd_im.getPhotoCalib().instFluxToMagnitude(1)\n",
    "print(f\"Single Exposure ZP: {ZP_sing_exp}, Coadd ZP: {ZP_coadd_exp}\")"
   ]
  },
  {
   "cell_type": "markdown",
   "id": "dcd21361-1db5-4a34-a345-4efd7d27ba56",
   "metadata": {},
   "source": [
    "We'll now plot one of the single exposure images and its corresponding coadd on the same pixel grid. We will plot this for the *calibrated* images. These are all in units of nano-Jansky. "
   ]
  },
  {
   "cell_type": "code",
   "execution_count": null,
   "id": "e4bea693-2bef-4b31-90bd-be5577ac2921",
   "metadata": {},
   "outputs": [],
   "source": [
    "calib_sing_exposure = (\n",
    "    single_exposure.getPhotoCalib()\n",
    "    .calibrateImage(single_exposure.getMaskedImage())\n",
    "    .image.array\n",
    ")\n",
    "calib_rand_coadd = (\n",
    "    coadd_im.getPhotoCalib().calibrateImage(coadd_im.getMaskedImage()).image.array\n",
    ")\n",
    "calib_rand_warp = (\n",
    "    rand_warp.getPhotoCalib().calibrateImage(rand_warp.getMaskedImage()).image.array\n",
    ")\n",
    "\n",
    "fig, ax = pl.subplots(1, 2, figsize=(10, 5))\n",
    "ax[0].imshow(coadd_im.image.array, norm=LogNorm())\n",
    "ax[0].set_title(\"Coadd\", fontsize=12)\n",
    "ax[1].imshow(calib_rand_warp, norm=LogNorm())\n",
    "ax[1].set_title(\"Single Exposure\", fontsize=12)\n",
    "pl.suptitle(\n",
    "    f\"Median Pixel Values (in nJy):\\n\"\n",
    "    f\"Sing-exp: {str(np.round(np.nanmedian(calib_rand_warp),5))}, \"\n",
    "    + f\"Coadd: {str(np.round(np.nanmedian(calib_rand_coadd),5))}, \"\n",
    "    + f\"Per-pixel Ratio: {str(np.round(np.nanmedian(calib_rand_coadd/calib_rand_warp),5))}\"\n",
    ")\n",
    "pl.tight_layout()\n",
    "pl.show()"
   ]
  },
  {
   "cell_type": "code",
   "execution_count": null,
   "id": "8f6448d6-5a46-4d64-a69c-26b7c3067039",
   "metadata": {},
   "outputs": [],
   "source": [
    "def compare_calibrated_images(coadd, sing_exp, calib_coadd, calib_sing_exp):\n",
    "    \"\"\"\n",
    "    This function locates the brightest objects in the coadd image. Aperture photometry is then performed for these same positions in both the single\n",
    "    exposure and the coadd (on both calibrated and uncalibrated images). The ratio of fluxes should be equal to the ratio of zeropoints in the uncalibrated\n",
    "    case and equal to unity in the calibrated case.\n",
    "    Just taking the pixel ratios of the whole image produces the wrong result, as the ratios become dominated by noise in the pixels, hence only the\n",
    "    brightest pixels are used here.\n",
    "    :param coadd: Numpy array containing the coadd image values\n",
    "    :param sing_exp: Numpy array containing the single exposure values\n",
    "    :param calib_coadd: Numpy array containing the coadd image values, in units of nJy.\n",
    "    :param calib_sing_exp: Numpy array containing the single exposure values, in units of nJy.\n",
    "    :return: None\n",
    "    \"\"\"\n",
    "    x, y = peak_local_max(calib_coadd, threshold_rel=0.1, min_distance=100).T\n",
    "    apertures = CircularAperture(np.array([y, x]).T, 10)\n",
    "    photometry_calib_coadd = apertures.do_photometry(calib_coadd)[0]\n",
    "    photometry_calib_sing_exp = apertures.do_photometry(calib_sing_exp)[0]\n",
    "    photometry_coadd = apertures.do_photometry(coadd)[0]\n",
    "    photometry_sing_exp = apertures.do_photometry(sing_exp)[0]\n",
    "    # Now plotting the image with aperture positions overlaid, and the flux ratios of the coadd/single-exposure images.\n",
    "    fig, ax = pl.subplots(1, 3, figsize=(15, 4))\n",
    "    ax[0].imshow(calib_coadd, norm=LogNorm(), origin=\"lower\")\n",
    "    ax[0].scatter(y, x, c=\"k\", marker=\"x\", alpha=0.5)\n",
    "    ax[1].hist(photometry_calib_coadd / photometry_calib_sing_exp)\n",
    "    ax[1].set_title(\"Calibrated\")\n",
    "    ax[1].set_xlabel(\"Pixel Ratio of Coadd/Sing-exp (nJy/nJy)\")\n",
    "    ax[1].set_ylabel(\"Counts\")\n",
    "    ax[2].hist(photometry_coadd / photometry_sing_exp)\n",
    "    ax[2].set_xlabel(\"Pixel Ratio of Coadd/Sing-exp\")\n",
    "    ax[2].set_ylabel(\"Counts\")\n",
    "    ax[2].set_title(\"Uncalibrated\")\n",
    "    ax[2].scatter(10 ** (-(31.846 - 27) / 2.5), 1, c=\"k\", label=\"ZP Ratio (Flux Units)\")\n",
    "    ax[2].legend()\n",
    "    pl.show()\n",
    "\n",
    "\n",
    "compare_calibrated_images(\n",
    "    coadd_im.image.array, rand_warp.image.array, calib_rand_coadd, calib_rand_warp\n",
    ")"
   ]
  },
  {
   "cell_type": "markdown",
   "id": "a8d652c9-548a-49a7-841c-d56ff9e6dcdd",
   "metadata": {},
   "source": [
    "As expected, the calibrated images have pixel ratios ~1, and the single exposures have pixel ratios roughly equal to the ratio of zeropoints (in flux units)."
   ]
  }
 ],
 "metadata": {
  "kernelspec": {
   "display_name": "Python 3",
   "language": "python",
   "name": "python3"
  },
  "language_info": {
   "codemirror_mode": {
    "name": "ipython",
    "version": 3
   },
   "file_extension": ".py",
   "mimetype": "text/x-python",
   "name": "python",
   "nbconvert_exporter": "python",
   "pygments_lexer": "ipython3",
   "version": "3.10.7"
  }
 },
 "nbformat": 4,
 "nbformat_minor": 5
}
