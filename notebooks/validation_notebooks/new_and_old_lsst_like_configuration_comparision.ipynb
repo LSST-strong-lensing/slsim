{
 "cells": [
  {
   "cell_type": "code",
   "execution_count": 7,
   "metadata": {},
   "outputs": [],
   "source": [
    "import matplotlib.pyplot as plt\n",
    "from astropy.cosmology import FlatLambdaCDM\n",
    "from astropy.units import Quantity\n",
    "from slsim.Pipelines.skypy_pipeline import SkyPyPipeline\n",
    "from astropy.modeling.models import Linear1D, Exponential1D\n",
    "import numpy as np\n",
    "from skypy.galaxies import schechter_lf\n",
    "from astropy.table import vstack, Table"
   ]
  },
  {
   "cell_type": "markdown",
   "metadata": {},
   "source": [
    "## Define a cosmology and sky area"
   ]
  },
  {
   "cell_type": "code",
   "execution_count": 2,
   "metadata": {},
   "outputs": [],
   "source": [
    "# define a cosmology\n",
    "cosmology = FlatLambdaCDM(H0=70, Om0=0.3)\n",
    "\n",
    "# define a sky area\n",
    "sky_area = Quantity(value=1, unit=\"deg2\")"
   ]
  },
  {
   "cell_type": "markdown",
   "metadata": {},
   "source": [
    "## Plot Schechter functions"
   ]
  },
  {
   "cell_type": "code",
   "execution_count": 3,
   "metadata": {},
   "outputs": [
    {
     "data": {
      "image/png": "[encoded data removed]",
      "text/plain": [
       "<Figure size 432x288 with 1 Axes>"
      ]
     },
     "metadata": {
      "needs_background": "light"
     },
     "output_type": "display_data"
    }
   ],
   "source": [
    "z_range = np.linspace(0.0, 3.01, 100)\n",
    "## These are the parameters used in the lsst-like_new.yml file for 1st schechter\n",
    "# function for red galaxies.\n",
    "m_star = Linear1D(-0.80, -20.46)\n",
    "phi_star = Exponential1D(0.00278612, -1.05925)\n",
    "alpha, mag_lim = -0.53, 30\n",
    "redshift, magnitude = schechter_lf(\n",
    "    z_range, m_star, phi_star, alpha, mag_lim, sky_area, cosmology, noise=True\n",
    ")\n",
    "\n",
    "## These are the parameters used in the lsst-like_new.yml file for 2st schechter\n",
    "# function for red galaxies.\n",
    "m_star2 = -17\n",
    "phi_star2 = Exponential1D(0.00278612, -1.05925)\n",
    "alpha2, mag_lim2 = -1.31, 30\n",
    "redshift2, magnitude2 = schechter_lf(\n",
    "    z_range, m_star2, phi_star2, alpha2, mag_lim2, sky_area, cosmology, noise=True\n",
    ")\n",
    "\n",
    "\n",
    "# magnitude bins\n",
    "bins = np.linspace(-24, -14, 40)\n",
    "z_min = z_range[0]\n",
    "z_max = z_range[-1]\n",
    "# Redshift grid\n",
    "z = np.linspace(z_min, z_max, 200)\n",
    "\n",
    "# SkyPy simulated galaxies\n",
    "\n",
    "# 1st schechter function\n",
    "z_mask = np.logical_and(redshift >= z_min, redshift < z_max)\n",
    "dV_dz = (cosmology.differential_comoving_volume(z) * sky_area).to_value(\"Mpc3\")\n",
    "dV = np.trapz(dV_dz, z)\n",
    "dM = (np.max(bins) - np.min(bins)) / (np.size(bins) - 1)\n",
    "phi_first_red = np.histogram(magnitude[z_mask], bins=bins)[0] / dV / dM\n",
    "\n",
    "# 2nd schechter function\n",
    "z_mask2 = np.logical_and(redshift2 >= z_min, redshift2 < z_max)\n",
    "dV_dz2 = (cosmology.differential_comoving_volume(z) * sky_area).to_value(\"Mpc3\")\n",
    "dV2 = np.trapz(dV_dz2, z)\n",
    "dM2 = (np.max(bins) - np.min(bins)) / (np.size(bins) - 1)\n",
    "phi_second_red = np.histogram(magnitude2[z_mask2], bins=bins)[0] / dV2 / dM2\n",
    "\n",
    "# combined schechterfunction\n",
    "redshift3 = np.concatenate((redshift, redshift2))\n",
    "magnitude3 = np.concatenate((magnitude, magnitude2))\n",
    "z_mask3 = np.logical_and(redshift3 >= z_min, redshift3 < z_max)\n",
    "dV_dz3 = (cosmology.differential_comoving_volume(z) * sky_area).to_value(\"Mpc3\")\n",
    "dV3 = np.trapz(dV_dz3, z)\n",
    "dM3 = (np.max(bins) - np.min(bins)) / (np.size(bins) - 1)\n",
    "phi_combined_red = np.histogram(magnitude3[z_mask3], bins=bins)[0] / dV3 / dM3\n",
    "\n",
    "\n",
    "# Plotting\n",
    "plt.step(bins[:-1], phi_first_red, where=\"post\", label=\"1st SF for red galaxies\")\n",
    "plt.step(bins[:-1], phi_second_red, where=\"post\", label=\"2nd SF for red galaxies\")\n",
    "plt.step(\n",
    "    bins[:-1],\n",
    "    phi_combined_red,\n",
    "    where=\"post\",\n",
    "    label=\"Combined SF\",\n",
    "    ls=\"--\",\n",
    "    color=\"magenta\",\n",
    ")\n",
    "\n",
    "plt.xlabel(r\"$M_B$\")\n",
    "plt.ylabel(r\"$\\Phi \\, [\\mathrm{Mpc}^{-3} \\, \\mathrm{mag}^{-1}]$\")\n",
    "plt.yscale(\"log\")\n",
    "# plt.xlim([-14, -24])\n",
    "# plt.ylim([3e-7, 3e-2])\n",
    "plt.gca().invert_xaxis()\n",
    "\n",
    "plt.legend(loc=\"lower right\")\n",
    "plt.show()"
   ]
  },
  {
   "cell_type": "markdown",
   "metadata": {},
   "source": [
    "## Get galaxy distribution from SkyPyPipeline"
   ]
  },
  {
   "cell_type": "code",
   "execution_count": 12,
   "metadata": {},
   "outputs": [],
   "source": [
    "## For the red galaxies, this configuration uses combined Schechter\n",
    "# function (magenta curve in above plot).\n",
    "pipeline_double = SkyPyPipeline(\n",
    "    skypy_config=\"lsst_like_new\", sky_area=None, filters=None, cosmo=cosmology\n",
    ")\n",
    "## For the red galaxies, this configuration uses single Schechter\n",
    "# function (blue curve in above plot).\n",
    "pipeline_single = SkyPyPipeline(\n",
    "    skypy_config=\"lsst_like_old\", sky_area=None, filters=None, cosmo=cosmology\n",
    ")"
   ]
  },
  {
   "cell_type": "code",
   "execution_count": 13,
   "metadata": {},
   "outputs": [],
   "source": [
    "## Let's draw red galaxies from these two different Schechter function.\n",
    "red_galaxies_double = pipeline_double.red_galaxies\n",
    "red_galaxies_single = pipeline_single.red_galaxies"
   ]
  },
  {
   "cell_type": "code",
   "execution_count": 14,
   "metadata": {},
   "outputs": [],
   "source": [
    "# These are all galaxies from from two cases.\n",
    "single_total = vstack([pipeline_single.red_galaxies, pipeline_single.blue_galaxies])\n",
    "double_total = vstack([pipeline_double.red_galaxies, pipeline_double.blue_galaxies])"
   ]
  },
  {
   "cell_type": "code",
   "execution_count": 15,
   "metadata": {},
   "outputs": [
    {
     "data": {
      "text/plain": [
       "<matplotlib.legend.Legend at 0x7fcdb9c0e310>"
      ]
     },
     "execution_count": 15,
     "metadata": {},
     "output_type": "execute_result"
    },
    {
     "data": {
      "image/png": "[encoded data removed]",
      "text/plain": [
       "<Figure size 432x288 with 1 Axes>"
      ]
     },
     "metadata": {
      "needs_background": "light"
     },
     "output_type": "display_data"
    }
   ],
   "source": [
    "## Plot red galaxy distributions from single Schechter function and double Schcheter\n",
    "# functions.\n",
    "plt.hist(\n",
    "    red_galaxies_double[\"z\"],\n",
    "    bins=50,\n",
    "    histtype=\"step\",\n",
    "    label=\"Red galaxy distribution from double SF\",\n",
    "    color=\"magenta\",\n",
    ")\n",
    "plt.hist(\n",
    "    red_galaxies_single[\"z\"],\n",
    "    bins=50,\n",
    "    histtype=\"step\",\n",
    "    label=\"Red galaxy distribution from single SF\",\n",
    ")\n",
    "plt.xlabel(\"Redshift (z)\")\n",
    "plt.ylabel(\"Number (N)\")\n",
    "plt.legend()"
   ]
  },
  {
   "cell_type": "code",
   "execution_count": 17,
   "metadata": {},
   "outputs": [
    {
     "data": {
      "text/plain": [
       "<matplotlib.legend.Legend at 0x7fcdba33cfa0>"
      ]
     },
     "execution_count": 17,
     "metadata": {},
     "output_type": "execute_result"
    },
    {
     "data": {
      "image/png": "[encoded data removed]",
      "text/plain": [
       "<Figure size 432x288 with 1 Axes>"
      ]
     },
     "metadata": {
      "needs_background": "light"
     },
     "output_type": "display_data"
    }
   ],
   "source": [
    "plt.hist(\n",
    "    double_total[\"z\"],\n",
    "    bins=50,\n",
    "    density=False,\n",
    "    histtype=\"step\",\n",
    "    label=\"all galaxy distribution from double SF\",\n",
    "    color=\"magenta\",\n",
    ")\n",
    "plt.hist(\n",
    "    single_total[\"z\"],\n",
    "    bins=50,\n",
    "    density=False,\n",
    "    histtype=\"step\",\n",
    "    label=\"all galaxy distribution from single SF\",\n",
    ")\n",
    "\"\"\"plt.hist(dc2_galaxies[\"redshift_true\"], bins=50, density=True, histtype=\"step\",\n",
    "            label=\"DC2 galaxy distribution\")\"\"\"\n",
    "plt.xlabel(\"Redshift (z)\")\n",
    "plt.ylabel(\"Number (N)\")\n",
    "plt.legend(loc=\"lower center\")"
   ]
  },
  {
   "cell_type": "code",
   "execution_count": null,
   "metadata": {},
   "outputs": [],
   "source": []
  }
 ],
 "metadata": {
  "kernelspec": {
   "display_name": "base",
   "language": "python",
   "name": "python3"
  },
  "language_info": {
   "codemirror_mode": {
    "name": "ipython",
    "version": 3
   },
   "file_extension": ".py",
   "mimetype": "text/x-python",
   "name": "python",
   "nbconvert_exporter": "python",
   "pygments_lexer": "ipython3",
   "version": "3.9.7"
  }
 },
 "nbformat": 4,
 "nbformat_minor": 2
}
