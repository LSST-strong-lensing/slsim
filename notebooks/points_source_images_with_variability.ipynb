{
 "cells": [
  {
   "cell_type": "code",
   "execution_count": null,
   "id": "9b7b374b-a1a7-40e4-88bd-484247d1949d",
   "metadata": {
    "execution": {
     "iopub.execute_input": "2023-09-26T16:04:52.355540Z",
     "iopub.status.busy": "2023-09-26T16:04:52.354851Z",
     "iopub.status.idle": "2023-09-26T16:04:52.360299Z",
     "shell.execute_reply": "2023-09-26T16:04:52.359645Z",
     "shell.execute_reply.started": "2023-09-26T16:04:52.355512Z"
    },
    "tags": []
   },
   "outputs": [],
   "source": [
    "import numpy as np\n",
    "from astropy.cosmology import FlatLambdaCDM\n",
    "from astropy.units import Quantity\n",
    "from slsim.lens_pop import LensPop\n",
    "from slsim.image_simulation import sharp_image\n",
    "from slsim.image_simulation import point_source_image_with_variability\n",
    "from slsim.Plots.plot_functions import create_image_montage_from_image_list\n",
    "from slsim.Util.param_util import convolved_image\n",
    "import lsst.daf.butler as dafButler\n",
    "import lsst.geom as geom\n",
    "from slsim import lsst_science_pipeline"
   ]
  },
  {
   "cell_type": "markdown",
   "id": "bbea940b-13e3-4ad3-a0a3-035060d490d1",
   "metadata": {},
   "source": [
    "## Point source image simulation"
   ]
  },
  {
   "cell_type": "markdown",
   "id": "edb76f70-ded5-46ae-880b-26184f0d1246",
   "metadata": {},
   "source": [
    "This notebook shows how one can use slsim to simulate lensed images of point source and can add variability to them. For this, we should follow these steps:\n",
    "\n",
    "1. Generate Point source lens population.\n",
    "2. Select a random lens.\n",
    "3. Extract psf kernels from a dp0 image or provide your own psf kernels\n",
    "4. simulate point source image using information from point 3."
   ]
  },
  {
   "cell_type": "markdown",
   "id": "069f6774-2e13-4657-a923-7fe7fbd2d265",
   "metadata": {},
   "source": [
    "## Generate point source lens population"
   ]
  },
  {
   "cell_type": "markdown",
   "id": "f228b83b-3b62-4cd0-95dc-4032549c86d7",
   "metadata": {},
   "source": [
    "Here we use LensPop class to generate point source lens. "
   ]
  },
  {
   "cell_type": "code",
   "execution_count": null,
   "id": "311e289a-fa59-4da4-abc2-c0e696f318d5",
   "metadata": {
    "execution": {
     "iopub.execute_input": "2023-09-26T15:36:00.545365Z",
     "iopub.status.busy": "2023-09-26T15:36:00.544595Z",
     "iopub.status.idle": "2023-09-26T15:36:30.571145Z",
     "shell.execute_reply": "2023-09-26T15:36:30.570548Z",
     "shell.execute_reply.started": "2023-09-26T15:36:00.545338Z"
    },
    "tags": []
   },
   "outputs": [],
   "source": [
    "# define a cosmology\n",
    "cosmo = FlatLambdaCDM(H0=70, Om0=0.3)\n",
    "\n",
    "\n",
    "# define a sky area\n",
    "sky_area = Quantity(value=0.1, unit=\"deg2\")\n",
    "\n",
    "\n",
    "# define limits in the intrinsic deflector and source population (in addition to the skypy config\n",
    "# file)\n",
    "kwargs_deflector_cut = {\"band\": \"g\", \"band_max\": 23, \"z_min\": 0.01, \"z_max\": 2.5}\n",
    "kwargs_source_cut = {\"band\": \"g\", \"band_max\": 26, \"z_min\": 0.1, \"z_max\": 5.0}\n",
    "\n",
    "# run skypy pipeline and make galaxy-galaxy population class using LensPop\n",
    "gg_lens_pop = LensPop(\n",
    "    deflector_type=\"all-galaxies\",\n",
    "    source_type=\"quasars\",\n",
    "    kwargs_deflector_cut=kwargs_deflector_cut,\n",
    "    kwargs_source_cut=kwargs_source_cut,\n",
    "    variability_model=\"sinusoidal\",\n",
    "    kwargs_variability={\"amp\": 1, \"freq\": 0.5},\n",
    "    kwargs_mass2light=None,\n",
    "    skypy_config=None,\n",
    "    sky_area=sky_area,\n",
    "    cosmo=cosmo,\n",
    ")"
   ]
  },
  {
   "cell_type": "code",
   "execution_count": null,
   "id": "055e0e8b-1a86-4da1-b42a-6bb0830d59af",
   "metadata": {
    "execution": {
     "iopub.execute_input": "2023-09-26T15:36:35.530566Z",
     "iopub.status.busy": "2023-09-26T15:36:35.529765Z",
     "iopub.status.idle": "2023-09-26T15:36:35.835092Z",
     "shell.execute_reply": "2023-09-26T15:36:35.834301Z",
     "shell.execute_reply.started": "2023-09-26T15:36:35.530522Z"
    },
    "tags": []
   },
   "outputs": [],
   "source": [
    "kwargs_lens_cut = {\"min_image_separation\": 0.8, \"max_image_separation\": 10}\n",
    "rgb_band_list = [\"i\", \"r\", \"g\"]\n",
    "lens_class = gg_lens_pop.select_lens_at_random(**kwargs_lens_cut)"
   ]
  },
  {
   "cell_type": "code",
   "execution_count": null,
   "id": "775bd2f8-c08c-4315-9c4d-4bf1fcb2cefe",
   "metadata": {
    "execution": {
     "iopub.execute_input": "2023-09-26T17:25:21.333246Z",
     "iopub.status.busy": "2023-09-26T17:25:21.332389Z",
     "iopub.status.idle": "2023-09-26T17:25:21.351482Z",
     "shell.execute_reply": "2023-09-26T17:25:21.350868Z",
     "shell.execute_reply.started": "2023-09-26T17:25:21.333218Z"
    },
    "tags": []
   },
   "outputs": [],
   "source": [
    "image_r = sharp_image(\n",
    "    lens_class=lens_class,\n",
    "    band=rgb_band_list[0],\n",
    "    mag_zero_point=27,\n",
    "    delta_pix=0.2,\n",
    "    num_pix=101,\n",
    ")"
   ]
  },
  {
   "cell_type": "markdown",
   "id": "846a826e-c6b3-4ab8-9d6b-9514b9136efb",
   "metadata": {},
   "source": [
    "## Initiate Butler"
   ]
  },
  {
   "cell_type": "code",
   "execution_count": null,
   "id": "478fe7ac-18b0-4ce7-9f99-96f8fd26dc52",
   "metadata": {
    "execution": {
     "iopub.execute_input": "2023-09-26T15:38:12.274495Z",
     "iopub.status.busy": "2023-09-26T15:38:12.274189Z",
     "iopub.status.idle": "2023-09-26T15:38:15.082163Z",
     "shell.execute_reply": "2023-09-26T15:38:15.081425Z",
     "shell.execute_reply.started": "2023-09-26T15:38:12.274471Z"
    },
    "tags": []
   },
   "outputs": [],
   "source": [
    "config = \"dp02\"\n",
    "collection = \"2.2i/runs/DP0.2\"\n",
    "butler = dafButler.Butler(config, collections=collection)\n",
    "skymap = butler.get(\"skyMap\")"
   ]
  },
  {
   "cell_type": "code",
   "execution_count": null,
   "id": "de6373cc-81cb-4b78-b344-9efb3ec25c35",
   "metadata": {
    "execution": {
     "iopub.execute_input": "2023-09-26T16:03:33.385681Z",
     "iopub.status.busy": "2023-09-26T16:03:33.385368Z",
     "iopub.status.idle": "2023-09-26T16:03:43.613609Z",
     "shell.execute_reply": "2023-09-26T16:03:43.612906Z",
     "shell.execute_reply.started": "2023-09-26T16:03:33.385658Z"
    },
    "tags": []
   },
   "outputs": [],
   "source": [
    "config = \"dp02\"\n",
    "collection = \"2.2i/runs/DP0.2\"\n",
    "butler = dafButler.Butler(config, collections=collection)\n",
    "skymap = butler.get(\"skyMap\")\n",
    "\n",
    "# Near the center of DC2\n",
    "ra = 62.541629  # degrees\n",
    "dec = -37.852021  # degrees\n",
    "point = geom.SpherePoint(ra, dec, geom.degrees)\n",
    "cutoutSize = geom.ExtentI(101, 101)\n",
    "# print(cutoutSize)\n",
    "\n",
    "\n",
    "# Read this from the table we have at hand...\n",
    "tractInfo = skymap.findTract(point)\n",
    "patchInfo = tractInfo.findPatch(point)\n",
    "my_tract = tractInfo.tract_id\n",
    "my_patch = patchInfo.getSequentialIndex()\n",
    "\n",
    "xy = geom.PointI(tractInfo.getWcs().skyToPixel(point))\n",
    "\n",
    "bbox = geom.BoxI(xy + cutoutSize // 2, cutoutSize)\n",
    "\n",
    "coaddId = {\"tract\": my_tract, \"patch\": my_patch, \"band\": \"i\"}\n",
    "coadd = butler.get(\"deepCoadd\", dataId=coaddId)\n",
    "coadd_cut = butler.get(\"deepCoadd\", parameters={\"bbox\": bbox}, dataId=coaddId)"
   ]
  },
  {
   "cell_type": "markdown",
   "id": "5758ced1-1c50-4c4e-87f8-eb4918eac010",
   "metadata": {},
   "source": [
    "## Extract psf of a dp0 image"
   ]
  },
  {
   "cell_type": "code",
   "execution_count": null,
   "id": "0a2583af-4e8a-43c0-af4f-fc78a72e27df",
   "metadata": {
    "execution": {
     "iopub.execute_input": "2023-09-26T17:25:33.845895Z",
     "iopub.status.busy": "2023-09-26T17:25:33.845088Z",
     "iopub.status.idle": "2023-09-26T17:25:33.854167Z",
     "shell.execute_reply": "2023-09-26T17:25:33.853616Z",
     "shell.execute_reply.started": "2023-09-26T17:25:33.845866Z"
    },
    "tags": []
   },
   "outputs": [],
   "source": [
    "transform_matrix = np.array([[0.2, 0], [0, 0.2]])\n",
    "psf_kernels = lsst_science_pipeline.cutout_image_psf_kernel(\n",
    "    coadd_cut,\n",
    "    lens_class,\n",
    "    band=\"i\",\n",
    "    mag_zero_point=27,\n",
    "    delta_pix=0.2,\n",
    "    num_pix=101,\n",
    "    transform_pix2angle=transform_matrix,\n",
    ")"
   ]
  },
  {
   "cell_type": "markdown",
   "id": "10415c6a-c930-4e54-aa36-f62cdbd10c51",
   "metadata": {},
   "source": [
    "## Set image observation times and image configuration"
   ]
  },
  {
   "cell_type": "code",
   "execution_count": null,
   "id": "91ab8127-5ddc-4b85-a7a5-b1327e119c95",
   "metadata": {
    "execution": {
     "iopub.execute_input": "2023-09-26T17:26:03.973940Z",
     "iopub.status.busy": "2023-09-26T17:26:03.973079Z",
     "iopub.status.idle": "2023-09-26T17:26:03.978230Z",
     "shell.execute_reply": "2023-09-26T17:26:03.977224Z",
     "shell.execute_reply.started": "2023-09-26T17:26:03.973902Z"
    },
    "tags": []
   },
   "outputs": [],
   "source": [
    "time = np.linspace(0, 50, 4)"
   ]
  },
  {
   "cell_type": "code",
   "execution_count": null,
   "id": "a76d7923",
   "metadata": {},
   "outputs": [],
   "source": [
    "# let's set up psf kernel for each exposure. Here we have taken the same psf that we\n",
    "# extracted above. However, each exposure can have different psf kernel and user should\n",
    "# provide corresponding psf kernel to each exposure.\n",
    "psf_kernel_1 = psf_kernels[\"psf_kernel_for_images\"][0]\n",
    "psf_kernel_2 = psf_kernels[\"psf_kernel_for_images\"][0]\n",
    "psf_kernel_3 = psf_kernels[\"psf_kernel_for_images\"][0]\n",
    "psf_kernel_4 = psf_kernels[\"psf_kernel_for_images\"][0]\n",
    "psf_kernels_all = np.array([psf_kernel_1, psf_kernel_2, psf_kernel_3, psf_kernel_4])\n",
    "\n",
    "# let's set pixel to angle transform matrix. Here we have taken the same matrix for\n",
    "# each exposure but user should provide corresponding transform matrix to each exposure.\n",
    "transform_matrix_1 = np.array([[0.2, 0], [0, 0.2]])\n",
    "transform_matrix_2 = np.array([[0.2, 0], [0, 0.2]])\n",
    "transform_matrix_3 = np.array([[0.2, 0], [0, 0.2]])\n",
    "transform_matrix_4 = np.array([[0.2, 0], [0, 0.2]])\n",
    "transform_matrix = np.array(\n",
    "    [transform_matrix_1, transform_matrix_2, transform_matrix_3, transform_matrix_4]\n",
    ")\n",
    "\n",
    "# provide magnitude zero point for each exposures. Here we have taken the same magnitude\n",
    "#  zero point for each exposure but user should provide the corresponding magnitude\n",
    "# zero point for each exposure.\n",
    "mag_zero_point_1 = 27\n",
    "mag_zero_point_2 = 27\n",
    "mag_zero_point_3 = 27\n",
    "mag_zero_point_4 = 27\n",
    "mag_zero_points = np.array(\n",
    "    [mag_zero_point_1, mag_zero_point_2, mag_zero_point_3, mag_zero_point_4]\n",
    ")"
   ]
  },
  {
   "cell_type": "code",
   "execution_count": null,
   "id": "c5167325-9ab5-4965-a754-959a513dffe0",
   "metadata": {
    "execution": {
     "iopub.execute_input": "2023-09-26T17:26:10.091791Z",
     "iopub.status.busy": "2023-09-26T17:26:10.091035Z",
     "iopub.status.idle": "2023-09-26T17:26:10.222128Z",
     "shell.execute_reply": "2023-09-26T17:26:10.221377Z",
     "shell.execute_reply.started": "2023-09-26T17:26:10.091763Z"
    },
    "tags": []
   },
   "outputs": [],
   "source": [
    "convolved_deflector_image = convolved_image(\n",
    "    image_r, psf_kernels[\"psf_kernel_for_deflector\"][0]\n",
    ")"
   ]
  },
  {
   "cell_type": "markdown",
   "id": "73fecf15-6e8e-4522-888d-9468799ca4e4",
   "metadata": {},
   "source": [
    "# Simulate point source images"
   ]
  },
  {
   "cell_type": "code",
   "execution_count": null,
   "id": "be93a4d2-0162-471b-9793-0f682af20293",
   "metadata": {
    "execution": {
     "iopub.execute_input": "2023-09-26T17:26:21.598491Z",
     "iopub.status.busy": "2023-09-26T17:26:21.597746Z",
     "iopub.status.idle": "2023-09-26T17:26:21.747556Z",
     "shell.execute_reply": "2023-09-26T17:26:21.746797Z",
     "shell.execute_reply.started": "2023-09-26T17:26:21.598464Z"
    },
    "tags": []
   },
   "outputs": [],
   "source": [
    "point_image = point_source_image_with_variability(\n",
    "    lens_class,\n",
    "    band=\"i\",\n",
    "    mag_zero_point=mag_zero_points,\n",
    "    delta_pix=0.2,\n",
    "    num_pix=101,\n",
    "    psf_kernels=psf_kernels_all,\n",
    "    transform_pix2angle=transform_matrix,\n",
    "    t_obs=time,\n",
    ")"
   ]
  },
  {
   "cell_type": "code",
   "execution_count": null,
   "id": "d66184f0-d4f0-4dc7-b9e8-9e80e1604d30",
   "metadata": {
    "execution": {
     "iopub.execute_input": "2023-09-26T17:26:27.439200Z",
     "iopub.status.busy": "2023-09-26T17:26:27.438381Z",
     "iopub.status.idle": "2023-09-26T17:26:27.449986Z",
     "shell.execute_reply": "2023-09-26T17:26:27.449191Z",
     "shell.execute_reply.started": "2023-09-26T17:26:27.439173Z"
    },
    "tags": []
   },
   "outputs": [],
   "source": [
    "final_images = []\n",
    "for i in range(len(time)):\n",
    "    final_images.append(\n",
    "        point_image[0][i] + point_image[1][i] + convolved_deflector_image\n",
    "    )"
   ]
  },
  {
   "cell_type": "code",
   "execution_count": null,
   "id": "bd9a6af0-1469-419d-a5d6-f6a7b8f11aac",
   "metadata": {
    "execution": {
     "iopub.execute_input": "2023-09-26T17:29:57.073151Z",
     "iopub.status.busy": "2023-09-26T17:29:57.072352Z",
     "iopub.status.idle": "2023-09-26T17:30:00.580746Z",
     "shell.execute_reply": "2023-09-26T17:30:00.580021Z",
     "shell.execute_reply.started": "2023-09-26T17:29:57.073122Z"
    },
    "tags": []
   },
   "outputs": [],
   "source": [
    "plot_montage = create_image_montage_from_image_list(\n",
    "    num_rows=2, num_cols=2, images=final_images, time=time\n",
    ")"
   ]
  },
  {
   "cell_type": "code",
   "execution_count": null,
   "id": "801f1abd-89c4-4af7-87b0-4c5c490d8ed5",
   "metadata": {},
   "outputs": [],
   "source": []
  }
 ],
 "metadata": {
  "kernelspec": {
   "display_name": "base",
   "language": "python",
   "name": "python3"
  },
  "language_info": {
   "codemirror_mode": {
    "name": "ipython",
    "version": 3
   },
   "file_extension": ".py",
   "mimetype": "text/x-python",
   "name": "python",
   "nbconvert_exporter": "python",
   "pygments_lexer": "ipython3",
   "version": "3.9.7"
  }
 },
 "nbformat": 4,
 "nbformat_minor": 5
}
