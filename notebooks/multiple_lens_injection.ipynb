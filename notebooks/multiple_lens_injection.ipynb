{
 "cells": [
  {
   "cell_type": "code",
   "execution_count": null,
   "id": "189d8ff5",
   "metadata": {
    "execution": {
     "iopub.execute_input": "2023-09-11T20:16:30.947422Z",
     "iopub.status.busy": "2023-09-11T20:16:30.946492Z",
     "iopub.status.idle": "2023-09-11T20:16:30.951261Z",
     "shell.execute_reply": "2023-09-11T20:16:30.950602Z",
     "shell.execute_reply.started": "2023-09-11T20:16:30.947393Z"
    },
    "tags": []
   },
   "outputs": [],
   "source": [
    "from astropy.cosmology import FlatLambdaCDM\n",
    "from astropy.units import Quantity\n",
    "from slsim.lens_pop import LensPop\n",
    "import lsst.daf.butler as dafButler\n",
    "from slsim import lsst_science_pipeline\n",
    "from slsim.Util import param_util"
   ]
  },
  {
   "cell_type": "markdown",
   "id": "2f164b6d",
   "metadata": {},
   "source": [
    "## Lens injection in multiple DC2 cutout images"
   ]
  },
  {
   "cell_type": "markdown",
   "id": "027203f9-6553-4367-a2ed-f0941b77d2a1",
   "metadata": {},
   "source": [
    "In this notebook, we will show how one can inject simulated lenses to multiple DC2 cutout images and\n",
    "\n",
    "create a catalog of strong lense. and create a catalog of strong lense."
   ]
  },
  {
   "cell_type": "markdown",
   "id": "a0a7eae2-ba50-40e1-bdd4-d2e7b5d3e6fd",
   "metadata": {},
   "source": [
    "For this, we should follow following steps:\n",
    "1. Create a lens population using slsim\n",
    "2. Generate random ra and dec using random_ra_dec function in RSP module\n",
    "3. Then, finally one can should call multiple_lens_injection function in RSP module"
   ]
  },
  {
   "cell_type": "markdown",
   "id": "771e867f-f9d7-4c76-aa91-ddd8f632e11c",
   "metadata": {},
   "source": [
    "## Generate Galaxy-Galaxy Lens Population"
   ]
  },
  {
   "cell_type": "code",
   "execution_count": null,
   "id": "fa56bba0-3c25-4f89-baf9-2cf589a6a9ae",
   "metadata": {
    "execution": {
     "iopub.execute_input": "2023-09-11T21:41:33.297845Z",
     "iopub.status.busy": "2023-09-11T21:41:33.296693Z",
     "iopub.status.idle": "2023-09-11T21:42:05.047841Z",
     "shell.execute_reply": "2023-09-11T21:42:05.046920Z",
     "shell.execute_reply.started": "2023-09-11T21:41:33.297805Z"
    },
    "tags": []
   },
   "outputs": [],
   "source": [
    "# define a cosmology\n",
    "cosmo = FlatLambdaCDM(H0=70, Om0=0.3)\n",
    "\n",
    "# define a sky area\n",
    "sky_area = Quantity(value=0.1, unit=\"deg2\")\n",
    "\n",
    "# define limits in the intrinsic deflector and source population (in addition to the skypy config\n",
    "# file)\n",
    "kwargs_deflector_cut = {\"band\": \"g\", \"band_max\": 22, \"z_min\": 0.01, \"z_max\": 2.5}\n",
    "kwargs_source_cut = {\"band\": \"g\", \"band_max\": 22, \"z_min\": 0.1, \"z_max\": 5.0}\n",
    "\n",
    "# run skypy pipeline and make galaxy-galaxy population class using LensPop\n",
    "gg_lens_pop = LensPop(\n",
    "    deflector_type=\"all-galaxies\",\n",
    "    source_type=\"galaxies\",\n",
    "    kwargs_deflector_cut=kwargs_deflector_cut,\n",
    "    kwargs_source_cut=kwargs_source_cut,\n",
    "    kwargs_mass2light=None,\n",
    "    skypy_config=None,\n",
    "    sky_area=sky_area,\n",
    "    cosmo=cosmo,\n",
    ")"
   ]
  },
  {
   "cell_type": "markdown",
   "id": "0c2cd6cf-3065-4f0a-bb5b-8aa0bb0dac0e",
   "metadata": {
    "execution": {
     "iopub.execute_input": "2023-08-01T17:59:04.135584Z",
     "iopub.status.busy": "2023-08-01T17:59:04.134551Z",
     "iopub.status.idle": "2023-08-01T17:59:04.138486Z",
     "shell.execute_reply": "2023-08-01T17:59:04.137842Z",
     "shell.execute_reply.started": "2023-08-01T17:59:04.135552Z"
    },
    "tags": []
   },
   "source": [
    "## Initiate Butler\n",
    "Butler is necessary to access and process DC2 data. So, one needs to initiate it. To initiate butler,\n",
    "\n",
    "one needs to specify data configuration and data collection. Here we configure Rubin Observatory’s \n",
    "\n",
    "Data Preview 0.2 (dp02) . Data Preview 0 (dp0) is the first of three data previews during the period\n",
    "\n",
    "leading up to the start of Rubin Observatory Operations. With the new release of dp0 data, one can \n",
    "\n",
    "use the new version in the future.Butler is necessary to access and process DC2 data. So, one needs \n",
    "\n",
    "to initiate it. To initiate butler, one needs to specify data configuration and data collection. \n",
    "\n",
    "Here we configure Rubin Observatory’s Data Preview 0.2 (dp02) . Data Preview 0 (dp0) is the first of \n",
    "\n",
    "three data previews during the period leading up to the start of Rubin Observatory Operations. With \n",
    "\n",
    "the new release of dp0 data, one can use the new version in the future."
   ]
  },
  {
   "cell_type": "code",
   "execution_count": null,
   "id": "e3949b8c-f611-4c47-8a64-f9c14150b8b5",
   "metadata": {
    "execution": {
     "iopub.execute_input": "2023-09-11T21:32:28.853045Z",
     "iopub.status.busy": "2023-09-11T21:32:28.852628Z",
     "iopub.status.idle": "2023-09-11T21:32:31.180871Z",
     "shell.execute_reply": "2023-09-11T21:32:31.180166Z",
     "shell.execute_reply.started": "2023-09-11T21:32:28.853018Z"
    },
    "tags": []
   },
   "outputs": [],
   "source": [
    "config = \"dp02\"\n",
    "collection = \"2.2i/runs/DP0.2\"\n",
    "butler = dafButler.Butler(config, collections=collection)\n",
    "skymap = butler.get(\"skyMap\")"
   ]
  },
  {
   "cell_type": "markdown",
   "id": "82086a3a-0b45-4d3a-b399-d230d6faefb3",
   "metadata": {},
   "source": [
    "## Import lsst_science_pipeline module\n",
    "This module can be used to do all the operation necessary for the lens injection in DC2 data.\n",
    "We will choose \n",
    "\n",
    "100 random ra, dec pair in the DC2 data and we inject random gg lenses in these ra, dec position. \n",
    "\n",
    "Injected_lens_catalog contains following images and information,\n"
   ]
  },
  {
   "cell_type": "markdown",
   "id": "c4011827",
   "metadata": {},
   "source": [
    "1. Lens to be injected in r-band.\n",
    "2. Corresponding DC2 cutout image in r-band.\n",
    "3. r, g, and i band DC2 cutout images with corresponding injected lenes.\n",
    "4. Center of the DC2 cutout images where lenses have been injected."
   ]
  },
  {
   "cell_type": "markdown",
   "id": "bf784f0a",
   "metadata": {},
   "source": [
    "lsst_science_pipeline module is imported at the top"
   ]
  },
  {
   "cell_type": "code",
   "execution_count": null,
   "id": "139df30e-bae2-48da-8da7-ee335a2891b1",
   "metadata": {
    "execution": {
     "iopub.execute_input": "2023-08-02T01:53:32.423724Z",
     "iopub.status.busy": "2023-08-02T01:53:32.422874Z",
     "iopub.status.idle": "2023-08-02T01:53:32.427068Z",
     "shell.execute_reply": "2023-08-02T01:53:32.426468Z",
     "shell.execute_reply.started": "2023-08-02T01:53:32.423685Z"
    },
    "tags": []
   },
   "outputs": [],
   "source": [
    "##provide minimum and maximum limits for ra and dec. Also, specify how many ra, dec pair you want.\n",
    "ra, dec = param_util.random_ra_dec(55, 70, -43, -30, 100)"
   ]
  },
  {
   "cell_type": "code",
   "execution_count": null,
   "id": "05e0e3e4-19d4-40e3-850a-67db60d08440",
   "metadata": {
    "execution": {
     "iopub.execute_input": "2023-08-02T01:53:37.938505Z",
     "iopub.status.busy": "2023-08-02T01:53:37.937684Z",
     "iopub.status.idle": "2023-08-02T02:07:23.471648Z",
     "shell.execute_reply": "2023-08-02T02:07:23.470845Z",
     "shell.execute_reply.started": "2023-08-02T01:53:37.938471Z"
    },
    "tags": []
   },
   "outputs": [],
   "source": [
    "## specify pixel number and pixel scale of the images. Here we have chosen 64 and 0.2 respectively.\n",
    "## We should choose pixel scale = 0.2 to match the pixel scale scale of DC2 data.\n",
    "## For this function one lens_cut. If not provided, default option is None.\n",
    "lens_cut = {\n",
    "    \"min_image_separation\": 0.8,\n",
    "    \"max_image_separation\": 10,\n",
    "    \"mag_arc_limit\": {\"g\": 23, \"r\": 23, \"i\": 23},\n",
    "}\n",
    "injected_lens_catalog = lsst_science_pipeline.multiple_lens_injection(\n",
    "    gg_lens_pop, 64, 0.2, ra, dec, butler, lens_cut=lens_cut, flux=None\n",
    ")"
   ]
  },
  {
   "cell_type": "code",
   "execution_count": null,
   "id": "8e5d2fa1-5109-4a9f-9b1e-122fe45cfc23",
   "metadata": {
    "execution": {
     "iopub.execute_input": "2023-08-02T02:07:30.691443Z",
     "iopub.status.busy": "2023-08-02T02:07:30.690645Z",
     "iopub.status.idle": "2023-08-02T02:07:30.698773Z",
     "shell.execute_reply": "2023-08-02T02:07:30.698044Z",
     "shell.execute_reply.started": "2023-08-02T02:07:30.691410Z"
    },
    "tags": []
   },
   "outputs": [],
   "source": [
    "## This line should display an astropy table containg lens image,dp0 cutout_image, injected_lens\n",
    "## in r, g, and i band and  center of the dp0 cutout images.\n",
    "injected_lens_catalog"
   ]
  },
  {
   "cell_type": "markdown",
   "id": "418d4f44-3085-47e1-8aa1-4dbe980cd7da",
   "metadata": {},
   "source": [
    "## Fast injection\n",
    "The function multiple_lens_injection() is capable of injecting multiple lenses to the multiple dp0 cutout images. \n",
    "\n",
    "This function injects one lens per tract/patch ID. So, for each lens, it needs to query dp0 data. The time taken\n",
    "\n",
    "by the lens injection process is mostly contributed by the dp0 data query. Therefore, it takes significantly \n",
    "\n",
    "large time to inject a given number of lenses to the dp0 cutouts. So, one can reduce the lens injection time by \n",
    "\n",
    "drawing multiple cutout images from the same tract/patch ID. This can be done by using the function \n",
    "\n",
    "multiple_lens_injection_fast() (see documentation for more detailed explanation)."
   ]
  },
  {
   "cell_type": "code",
   "execution_count": null,
   "id": "e71a8977-9496-444a-80bb-e255be0739c7",
   "metadata": {
    "execution": {
     "iopub.execute_input": "2023-09-11T21:52:49.068466Z",
     "iopub.status.busy": "2023-09-11T21:52:49.068075Z",
     "iopub.status.idle": "2023-09-11T21:55:24.522842Z",
     "shell.execute_reply": "2023-09-11T21:55:24.521993Z",
     "shell.execute_reply.started": "2023-09-11T21:52:49.068439Z"
    },
    "tags": []
   },
   "outputs": [],
   "source": [
    "## This line should display an astropy table containg lens image,dp0 cutout_image, injected_lens\n",
    "## in r, g, and i band and  center of the dp0 cutout images\n",
    "kwargs_lens_cut = {\n",
    "    \"min_image_separation\": 0.8,\n",
    "    \"max_image_separation\": 8,\n",
    "    \"mag_arc_limit\": {\"g\": 23, \"r\": 23, \"i\": 23},\n",
    "}\n",
    "ra_2, dec_2 = param_util.random_ra_dec(55, 70, -43, -30, 10)\n",
    "injected_lens_catalog_2 = lsst_science_pipeline.multiple_lens_injection_fast(\n",
    "    gg_lens_pop, 64, 0.2, butler, ra_2, dec_2, 10, kwargs_lens_cut, flux=None\n",
    ")\n",
    "injected_lens_catalog_2"
   ]
  },
  {
   "cell_type": "code",
   "execution_count": null,
   "id": "0039e3f1",
   "metadata": {},
   "outputs": [],
   "source": []
  }
 ],
 "metadata": {
  "kernelspec": {
   "display_name": "base",
   "language": "python",
   "name": "python3"
  },
  "language_info": {
   "codemirror_mode": {
    "name": "ipython",
    "version": 3
   },
   "file_extension": ".py",
   "mimetype": "text/x-python",
   "name": "python",
   "nbconvert_exporter": "python",
   "pygments_lexer": "ipython3",
   "version": "3.9.7"
  }
 },
 "nbformat": 4,
 "nbformat_minor": 5
}
