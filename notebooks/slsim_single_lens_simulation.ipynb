{
 "cells": [
  {
   "cell_type": "code",
   "execution_count": 1,
   "metadata": {},
   "outputs": [
    {
     "name": "stderr",
     "output_type": "stream",
     "text": [
      "/opt/anaconda3/lib/python3.9/site-packages/scipy/__init__.py:155: UserWarning: A NumPy version >=1.18.5 and <1.26.0 is required for this version of SciPy (detected version 1.26.4\n",
      "  warnings.warn(f\"A NumPy version >={np_minversion} and <{np_maxversion}\"\n"
     ]
    }
   ],
   "source": [
    "import matplotlib.pyplot as plt\n",
    "from astropy.cosmology import FlatLambdaCDM\n",
    "import numpy as np\n",
    "from slsim.Sources.source import Source\n",
    "from slsim.Deflectors.deflector import Deflector\n",
    "from slsim.lens import Lens\n",
    "from slsim.LOS.los_individual import LOSIndividual\n",
    "from slsim.image_simulation import lens_image, rgb_image_from_image_list\n",
    "from slsim.Util.param_util import gaussian_psf"
   ]
  },
  {
   "cell_type": "markdown",
   "metadata": {},
   "source": [
    "## Single lens simulation\n",
    "This notebook walks through the basics of simulating a galaxy-galaxy strong lens using users\n",
    "own lens parameters.\n",
    "\n",
    "The notebook goes in three steps:\n",
    "\n",
    "1. Prepare source and deflector dict of your lens. \n",
    "2. Initialize Source, Deflector, and LOSIndividual class\n",
    "3. Initialize Lens class\n",
    "4. Use Lens class from 3 in image simulation module to simulate image"
   ]
  },
  {
   "cell_type": "markdown",
   "metadata": {},
   "source": [
    "## Prepare source and deflector dict of your lens. "
   ]
  },
  {
   "cell_type": "code",
   "execution_count": 2,
   "metadata": {},
   "outputs": [],
   "source": [
    "# define a cosmology\n",
    "cosmo = FlatLambdaCDM(H0=70, Om0=0.3)"
   ]
  },
  {
   "cell_type": "code",
   "execution_count": 3,
   "metadata": {},
   "outputs": [],
   "source": [
    "# Source dict. You can also proviide magnitude in single band. This source dict is\n",
    "# valid for single sersic_ellipse light profile.\n",
    "source_dict = {\n",
    "    \"z\": 1.5,\n",
    "    \"angular_size\": 0.10887651129362959,  # effective radius of a source in arcsec\n",
    "    \"mag_g\": 22.5,  # g-band magnitude of a source\n",
    "    \"mag_r\": 22,  # r-band magnitude of a source\n",
    "    \"mag_i\": 22.2,  # i-band magnitude of a source\n",
    "    \"mag_z\": 22.1,  # z-band magnitude of a source\n",
    "    \"mag_y\": 22.0,  # y-band magnitude of a source\n",
    "    \"e1\": 0.0,  # tangential component of the ellipticity\n",
    "    \"e2\": 0.0,  # cross component of the ellipticity\n",
    "    \"n_sersic\": 1.5547096361698418,  # sersic index for sersic_ellipse profile\n",
    "    \"center_x\": 0.056053505877290584,  # x-position of the center of a source\n",
    "    \"center_y\": -0.08071283196326566,\n",
    "}  # y-position of the center of a source\n",
    "\n",
    "# Deflector dict. You can also provide magnitude in single band. This deflector dict is\n",
    "# valid for elliptical power law model.\n",
    "deflector_dict = {\n",
    "    \"z\": 0.5,\n",
    "    \"angular_size\": 0.09604418906529916,  # effective radius of the deflector in arcsec\n",
    "    \"mag_g\": 20.0,  # g-band magnitude of a deflector\n",
    "    \"mag_r\": 19.0,  # r-band magnitude of a deflector\n",
    "    \"mag_i\": 18.5,  # i-band magnitude of a deflector\n",
    "    \"mag_z\": 18.0,  # z-band magnitude of a deflector\n",
    "    \"mag_y\": 17.5,  # y-band magnitude of a deflector\n",
    "    \"theta_E\": 2,  # Einstein radius of the deflector\n",
    "    \"e1_light\": 0.09096489106609575,  # tangential component of the light ellipticity\n",
    "    \"e2_light\": 0.1489400739802363,  # cross component of the light ellipticity\n",
    "    \"e1_mass\": 0.1082427319496781,  # tangential component of the mass ellipticity\n",
    "    \"e2_mass\": 0.10051583213026649,  # cross component of the mass ellipticity\n",
    "    \"gamma_pl\": 2.0,  # power law slope in elliptical power law mass model\n",
    "    \"n_sersic\": 2.4362388918558664,  # sersic index of a sersic_ellipse profile of a deflector\n",
    "    \"center_x\": 0.10039720005025651,  # x-position of the center of the lens\n",
    "    \"center_y\": -0.0002092046265491892,  # y-position of the center of the lens\n",
    "}"
   ]
  },
  {
   "cell_type": "markdown",
   "metadata": {},
   "source": [
    "## Initialize Source, Deflector, and LOSIndividual class"
   ]
  },
  {
   "cell_type": "code",
   "execution_count": null,
   "metadata": {},
   "outputs": [],
   "source": [
    "source = Source(\n",
    "    source_dict=source_dict,\n",
    "    cosmo=cosmo,\n",
    "    source_type=\"extended\",\n",
    "    extendedsource_type=\"single_sersic\",\n",
    ")\n",
    "deflector = Deflector(\n",
    "    deflector_type=\"EPL\",\n",
    "    deflector_dict=deflector_dict,\n",
    ")\n",
    "los_class = LOSIndividual(kappa=0, gamma=[-0.005061965833762263, 0.028825761226555197])"
   ]
  },
  {
   "cell_type": "markdown",
   "metadata": {},
   "source": [
    "## Initialize Lens class"
   ]
  },
  {
   "cell_type": "code",
   "execution_count": 5,
   "metadata": {},
   "outputs": [],
   "source": [
    "# This is your lens. it contains all the information about your lensing configuration.\n",
    "lens_class = Lens(\n",
    "    source_class=source, deflector_class=deflector, cosmo=cosmo, los_class=los_class\n",
    ")"
   ]
  },
  {
   "cell_type": "markdown",
   "metadata": {},
   "source": [
    "## Use Lens class from 3 in image simulation module to simulate image"
   ]
  },
  {
   "cell_type": "code",
   "execution_count": 6,
   "metadata": {},
   "outputs": [],
   "source": [
    "# load your psf kernel and transform matrix.\n",
    "psf_kernel = gaussian_psf(fwhm=0.9, delta_pix=0.2, num_pix=41)\n",
    "\n",
    "# let's set pixel to angle transform matrix.\n",
    "transform_matrix = np.array([[0.2, 0], [0, 0.2]])\n",
    "\n",
    "# These numbers come from some random dp0 cutout variance map. User can use their values.\n",
    "bkg_std_i = (0.05774509,)  # i-band background noise\n",
    "bkg_std_r = 0.03247451  # r-band background noise\n",
    "bkg_std_g = 0.028600888  # g-band background noise"
   ]
  },
  {
   "cell_type": "markdown",
   "metadata": {},
   "source": [
    "## Simulate images in different bands"
   ]
  },
  {
   "cell_type": "code",
   "execution_count": 7,
   "metadata": {},
   "outputs": [],
   "source": [
    "image_i = lens_image(\n",
    "    lens_class=lens_class,\n",
    "    band=\"i\",\n",
    "    mag_zero_point=27,  # lsst coadd images have zero point magnitude of 27.\n",
    "    num_pix=61,\n",
    "    psf_kernel=psf_kernel,\n",
    "    transform_pix2angle=transform_matrix,\n",
    "    exposure_time=300,  # one can provide None\n",
    "    t_obs=None,\n",
    "    std_gaussian_noise=bkg_std_i,  # one can provide None\n",
    "    with_source=True,\n",
    "    with_deflector=True,\n",
    ")\n",
    "image_r = lens_image(\n",
    "    lens_class=lens_class,\n",
    "    band=\"r\",\n",
    "    mag_zero_point=27,\n",
    "    num_pix=61,\n",
    "    psf_kernel=psf_kernel,\n",
    "    transform_pix2angle=transform_matrix,\n",
    "    exposure_time=300,\n",
    "    t_obs=None,\n",
    "    std_gaussian_noise=bkg_std_r,\n",
    "    with_source=True,\n",
    "    with_deflector=True,\n",
    ")\n",
    "\n",
    "image_g = lens_image(\n",
    "    lens_class=lens_class,\n",
    "    band=\"g\",\n",
    "    mag_zero_point=27,\n",
    "    num_pix=61,\n",
    "    psf_kernel=psf_kernel,\n",
    "    transform_pix2angle=transform_matrix,\n",
    "    exposure_time=300,\n",
    "    t_obs=None,\n",
    "    std_gaussian_noise=bkg_std_g,\n",
    "    with_source=True,\n",
    "    with_deflector=True,\n",
    ")"
   ]
  },
  {
   "cell_type": "code",
   "execution_count": 8,
   "metadata": {},
   "outputs": [],
   "source": [
    "# Simulate rgb color image\n",
    "rgb_image = rgb_image_from_image_list([image_i, image_r, image_g], stretch=0.5)"
   ]
  },
  {
   "cell_type": "code",
   "execution_count": 9,
   "metadata": {},
   "outputs": [
    {
     "data": {
      "text/plain": [
       "<matplotlib.image.AxesImage at 0x13ef822b0>"
      ]
     },
     "execution_count": 9,
     "metadata": {},
     "output_type": "execute_result"
    },
    {
     "data": {
      "image/png": "[encoded data removed]",
      "text/plain": [
       "<Figure size 640x480 with 1 Axes>"
      ]
     },
     "metadata": {},
     "output_type": "display_data"
    }
   ],
   "source": [
    "## see rgb image. You can also see images in each band.\n",
    "plt.imshow(rgb_image, origin=\"lower\")"
   ]
  },
  {
   "cell_type": "code",
   "execution_count": null,
   "metadata": {},
   "outputs": [],
   "source": []
  }
 ],
 "metadata": {
  "kernelspec": {
   "display_name": "base",
   "language": "python",
   "name": "python3"
  },
  "language_info": {
   "codemirror_mode": {
    "name": "ipython",
    "version": 3
   },
   "file_extension": ".py",
   "mimetype": "text/x-python",
   "name": "python",
   "nbconvert_exporter": "python",
   "pygments_lexer": "ipython3",
   "version": "3.9.21"
  }
 },
 "nbformat": 4,
 "nbformat_minor": 2
}
