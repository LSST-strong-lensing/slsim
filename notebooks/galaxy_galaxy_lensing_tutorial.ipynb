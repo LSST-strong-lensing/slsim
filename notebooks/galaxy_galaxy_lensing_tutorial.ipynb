{
 "cells": [
  {
   "cell_type": "code",
   "execution_count": null,
   "metadata": {},
   "outputs": [],
   "source": [
    "import matplotlib.pyplot as plt\n",
    "from astropy.cosmology import FlatLambdaCDM\n",
    "from astropy.units import Quantity\n",
    "from slsim.lens_pop import LensPop\n",
    "from slsim.Plots.lens_plots import LensingPlots\n",
    "import numpy as np\n",
    "import corner"
   ]
  },
  {
   "cell_type": "markdown",
   "metadata": {},
   "source": [
    "# Galaxy-galaxy simulations\n",
    "\n",
    "This notebook walks through the basics of simulating a galaxy-galaxy strong lensing population.\n",
    "The underlying \n",
    "\n",
    "assumptions of the galaxy populations (for both lenses and sources) are drawn from a population pre-configured\n",
    "\n",
    " and rendered through [SkyPy](https://github.com/skypyproject/skypy). The specific settings are described in the [readme file](https://github.com/LSST-strong-lensing/slsim/tree/gg-lensing/data/SkyPy).\n",
    "\n",
    "The notebook goes in three steps:\n",
    "\n",
    "1. The populations of lenses and sources is produced.\n",
    "2. Random draws of the population are generated and realized as images\n",
    "3. The full population is generated in catalogue form\n",
    "4. the full population is represented in a corner plot\n",
    "\n"
   ]
  },
  {
   "cell_type": "markdown",
   "metadata": {},
   "source": [
    "## Generate population of galaxies and (potential) deflectors\n",
    "The LensPop() class in the slsim package is used to produce a set of galaxies (as lenses and sources)\n",
    "\n",
    "as seen on the sky within a certain sky area.\n",
    "We use the default SkyPy configuration file. Alternative configuration\n",
    "\n",
    "files can be used."
   ]
  },
  {
   "cell_type": "code",
   "execution_count": null,
   "metadata": {
    "execution": {
     "iopub.execute_input": "2023-07-10T22:02:02.025669Z",
     "iopub.status.busy": "2023-07-10T22:02:02.025321Z",
     "iopub.status.idle": "2023-07-10T22:02:35.987416Z",
     "shell.execute_reply": "2023-07-10T22:02:35.986246Z",
     "shell.execute_reply.started": "2023-07-10T22:02:02.025645Z"
    },
    "tags": []
   },
   "outputs": [],
   "source": [
    "# define a cosmology\n",
    "cosmo = FlatLambdaCDM(H0=70, Om0=0.3)\n",
    "\n",
    "# define a sky area\n",
    "sky_area = Quantity(value=0.1, unit=\"deg2\")\n",
    "\n",
    "\n",
    "# define limits in the intrinsic deflector and source population (in addition to the skypy config\n",
    "# file)\n",
    "kwargs_deflector_cut = {\"band\": \"g\", \"band_max\": 28, \"z_min\": 0.01, \"z_max\": 2.5}\n",
    "kwargs_source_cut = {\"band\": \"g\", \"band_max\": 28, \"z_min\": 0.1, \"z_max\": 5.0}\n",
    "\n",
    "# run skypy pipeline and make galaxy-galaxy population class using LensPop\n",
    "gg_lens_pop = LensPop(\n",
    "    deflector_type=\"all-galaxies\",\n",
    "    source_type=\"galaxies\",\n",
    "    kwargs_deflector_cut=kwargs_deflector_cut,\n",
    "    kwargs_source_cut=kwargs_source_cut,\n",
    "    kwargs_mass2light=None,\n",
    "    skypy_config=None,\n",
    "    sky_area=sky_area,\n",
    "    cosmo=cosmo,\n",
    ")"
   ]
  },
  {
   "cell_type": "markdown",
   "metadata": {},
   "source": [
    "## Generate images of random lenses\n",
    "The LensingPlots() class has the functionality to draw random lenses and makes an image of it.\n",
    "Currently\n",
    "\n",
    "default settings in lenstronomy are chosen for the LSST image settings. These will be able to be replaced with the\n",
    "\n",
    "LSST simulation tools."
   ]
  },
  {
   "cell_type": "code",
   "execution_count": null,
   "metadata": {
    "execution": {
     "iopub.execute_input": "2023-07-10T22:02:45.594772Z",
     "iopub.status.busy": "2023-07-10T22:02:45.593856Z",
     "iopub.status.idle": "2023-07-10T22:03:09.185852Z",
     "shell.execute_reply": "2023-07-10T22:03:09.184974Z",
     "shell.execute_reply.started": "2023-07-10T22:02:45.594734Z"
    },
    "tags": []
   },
   "outputs": [],
   "source": [
    "# make some cuts in the image separations and limited magnitudes of the arc\n",
    "kwargs_lens_cut_plot = {\n",
    "    \"min_image_separation\": 0.8,\n",
    "    \"max_image_separation\": 10,\n",
    "    \"mag_arc_limit\": {\"g\": 23, \"r\": 23, \"i\": 23},\n",
    "}\n",
    "\n",
    "\n",
    "gg_plot = LensingPlots(gg_lens_pop, num_pix=64, coadd_years=10)\n",
    "\n",
    "# generate montage indicating which bands are used for the rgb color image\n",
    "fig, axes = gg_plot.plot_montage(\n",
    "    rgb_band_list=[\"i\", \"r\", \"g\"],\n",
    "    add_noise=True,\n",
    "    n_horizont=5,\n",
    "    n_vertical=2,\n",
    "    kwargs_lens_cut=kwargs_lens_cut_plot,\n",
    ")\n",
    "plt.show()"
   ]
  },
  {
   "cell_type": "markdown",
   "metadata": {},
   "source": [
    "## Generate the full population\n",
    "We are using the instance of the LensPop() class to draw the full population within specified cuts in a Monte Carlo process."
   ]
  },
  {
   "cell_type": "code",
   "execution_count": null,
   "metadata": {
    "execution": {
     "iopub.execute_input": "2023-07-10T22:03:19.932376Z",
     "iopub.status.busy": "2023-07-10T22:03:19.932021Z",
     "iopub.status.idle": "2023-07-10T22:09:27.244984Z",
     "shell.execute_reply": "2023-07-10T22:09:27.244130Z",
     "shell.execute_reply.started": "2023-07-10T22:03:19.932352Z"
    },
    "tags": []
   },
   "outputs": [],
   "source": [
    "# specifying cuts of the population\n",
    "kwargs_lens_cuts = {\"mag_arc_limit\": {\"g\": 28}}\n",
    "# drawing population\n",
    "gg_lens_population = gg_lens_pop.draw_population(kwargs_lens_cuts=kwargs_lens_cuts)"
   ]
  },
  {
   "cell_type": "markdown",
   "metadata": {},
   "source": [
    "## Represent key quantities of full population in corner plots\n",
    "We calculate few key quantities of the lenses. The full population is represented each with a Lens() class\n",
    "\n",
    "object that allows to compute and return these (and more) quantities."
   ]
  },
  {
   "cell_type": "code",
   "execution_count": null,
   "metadata": {
    "execution": {
     "iopub.execute_input": "2023-07-10T22:13:14.161110Z",
     "iopub.status.busy": "2023-07-10T22:13:14.160678Z",
     "iopub.status.idle": "2023-07-10T22:13:14.212114Z",
     "shell.execute_reply": "2023-07-10T22:13:14.210992Z",
     "shell.execute_reply.started": "2023-07-10T22:13:14.161081Z"
    },
    "tags": []
   },
   "outputs": [],
   "source": [
    "print(\"Number of lenses:\", len(gg_lens_population))\n",
    "\n",
    "lens_samples = []\n",
    "labels = [\n",
    "    r\"$\\sigma_v$\",\n",
    "    r\"$\\log(M_{*})$\",\n",
    "    r\"$\\theta_E$\",\n",
    "    r\"$z_{\\rm l}$\",\n",
    "    r\"$z_{\\rm s}$\",\n",
    "    r\"$m_{\\rm source}$\",\n",
    "    r\"$m_{\\rm lens}$\",\n",
    "]\n",
    "\n",
    "for gg_lens in gg_lens_population:\n",
    "    vel_disp = gg_lens.deflector_velocity_dispersion()\n",
    "    m_star = gg_lens.deflector_stellar_mass()\n",
    "    theta_e = gg_lens.einstein_radius\n",
    "    zl = gg_lens.deflector_redshift\n",
    "    zs = gg_lens.source_redshift\n",
    "    source_mag = gg_lens.extended_source_magnitude(band=\"g\", lensed=True)\n",
    "    deflector_mag = gg_lens.deflector_magnitude(band=\"g\")\n",
    "    lens_samples.append(\n",
    "        [vel_disp, np.log10(m_star), theta_e, zl, zs, source_mag, deflector_mag]\n",
    "    )"
   ]
  },
  {
   "cell_type": "code",
   "execution_count": null,
   "metadata": {
    "execution": {
     "iopub.execute_input": "2023-07-10T22:13:17.491966Z",
     "iopub.status.busy": "2023-07-10T22:13:17.491075Z",
     "iopub.status.idle": "2023-07-10T22:13:20.234778Z",
     "shell.execute_reply": "2023-07-10T22:13:20.233839Z",
     "shell.execute_reply.started": "2023-07-10T22:13:17.491889Z"
    },
    "scrolled": true,
    "tags": []
   },
   "outputs": [],
   "source": [
    "hist2dkwargs = {\n",
    "    \"plot_density\": False,\n",
    "    \"plot_contours\": False,\n",
    "    \"plot_datapoints\": True,\n",
    "    \"color\": \"b\",\n",
    "    \"data_kwargs\": {\"ms\": 5},\n",
    "}\n",
    "corner.corner(np.array(lens_samples), labels=labels, **hist2dkwargs)\n",
    "plt.show()"
   ]
  },
  {
   "cell_type": "code",
   "execution_count": null,
   "metadata": {},
   "outputs": [],
   "source": []
  }
 ],
 "metadata": {
  "kernelspec": {
   "display_name": "base",
   "language": "python",
   "name": "python3"
  },
  "language_info": {
   "codemirror_mode": {
    "name": "ipython",
    "version": 3
   },
   "file_extension": ".py",
   "mimetype": "text/x-python",
   "name": "python",
   "nbconvert_exporter": "python",
   "pygments_lexer": "ipython3",
   "version": "3.9.7"
  }
 },
 "nbformat": 4,
 "nbformat_minor": 4
}
