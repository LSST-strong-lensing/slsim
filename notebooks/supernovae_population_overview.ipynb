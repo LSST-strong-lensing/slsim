{
 "cells": [
  {
   "cell_type": "markdown",
   "metadata": {},
   "source": [
    "### Initialization"
   ]
  },
  {
   "cell_type": "code",
   "execution_count": null,
   "metadata": {},
   "outputs": [],
   "source": [
    "from astropy.cosmology import FlatLambdaCDM\n",
    "from astropy.units import Quantity\n",
    "from astropy import units\n",
    "from slsim.lens_pop import LensPop\n",
    "import numpy as np\n",
    "import corner\n",
    "import matplotlib.pyplot as plt\n",
    "from scipy import stats\n",
    "import pandas as pd\n",
    "from distfit import distfit\n",
    "from matplotlib.ticker import NullFormatter\n",
    "import seaborn as sns\n",
    "from collections import Counter\n",
    "\n",
    "\n",
    "from slsim.Sources.Supernovae.supernovae_pop import SNIaRate\n",
    "from slsim.Sources.Supernovae.supernovae_pop import calculate_star_formation_rate\n",
    "from slsim.Sources.Supernovae.supernovae_pop import delay_time_distribution\n",
    "from slsim.Sources.Supernovae.supernovae_lightcone import SNeLightcone\n",
    "from slsim.Sources.galaxy_catalog import GalaxyCatalog\n",
    "from slsim.Sources.supernovae_host_match import SupernovaeHostMatch\n",
    "from slsim.Sources.SupernovaeCatalog.supernovae_sample import (\n",
    "    supernovae_host_galaxy_offset,\n",
    ")\n",
    "from slsim.lens import image_separation_from_positions\n",
    "from slsim.image_simulation import point_source_coordinate_properties\n",
    "from slsim.image_simulation import lens_image_series\n",
    "from slsim.Plots.plot_functions import create_image_montage_from_image_list\n",
    "import slsim.Pipelines as pipelines\n",
    "import slsim.Deflectors as deflectors\n",
    "from slsim.Sources.point_sources import PointSources\n",
    "from slsim.Sources.point_plus_extended_sources import PointPlusExtendedSources\n",
    "from slsim.Sources.SupernovaeCatalog.supernovae_sample import SupernovaeCatalog"
   ]
  },
  {
   "cell_type": "code",
   "execution_count": null,
   "metadata": {},
   "outputs": [],
   "source": [
    "# Plotting functions\n",
    "def plot(x, y, x_label, y_label, title, color, legend, label):\n",
    "    plt.plot(x, y, color=color, label=label)\n",
    "    plt.xlabel(x_label, fontsize=15)\n",
    "    plt.ylabel(y_label, fontsize=15)\n",
    "    plt.xticks(fontsize=15)\n",
    "    plt.yticks(fontsize=15)\n",
    "    plt.title(title, fontsize=\"15\")\n",
    "    if legend:\n",
    "        plt.legend(fontsize=15)\n",
    "\n",
    "\n",
    "def semilog(x, y, x_label, y_label, title, color, legend, label):\n",
    "    plt.semilogy(x, y, color=color, label=label)\n",
    "    plt.xlabel(x_label, fontsize=15)\n",
    "    plt.ylabel(y_label, fontsize=15)\n",
    "    plt.xticks(fontsize=15)\n",
    "    plt.yticks(fontsize=15)\n",
    "    plt.title(title, fontsize=\"15\")\n",
    "    if legend:\n",
    "        plt.legend(fontsize=15)\n",
    "\n",
    "\n",
    "def hist(x, x_label, y_label, title, legend, label, bins, color):\n",
    "    plt.hist(x, bins=bins, label=label, color=color)\n",
    "    plt.xlabel(x_label, fontsize=15)\n",
    "    plt.ylabel(y_label, fontsize=15)\n",
    "    plt.xticks(fontsize=15)\n",
    "    plt.yticks(fontsize=15)\n",
    "    plt.title(title, fontsize=\"15\")\n",
    "    if legend:\n",
    "        plt.legend(fontsize=15)\n",
    "\n",
    "\n",
    "def scatter(x, y, x_label, y_label, title, legend, label, color):\n",
    "    plt.scatter(x, y, label=label, color=color, s=10)\n",
    "    plt.xlabel(x_label, fontsize=15)\n",
    "    plt.ylabel(y_label, fontsize=15)\n",
    "    plt.xticks(fontsize=15)\n",
    "    plt.yticks(fontsize=15)\n",
    "    plt.title(title, fontsize=\"15\")\n",
    "    if legend:\n",
    "        plt.legend(fontsize=15)"
   ]
  },
  {
   "cell_type": "markdown",
   "metadata": {},
   "source": [
    "## Supernovae Ia Population Overview\n",
    "Within this overview notebook, we illustrate the process of SNe Ia population implementation and analyze the population distribution\n",
    "\n",
    "\n",
    "1. Number density calculation (SNIaRate Class)\n",
    "\n",
    "2. Lightcone integration (SNeLightcone Class)\n",
    "\n",
    "3. Host galaxy matching (SupernovaeHostMatch Class)\n",
    "\n",
    "4. Host galaxy offset distribution and selection (Requires download of Wang et al. 2013 SNe Ia sample from the resources section of the following link: https://www.science.org/doi/10.1126/science.1231502)\n",
    "\n",
    "5. Analyzing the population  \n",
    "(Requires download of the \"SALT3.NIR_WAVEEXT\" data folder\n",
    "from the following link: https://github.com/LSST-strong-lensing/data_public/tree/main/sncosmo_sn_models)\n",
    "\n",
    "6. Imaging the population\n"
   ]
  },
  {
   "cell_type": "markdown",
   "metadata": {},
   "source": [
    "## Number Density Calculation"
   ]
  },
  {
   "cell_type": "markdown",
   "metadata": {},
   "source": [
    "### Initialize the SNIaRate Class"
   ]
  },
  {
   "cell_type": "code",
   "execution_count": null,
   "metadata": {},
   "outputs": [],
   "source": [
    "# Define a cosmology\n",
    "cosmo = FlatLambdaCDM(70, 0.3)\n",
    "\n",
    "# Initialize the class\n",
    "sne_rate = SNIaRate(cosmo, 10)"
   ]
  },
  {
   "cell_type": "markdown",
   "metadata": {},
   "source": [
    "### Plots"
   ]
  },
  {
   "cell_type": "code",
   "execution_count": null,
   "metadata": {},
   "outputs": [],
   "source": [
    "# Define array of redshifts\n",
    "z_array = np.linspace(0, 13, 100)\n",
    "rate_list = []\n",
    "\n",
    "# Calculate star formation rate given redshift using the function 'calculate_star_formation_rate'\n",
    "for i in np.arange(100):\n",
    "    rate_list.append(calculate_star_formation_rate(z_array[i]))\n",
    "\n",
    "# Plot star formation rate as a function of redshift\n",
    "plot(\n",
    "    z_array,\n",
    "    rate_list,\n",
    "    \"z\",\n",
    "    r\"$\\rho_{SF}R$ $[ M_{\\odot} yr^{-1}Mpc^{-3}]$\",\n",
    "    \"z vs. \" r\"$\\rho_{SFR}$\",\n",
    "    \"black\",\n",
    "    False,\n",
    "    \"n/a\",\n",
    ")"
   ]
  },
  {
   "cell_type": "code",
   "execution_count": null,
   "metadata": {},
   "outputs": [],
   "source": [
    "# Define array of time delays\n",
    "t_d_array = np.linspace(0, 13, 100)\n",
    "dist_list = []\n",
    "\n",
    "# Calculate time delay distribution given time delay using the function 'delay_time_distribution'\n",
    "for i in np.arange(100):\n",
    "    dist_list.append(delay_time_distribution(t_d_array[i]))\n",
    "\n",
    "# Plot time delay distribution as a function of time delay\n",
    "plot(\n",
    "    t_d_array,\n",
    "    dist_list,\n",
    "    r\"$t_{d}$ [Gy]\",\n",
    "    r\"$f(t_{d})$ [Gy]\",\n",
    "    \"$f(t_{d})$ vs. $t_{d}$\",\n",
    "    \"black\",\n",
    "    False,\n",
    "    \"n/a\",\n",
    ")"
   ]
  },
  {
   "cell_type": "code",
   "execution_count": null,
   "metadata": {},
   "outputs": [],
   "source": [
    "# Define array of times\n",
    "t_array = np.linspace(0.1, 13, 1000)\n",
    "\n",
    "z_list = []\n",
    "\n",
    "# Calculate redshift given time using the class function 'z_from_t'\n",
    "for i in np.arange(1000):\n",
    "    z_list.append(sne_rate.z_from_time(t_array[i]))\n",
    "\n",
    "# Plot redshift as a function of time\n",
    "plot(\n",
    "    t_array,\n",
    "    z_list,\n",
    "    \"t [Gy]\",\n",
    "    \"z\",\n",
    "    \"z vs. t $(Om_{0} = 0.3)$\",\n",
    "    \"black\",\n",
    "    False,\n",
    "    r\"$H_{0}$=70\",\n",
    ")"
   ]
  },
  {
   "cell_type": "code",
   "execution_count": null,
   "metadata": {},
   "outputs": [],
   "source": [
    "# Define array of redshifts\n",
    "z_array = np.linspace(0, 10, 100)\n",
    "\n",
    "# Define \"little\" h\n",
    "h = cosmo.H(0).to_value() / 100\n",
    "\n",
    "# Calculate density given redshift using the class function 'calculate_SNIa_rate'\n",
    "density_list = sne_rate.calculate_SNIa_rate(z_array) * h\n",
    "\n",
    "# Plot number density vs. redshift (Replicating Fig. 2 - Oguri and Marshall 2010)\n",
    "semilog(\n",
    "    z_array,\n",
    "    density_list,\n",
    "    \"z\",\n",
    "    r\"$n_{Ia}$ $[yr^{-1}Mpc^{-3}]$\",\n",
    "    \"$n_{Ia}$ vs. z\",\n",
    "    \"black\",\n",
    "    False,\n",
    "    r\"$H_{0}$=70\",\n",
    ")\n",
    "plt.xlim(0, 4)\n",
    "plt.ylim(10e-6, 10e-4)"
   ]
  },
  {
   "cell_type": "markdown",
   "metadata": {},
   "source": [
    "## Lightcone Integration"
   ]
  },
  {
   "cell_type": "code",
   "execution_count": null,
   "metadata": {},
   "outputs": [],
   "source": [
    "# Define a cosmology\n",
    "cosmo = FlatLambdaCDM(70, 0.3)\n",
    "\n",
    "# Define redshift range of the lightcone (at the moment, i-band lightcurve upper limit = 2.379)\n",
    "redshifts = np.linspace(0, 2.379, 50)\n",
    "\n",
    "# Define sky area of the lightcone\n",
    "sky_area = Quantity(value=20, unit=\"deg2\")\n",
    "\n",
    "# Consider noise in lightcone integration\n",
    "noise = True\n",
    "\n",
    "# Define a time interval of the lightcone\n",
    "time_interval = 1 * units.year\n",
    "\n",
    "# Intialize lightcone class\n",
    "sne_lightcone = SNeLightcone(cosmo, redshifts, sky_area, noise, time_interval)\n",
    "\n",
    "# Generate supernovae catalog within the initialized lightcone using the class function 'supernovae_sample'\n",
    "lightcone_array = sne_lightcone.supernovae_sample()\n",
    "\n",
    "# Plot histogram of the number of obtained supernovae within the lightcone as a function of redshift\n",
    "label = \"SNe:{}, SkyArea:{}\".format(len(lightcone_array), sky_area.value)\n",
    "hist(\n",
    "    lightcone_array,\n",
    "    \"z\",\n",
    "    \"Number of SNe Ia [$yr^{-1}$]\",\n",
    "    \"SNe Ia Distribution\",\n",
    "    True,\n",
    "    label,\n",
    "    12,\n",
    "    None,\n",
    ")\n",
    "plt.xlim(0, 9)\n",
    "\n",
    "# Include i-band lightcurve cutoff line on the plot for clarity\n",
    "plt.axvline(x=2.379, color=\"red\", linestyle=\"--\", linewidth=2)\n",
    "\n",
    "print(np.shape(lightcone_array))"
   ]
  },
  {
   "cell_type": "markdown",
   "metadata": {},
   "source": [
    "## Host Galaxy Matching"
   ]
  },
  {
   "cell_type": "markdown",
   "metadata": {},
   "source": [
    "### Supernovae Catalog Generation"
   ]
  },
  {
   "cell_type": "code",
   "execution_count": null,
   "metadata": {},
   "outputs": [],
   "source": [
    "# Define a cosmology\n",
    "cosmo = FlatLambdaCDM(70, 0.3)\n",
    "\n",
    "# Define sky area\n",
    "sky_area = Quantity(value=1, unit=\"deg2\")\n",
    "\n",
    "# Initialize lightcone class\n",
    "sne_lightcone = SNeLightcone(\n",
    "    cosmo=cosmo,\n",
    "    redshifts=np.linspace(0, 2.379, 50),\n",
    "    sky_area=sky_area,\n",
    "    noise=True,\n",
    "    time_interval=1 * units.year,\n",
    ")\n",
    "\n",
    "# Generate supernovae catalog within the initialized lightcone using the class function 'supernovae_sample'\n",
    "supernovae_catalog = sne_lightcone.supernovae_sample()"
   ]
  },
  {
   "cell_type": "markdown",
   "metadata": {},
   "source": [
    "### Galaxy Catalog Generation"
   ]
  },
  {
   "cell_type": "code",
   "execution_count": null,
   "metadata": {},
   "outputs": [],
   "source": [
    "# Define sky area\n",
    "sky_area = Quantity(value=1, unit=\"deg2\")\n",
    "\n",
    "# Initialize galaxy catalog class\n",
    "galaxy_catalog = GalaxyCatalog(cosmo=cosmo, skypy_config=None, sky_area=sky_area)\n",
    "\n",
    "# Generate galaxy catalog within the using the class function 'galaxy_catalog'\n",
    "galaxy_catalog = galaxy_catalog.galaxy_catalog()"
   ]
  },
  {
   "cell_type": "markdown",
   "metadata": {},
   "source": [
    "### Catalog Matching"
   ]
  },
  {
   "cell_type": "code",
   "execution_count": null,
   "metadata": {},
   "outputs": [],
   "source": [
    "# Intialize SNe Ia host galaxy matching class\n",
    "sne_match = SupernovaeHostMatch(supernovae_catalog, galaxy_catalog)\n",
    "\n",
    "# Generate a catalog of SNe Ia matched with corresponding host galaxies using class function 'match'\n",
    "matched_catalog = sne_match.match()"
   ]
  },
  {
   "cell_type": "markdown",
   "metadata": {},
   "source": [
    "### Plot"
   ]
  },
  {
   "cell_type": "code",
   "execution_count": null,
   "metadata": {},
   "outputs": [],
   "source": [
    "plt.figure(figsize=(10, 5))\n",
    "\n",
    "# Plot log host galaxy stellar mass vs. redshift scatter plot\n",
    "# scatter(galaxy_catalog['z'], np.log10(galaxy_catalog['stellar_mass']), 'z', 'Log(Stellar Mass)', 'Host Galaxy z vs. Log(Stellar Mass)', True, 'All Candidates', None)\n",
    "# scatter(matched_catalog['z'], np.log10(matched_catalog['stellar_mass']), 'z', 'Log(Stellar Mass)', 'Host Galaxy z vs. Log(Stellar Mass)', True, 'Selected Hosts', 'red')\n",
    "\n",
    "# Plot log host galaxy stellar mass vs. redshift contour plot\n",
    "sns.kdeplot(\n",
    "    x=galaxy_catalog[\"z\"],\n",
    "    y=np.log10(galaxy_catalog[\"stellar_mass\"]),\n",
    "    color=None,\n",
    "    label=\"\",\n",
    "    legend=True,\n",
    ")\n",
    "sns.kdeplot(\n",
    "    x=matched_catalog[\"z\"],\n",
    "    y=np.log10(matched_catalog[\"stellar_mass\"]),\n",
    "    color=\"red\",\n",
    "    label=\"Selected Hosts\",\n",
    "    legend=True,\n",
    ")\n",
    "plt.title(\"Host Galaxy z vs. Log(Stellar Mass)\", fontsize=15)\n",
    "plt.xlabel(\"z\", fontsize=15)\n",
    "plt.ylabel(\"Log(Stellar Mass)\", fontsize=15)\n",
    "plt.xticks(fontsize=15)\n",
    "plt.yticks(fontsize=15)\n",
    "plt.legend(loc=\"lower right\", labels=[\"All Candidates\", \"Selected Hosts\"])"
   ]
  },
  {
   "cell_type": "markdown",
   "metadata": {},
   "source": [
    "## Host Galaxy Offset Distribution"
   ]
  },
  {
   "cell_type": "code",
   "execution_count": null,
   "metadata": {},
   "outputs": [],
   "source": [
    "# Import Wang et al. 2013 SNe Ia dataset\n",
    "file_path = \"C:/Users/Carly/Downloads/offset_data.csv\"  # '....../Downloads/data.csv'\n",
    "\n",
    "data = pd.read_csv(file_path, delimiter=\"\\t\")\n",
    "\n",
    "# Select the data in the offset ratio column\n",
    "data = np.array(data[\"R_sn/R_gal\"])"
   ]
  },
  {
   "cell_type": "code",
   "execution_count": null,
   "metadata": {},
   "outputs": [],
   "source": [
    "# Determine the parameters for a lognormal distribution fitted to the offset data\n",
    "dfit = distfit(distr=\"lognorm\")\n",
    "dfit.fit_transform(data)\n",
    "fig, ax = dfit.plot(chart=\"pdf\", fontsize=\"20\")"
   ]
  },
  {
   "cell_type": "code",
   "execution_count": null,
   "metadata": {},
   "outputs": [],
   "source": [
    "# Calculate a sample distribution of offset ratios drawn from the lognorm distribution\n",
    "offsets = list(stats.lognorm.rvs(0.764609, loc=-0.0284546, scale=0.450885, size=500))\n",
    "\n",
    "# Limit offset ratios to 3 or less\n",
    "offsets = [offset for offset in offsets if offset < 3]\n",
    "\n",
    "# Plot a histogram of offset ratios\n",
    "plt.hist(offsets, bins=15)"
   ]
  },
  {
   "cell_type": "markdown",
   "metadata": {},
   "source": [
    "## Host Galaxy Offset Selection"
   ]
  },
  {
   "cell_type": "markdown",
   "metadata": {},
   "source": [
    "### Calculate Offsets"
   ]
  },
  {
   "cell_type": "code",
   "execution_count": null,
   "metadata": {},
   "outputs": [],
   "source": [
    "# Calculate offsets for the matched catalog using the function 'supernovae_host_galaxy_offset'\n",
    "x_offset, y_offset, e1, e2 = supernovae_host_galaxy_offset(matched_catalog)"
   ]
  },
  {
   "cell_type": "markdown",
   "metadata": {},
   "source": [
    "### Plot"
   ]
  },
  {
   "cell_type": "code",
   "execution_count": null,
   "metadata": {},
   "outputs": [],
   "source": [
    "x = x_offset\n",
    "y = y_offset\n",
    "\n",
    "nullfmt = NullFormatter()\n",
    "\n",
    "# Set axes sizes\n",
    "left, width = 0.1, 0.65\n",
    "bottom, height = 0.1, 0.65\n",
    "bottom_h = left_h = left + width + 0.02\n",
    "\n",
    "rect_scatter = [left, bottom, width, height]\n",
    "rect_histx = [left, bottom_h, width, 0.2]\n",
    "rect_histy = [left_h, bottom, 0.2, height]\n",
    "\n",
    "# Set figure sizes and types\n",
    "plt.figure(1, figsize=(8, 8))\n",
    "\n",
    "axScatter = plt.axes(rect_scatter)\n",
    "axHistx = plt.axes(rect_histx)\n",
    "axHisty = plt.axes(rect_histy)\n",
    "\n",
    "axHistx.xaxis.set_major_formatter(nullfmt)\n",
    "axHisty.yaxis.set_major_formatter(nullfmt)\n",
    "\n",
    "# Plot the x and y offsets in a scatter plot\n",
    "axScatter.scatter(x, y)\n",
    "\n",
    "# Determine and set axes limits\n",
    "binwidth = 0.25\n",
    "xymax = np.max([np.max(np.fabs(x)), np.max(np.fabs(y))])\n",
    "lim = (int(xymax / binwidth) + 1) * binwidth\n",
    "\n",
    "axScatter.set_xlim((-4.5, 4.5))\n",
    "axScatter.set_ylim((-4.5, 4.5))\n",
    "\n",
    "# Set the number of bins in the outer histograms\n",
    "bins = np.arange(-4.5, 4.5 + binwidth, binwidth)\n",
    "axHistx.hist(x, bins=25)\n",
    "axHisty.hist(y, bins=25, orientation=\"horizontal\")\n",
    "\n",
    "axHistx.set_xlim(axScatter.get_xlim())\n",
    "axHisty.set_ylim(axScatter.get_ylim())\n",
    "\n",
    "# Calculate minimum, maximum, and mean host galaxy radii\n",
    "theta = np.linspace(0, 2 * np.pi, 100)\n",
    "r_mean = np.rad2deg(np.mean(matched_catalog[\"angular_size\"])) * units.deg\n",
    "r_min = np.rad2deg(np.min(matched_catalog[\"angular_size\"])) * units.deg\n",
    "r_max = np.rad2deg(np.max(matched_catalog[\"angular_size\"])) * units.deg\n",
    "r_mean = r_mean.to(units.arcsec)\n",
    "r_min = r_min.to(units.arcsec)\n",
    "r_max = r_max.to(units.arcsec)\n",
    "\n",
    "# Plot the radii\n",
    "x = r_min * np.cos(theta)\n",
    "y = r_min * np.sin(theta)\n",
    "axScatter.plot(x, y, color=\"red\", label=\"Minimum Radius\")\n",
    "\n",
    "x = r_mean * np.cos(theta)\n",
    "y = r_mean * np.sin(theta)\n",
    "axScatter.plot(x, y, color=\"black\", label=\"Mean Radius\")\n",
    "\n",
    "x = r_max * np.cos(theta)\n",
    "y = r_max * np.sin(theta)\n",
    "axScatter.plot(x, y, color=\"green\", label=\"Maximum Radius\")\n",
    "\n",
    "axScatter.set_xlabel(\"x [arcsec]\")\n",
    "axScatter.set_ylabel(\"y [arcsec]\")\n",
    "axScatter.legend()\n",
    "plt.show()"
   ]
  },
  {
   "cell_type": "markdown",
   "metadata": {},
   "source": [
    "## Analyzing the Population"
   ]
  },
  {
   "cell_type": "markdown",
   "metadata": {},
   "source": [
    "### Generate Lensed Population (Point Source)"
   ]
  },
  {
   "cell_type": "code",
   "execution_count": null,
   "metadata": {},
   "outputs": [],
   "source": [
    "# Define a cosmology\n",
    "cosmo = FlatLambdaCDM(H0=70, Om0=0.3)\n",
    "\n",
    "# Define sky area scaling\n",
    "sky_area = Quantity(value=30, unit=\"deg2\")\n",
    "\n",
    "# Define source and deflector sky areas\n",
    "source_sky_area = Quantity(value=1, unit=\"deg2\")\n",
    "deflector_sky_area = Quantity(value=1, unit=\"deg2\")\n",
    "\n",
    "# Define limits in the intrinsic deflector and source population (in addition to the\n",
    "# skypy config file)\n",
    "kwargs_deflector_cut = {\"z_min\": 0.01, \"z_max\": 2.379}\n",
    "kwargs_source_cut = {}\n",
    "\n",
    "# Create a point source lens population with 'LensPop'\n",
    "modeldir = \"/Users/narayankhadka/downloads/sncosmo_sn_models/SALT3.NIR_WAVEEXT\"  # ....../Downloads/SALT3.NIR_WAVEEXT/"
   ]
  },
  {
   "cell_type": "code",
   "execution_count": null,
   "metadata": {},
   "outputs": [],
   "source": [
    "# Generate galaxy population using skypy pipeline which will be used here as deflectors.\n",
    "galaxy_simulation_pipeline = pipelines.SkyPyPipeline(\n",
    "    skypy_config=None, sky_area=deflector_sky_area, filters=None, cosmo=cosmo\n",
    ")"
   ]
  },
  {
   "cell_type": "code",
   "execution_count": null,
   "metadata": {},
   "outputs": [],
   "source": [
    "# Initiate deflector population class.\n",
    "lens_galaxies = deflectors.AllLensGalaxies(\n",
    "    red_galaxy_list=galaxy_simulation_pipeline.red_galaxies,\n",
    "    blue_galaxy_list=galaxy_simulation_pipeline.blue_galaxies,\n",
    "    kwargs_cut=kwargs_deflector_cut,  # Cuts to apply to deflector\n",
    "    kwargs_mass2light=None,\n",
    "    cosmo=cosmo,\n",
    "    sky_area=deflector_sky_area,\n",
    ")"
   ]
  },
  {
   "cell_type": "code",
   "execution_count": null,
   "metadata": {},
   "outputs": [],
   "source": [
    "# Initiate class that generates supernovae population\n",
    "supernovae_catalog_class = SupernovaeCatalog(\n",
    "    sn_type=\"Ia\",\n",
    "    band_list=[\"i\"],\n",
    "    lightcurve_time=np.linspace(-20, 100, 1000),\n",
    "    absolute_mag=None,\n",
    "    absolute_mag_band=\"bessell\",\n",
    "    mag_zpsys=\"ab\",\n",
    "    cosmo=cosmo,\n",
    "    skypy_config=None,\n",
    "    sky_area=source_sky_area,\n",
    "    sn_modeldir=modeldir,  # Selected model's directory\n",
    ")\n",
    "# generate supernovae samples\n",
    "supernovae_sample = supernovae_catalog_class.supernovae_catalog(\n",
    "    host_galaxy=False, lightcurve=False\n",
    ")\n",
    "# Initiate source population class\n",
    "supernovae_population = PointSources(\n",
    "    supernovae_sample,\n",
    "    cosmo=cosmo,\n",
    "    sky_area=source_sky_area,\n",
    "    kwargs_cut=kwargs_source_cut,  # Cuts to apply to source\n",
    "    variability_model=\"light_curve\",  # Keyword for the variability model\n",
    "    kwargs_variability_model={\"supernovae_lightcurve\", \"i\"},  # Specify keywords for\n",
    "    # lightcurve with band type 'i'\n",
    "    light_profile=\"single_sersic\",  # Light profile for the source galaxy\n",
    ")"
   ]
  },
  {
   "cell_type": "code",
   "execution_count": null,
   "metadata": {},
   "outputs": [],
   "source": [
    "supernova_lens_pop_ps = LensPop(\n",
    "    deflector_population=lens_galaxies,\n",
    "    source_population=supernovae_population,\n",
    "    sky_area=sky_area,\n",
    "    cosmo=cosmo,\n",
    "    sn_type=\"Ia\",\n",
    "    sn_absolute_mag_band=\"bessellb\",\n",
    "    sn_absolute_zpsys=\"ab\",\n",
    "    lightcurve_time=np.linspace(-20, 100, 1000),\n",
    "    sn_modeldir=modeldir,\n",
    ")"
   ]
  },
  {
   "cell_type": "code",
   "execution_count": null,
   "metadata": {},
   "outputs": [],
   "source": [
    "# Print the number of resulting deflectors and sources\n",
    "supernova_lens_pop_ps.deflector_number, supernova_lens_pop_ps.source_number"
   ]
  },
  {
   "cell_type": "code",
   "execution_count": null,
   "metadata": {},
   "outputs": [],
   "source": [
    "# Specify cuts to the population\n",
    "kwargs_lens_cuts = {}\n",
    "\n",
    "# Determine the lensed population using 'draw_population'\n",
    "supernova_lens_population_ps = supernova_lens_pop_ps.draw_population(\n",
    "    kwargs_lens_cuts=kwargs_lens_cuts, speed_factor=10000\n",
    ")\n",
    "\n",
    "# Print the number of resulting lensed supernovae in the population\n",
    "len(supernova_lens_population_ps)"
   ]
  },
  {
   "cell_type": "markdown",
   "metadata": {},
   "source": [
    "### Corner Plot"
   ]
  },
  {
   "cell_type": "code",
   "execution_count": null,
   "metadata": {},
   "outputs": [],
   "source": [
    "# Define parameter labels\n",
    "lens_samples = []\n",
    "labels = [\n",
    "    r\"$\\sigma_v$\",\n",
    "    r\"$\\log(M_{*})$\",\n",
    "    r\"$\\theta_E$\",\n",
    "    r\"$z_{\\rm l}$\",\n",
    "    r\"$z_{\\rm s}$\",\n",
    "    r\"$m_{\\rm source}$\",\n",
    "    r\"$m_{\\rm lens}$\",\n",
    "    r\"$t_{\\rm d}$\",\n",
    "    \"m\",\n",
    "    r\"$im_{\\rm sep}$\",\n",
    "]\n",
    "\n",
    "# Calculate parameters for each lens\n",
    "for ps_lens in supernova_lens_population_ps:\n",
    "    vel_disp = ps_lens.deflector_velocity_dispersion()\n",
    "    m_star = ps_lens.deflector_stellar_mass()\n",
    "    theta_e = ps_lens.einstein_radius\n",
    "    zl = ps_lens.deflector_redshift\n",
    "    zs = ps_lens.source_redshift\n",
    "    source_mag = min(ps_lens.point_source_magnitude(band=\"i\", lensed=True))\n",
    "    deflector_mag = ps_lens.deflector_magnitude(band=\"i\")\n",
    "    time_delay = ps_lens.point_source_arrival_times()\n",
    "    magnification = ps_lens.point_source_magnification()\n",
    "    image_sep = image_separation_from_positions(ps_lens.point_source_image_positions())\n",
    "    lens_samples.append(\n",
    "        [\n",
    "            vel_disp,\n",
    "            np.log10(m_star),\n",
    "            theta_e,\n",
    "            zl,\n",
    "            zs,\n",
    "            source_mag,\n",
    "            deflector_mag,\n",
    "            time_delay[0],\n",
    "            magnification[0],\n",
    "            image_sep,\n",
    "        ]\n",
    "    )"
   ]
  },
  {
   "cell_type": "code",
   "execution_count": null,
   "metadata": {},
   "outputs": [],
   "source": [
    "hist2dkwargs = {\n",
    "    \"plot_density\": False,\n",
    "    \"plot_contours\": False,\n",
    "    \"plot_datapoints\": True,\n",
    "    \"color\": \"b\",\n",
    "    \"data_kwargs\": {\"ms\": 10},\n",
    "}\n",
    "\n",
    "# Create corner plot with the calculated parameters for the lensed population\n",
    "corner.corner(np.array(lens_samples), labels=labels, **hist2dkwargs)\n",
    "plt.show()"
   ]
  },
  {
   "cell_type": "markdown",
   "metadata": {},
   "source": [
    "### Redshift Distribution Plot"
   ]
  },
  {
   "cell_type": "code",
   "execution_count": null,
   "metadata": {},
   "outputs": [],
   "source": [
    "# Calculate parameters and apply selection criteria\n",
    "redshift_dist = []\n",
    "for ps_lens in supernova_lens_population_ps:\n",
    "    zl = ps_lens.deflector_redshift\n",
    "    zs = ps_lens.source_redshift\n",
    "    image_sep = image_separation_from_positions(ps_lens.point_source_image_positions())\n",
    "    source_mag = ps_lens.point_source_magnitude(band=\"i\", lensed=True)\n",
    "\n",
    "    # Fig.2 - Arendse et al. 2024 redshift cut\n",
    "    if zl < 1.5 and zs < 1.5:\n",
    "\n",
    "        # Multiply imaged criteria\n",
    "        if len(source_mag) > 1:\n",
    "\n",
    "            # Source magnitude cut\n",
    "            if min(source_mag) < 25:\n",
    "                if len(source_mag) == 2:\n",
    "                    flux_ratio = 10 ** ((source_mag[1] - source_mag[0]) / (-2.5))\n",
    "                    # SNe flux ratio criteria for doubly lensed sources (0.1 < ratio < 10)\n",
    "                    if flux_ratio > 0.1 and flux_ratio < 10:\n",
    "                        # Image separation criteria (0.1 < sep < 4)\n",
    "                        if image_sep > 0.5 and image_sep < 4:\n",
    "                            redshift_dist.append([zl, zs])\n",
    "                else:\n",
    "                    # Image separation criteria (0.1 < sep < 4)\n",
    "                    if image_sep > 0.5 and image_sep < 4:\n",
    "                        redshift_dist.append([zl, zs])\n",
    "\n",
    "        # Magnification criteria\n",
    "        else:\n",
    "            if min(source_mag) < 25:\n",
    "                redshift_dist.append([zl, zs])\n",
    "\n",
    "\n",
    "# Find unlensed SNe distribution as the difference between total SNe and lensed SNe\n",
    "source_list = list(supernova_lens_pop_ps._sources._point_source_select.columns[0])\n",
    "\n",
    "size = supernova_lens_pop_ps.source_number - len(\n",
    "    [sublist[1] for sublist in redshift_dist]\n",
    ")\n",
    "total_SNe = np.random.choice(source_list, size=size, replace=True)\n",
    "\n",
    "unlensed_SNe = list(\n",
    "    (Counter(total_SNe) - Counter([sublist[1] for sublist in redshift_dist])).elements()\n",
    ")\n",
    "\n",
    "# Redshift PDF Plotting\n",
    "# Replicating Fig. 2 - Arendse et al. 2024 (Without z < 1.5 redshift cut)\n",
    "plt.figure(figsize=(10, 5))\n",
    "\n",
    "# Plot deflector population\n",
    "sns.kdeplot(\n",
    "    [sublist[0] for sublist in redshift_dist],\n",
    "    fill=True,\n",
    "    label=\"Lens galaxies\",\n",
    "    alpha=0.6,\n",
    "    linewidth=2,\n",
    ")\n",
    "\n",
    "# Plot source population\n",
    "sns.kdeplot(\n",
    "    [sublist[1] for sublist in redshift_dist],\n",
    "    fill=True,\n",
    "    label=\"Lensed SNIa\",\n",
    "    color=\"purple\",\n",
    "    alpha=0.4,\n",
    "    linewidth=2,\n",
    ")\n",
    "\n",
    "# Plot unlensed SN Ia population\n",
    "sns.kdeplot(\n",
    "    unlensed_SNe,\n",
    "    fill=False,\n",
    "    linestyle=\"--\",\n",
    "    label=\"Unlensed SNIa\",\n",
    "    color=\"red\",\n",
    "    linewidth=2,\n",
    "    bw_adjust=3,\n",
    ")\n",
    "\n",
    "plt.xlabel(\"Redshift\")\n",
    "plt.ylabel(\"Probability density\")\n",
    "plt.legend()\n",
    "plt.grid(False)\n",
    "plt.xlim(0, None)\n",
    "plt.figure(figsize=(10, 5))\n",
    "plt.show()"
   ]
  },
  {
   "cell_type": "markdown",
   "metadata": {},
   "source": [
    "## Imaging the Population"
   ]
  },
  {
   "cell_type": "markdown",
   "metadata": {},
   "source": [
    "### Generate Lensed Population (Extended Source)"
   ]
  },
  {
   "cell_type": "code",
   "execution_count": null,
   "metadata": {},
   "outputs": [],
   "source": [
    "# Define a cosmology\n",
    "cosmo = FlatLambdaCDM(H0=70, Om0=0.3)\n",
    "\n",
    "# Define sky area scaling\n",
    "sky_area = Quantity(value=10, unit=\"deg2\")\n",
    "\n",
    "# Define source and deflector sky areas\n",
    "source_sky_area = Quantity(value=1, unit=\"deg2\")\n",
    "deflector_sky_area = Quantity(value=1, unit=\"deg2\")\n",
    "\n",
    "# Define limits in the intrinsic deflector and source population\n",
    "kwargs_deflector_cut = {\"z_min\": 0.01, \"z_max\": 2.379}\n",
    "kwargs_source_cut = {}"
   ]
  },
  {
   "cell_type": "code",
   "execution_count": null,
   "metadata": {},
   "outputs": [],
   "source": [
    "# generate supernovae samples with host galaxies\n",
    "supernovae_plus_host_galaxies = supernovae_catalog_class.supernovae_catalog(\n",
    "    host_galaxy=True, lightcurve=False\n",
    ")\n",
    "# Initiate source population class\n",
    "supernovae_plus_host_galaxy_population = PointPlusExtendedSources(\n",
    "    supernovae_plus_host_galaxies,\n",
    "    cosmo=cosmo,\n",
    "    sky_area=source_sky_area,\n",
    "    kwargs_cut=kwargs_source_cut,  # Cuts to apply to source\n",
    "    variability_model=\"light_curve\",  # Keyword for the variability model\n",
    "    kwargs_variability_model={\"supernovae_lightcurve\", \"i\"},  # Specify keywords for\n",
    "    # lightcurve with band type 'i'\n",
    "    light_profile=\"single_sersic\",  # Light profile for the source galaxy\n",
    ")"
   ]
  },
  {
   "cell_type": "code",
   "execution_count": null,
   "metadata": {},
   "outputs": [],
   "source": [
    "elliptical_lens_galaxies = deflectors.EllipticalLensGalaxies(\n",
    "    galaxy_list=galaxy_simulation_pipeline.red_galaxies,\n",
    "    kwargs_cut=kwargs_deflector_cut,  # Cuts to apply to deflector\n",
    "    kwargs_mass2light={},\n",
    "    cosmo=cosmo,\n",
    "    sky_area=deflector_sky_area,\n",
    ")"
   ]
  },
  {
   "cell_type": "code",
   "execution_count": null,
   "metadata": {},
   "outputs": [],
   "source": [
    "# Create a point plus extended source lens population with 'LensPop'\n",
    "supernova_lens_pop_extended = LensPop(\n",
    "    deflector_population=elliptical_lens_galaxies,\n",
    "    source_population=supernovae_plus_host_galaxy_population,\n",
    "    sky_area=sky_area,\n",
    "    cosmo=cosmo,\n",
    "    sn_type=\"Ia\",\n",
    "    sn_absolute_mag_band=\"bessellb\",\n",
    "    sn_absolute_zpsys=\"ab\",\n",
    "    lightcurve_time=np.linspace(-20, 100, 1000),\n",
    "    sn_modeldir=modeldir,\n",
    ")"
   ]
  },
  {
   "cell_type": "code",
   "execution_count": null,
   "metadata": {},
   "outputs": [],
   "source": [
    "# Print the number of resulting deflectors and sources\n",
    "supernova_lens_pop_extended.deflector_number, supernova_lens_pop_extended.source_number"
   ]
  },
  {
   "cell_type": "code",
   "execution_count": null,
   "metadata": {},
   "outputs": [],
   "source": [
    "# Specify cuts to the population\n",
    "kwargs_lens_cuts = {}\n",
    "\n",
    "# Determine the lensed population using 'draw_population'\n",
    "supernova_lens_population_extended = supernova_lens_pop_extended.draw_population(\n",
    "    kwargs_lens_cuts=kwargs_lens_cuts, speed_factor=10000\n",
    ")\n",
    "\n",
    "# Print the number of resulting lensed supernovae in the population\n",
    "len(supernova_lens_population_extended)"
   ]
  },
  {
   "cell_type": "code",
   "execution_count": null,
   "metadata": {},
   "outputs": [],
   "source": [
    "print(\"Number of lenses:\", len(supernova_lens_population_extended))\n",
    "\n",
    "lens_samples = []\n",
    "labels = [\n",
    "    r\"$\\sigma_v$\",\n",
    "    r\"$\\log(M_{*})$\",\n",
    "    r\"$\\theta_E$\",\n",
    "    r\"$z_{\\rm l}$\",\n",
    "    r\"$z_{\\rm s}$\",\n",
    "    r\"$m_{\\rm host}$\",\n",
    "    r\"$m_{\\rm ps}$\",\n",
    "    r\"$m_{\\rm lens}$\",\n",
    "]\n",
    "\n",
    "for supernovae_lens in supernova_lens_population_extended:\n",
    "    vel_disp = supernovae_lens.deflector_velocity_dispersion()\n",
    "    m_star = supernovae_lens.deflector_stellar_mass()\n",
    "    theta_e = supernovae_lens.einstein_radius\n",
    "    zl = supernovae_lens.deflector_redshift\n",
    "    zs = supernovae_lens.source_redshift\n",
    "    source_mag = supernovae_lens.extended_source_magnitude(band=\"i\", lensed=True)\n",
    "    ps_source_mag = supernovae_lens.point_source_magnitude(band=\"i\")\n",
    "    deflector_mag = supernovae_lens.deflector_magnitude(band=\"i\")\n",
    "    lens_samples.append(\n",
    "        [\n",
    "            vel_disp,\n",
    "            np.log10(m_star),\n",
    "            theta_e,\n",
    "            zl,\n",
    "            source_mag,\n",
    "            ps_source_mag,\n",
    "            deflector_mag,\n",
    "        ]\n",
    "    )"
   ]
  },
  {
   "cell_type": "markdown",
   "metadata": {},
   "source": [
    "### Select lens"
   ]
  },
  {
   "cell_type": "code",
   "execution_count": null,
   "metadata": {},
   "outputs": [],
   "source": [
    "# Lens population image separation cut\n",
    "kwargs_lens_cut = {\"min_image_separation\": 0.1, \"max_image_separation\": 10}\n",
    "\n",
    "# Selection of band\n",
    "rgb_band_list = [\"i\", \"r\", \"g\"]\n",
    "\n",
    "# Index of the lens to be imaged\n",
    "index = 0\n",
    "\n",
    "lens_class = supernova_lens_population_extended[index]\n",
    "(\n",
    "    lens_class.source.source_dict[\"z\"],\n",
    "    lens_class.einstein_radius,\n",
    "    lens_class.source.source_dict[\"mag_i\"],\n",
    "    lens_class.source.source_dict[\"ps_mag_i\"],\n",
    ")\n",
    "\n",
    "pix_coord = point_source_coordinate_properties(\n",
    "    lens_class,\n",
    "    band=\"i\",\n",
    "    mag_zero_point=27,\n",
    "    delta_pix=0.2,\n",
    "    num_pix=32,\n",
    "    transform_pix2angle=np.array([[0.2, 0], [0, 0.2]]),\n",
    ")[\"image_pix\"]"
   ]
  },
  {
   "cell_type": "markdown",
   "metadata": {},
   "source": [
    "### Plot Lightcurve"
   ]
  },
  {
   "cell_type": "code",
   "execution_count": null,
   "metadata": {},
   "outputs": [],
   "source": [
    "light_curve = lens_class.source.variability_class.kwargs_model\n",
    "plt.plot(light_curve[\"MJD\"], light_curve[\"ps_mag_i\"])\n",
    "plt.gca().invert_yaxis()\n",
    "plt.ylabel(\"Magnitude\")\n",
    "plt.xlabel(\"Time\" \"[Days]\")\n",
    "plt.xlim(-22, 100)"
   ]
  },
  {
   "cell_type": "markdown",
   "metadata": {},
   "source": [
    "### Image Configuration and Simulation"
   ]
  },
  {
   "cell_type": "code",
   "execution_count": null,
   "metadata": {},
   "outputs": [],
   "source": [
    "time = np.array([-40, -20, -10, -5, 0, 5, 10, 20, 40, 60])\n",
    "\n",
    "repeats = 10\n",
    "\n",
    "# Load psf kernel and transform matrix.\n",
    "path = \"/Users/Carly/slsim/tests/TestData/psf_kernels_for_deflector.npy\"  # ......./slsim/tests/Test/Data/psf_kernels_for_deflector.npy\n",
    "psf_kernel = 1 * np.load(path)\n",
    "psf_kernel[psf_kernel < 0] = 0\n",
    "transform_matrix = np.array([[0.2, 0], [0, 0.2]])\n",
    "\n",
    "# Set up psf kernel for each exposure\n",
    "psf_kernel_list = [psf_kernel]\n",
    "transform_matrix_list = [transform_matrix]\n",
    "psf_kernels_all = psf_kernel_list * repeats\n",
    "\n",
    "# Set pixel to angle transform matrix\n",
    "transform_matrix_all = transform_matrix_list * repeats\n",
    "\n",
    "# Provide magnitude zero point for each exposure\n",
    "mag_list = [31.0]\n",
    "mag_zero_points_all = mag_list * repeats\n",
    "\n",
    "expo_list = [30]\n",
    "exposure_time_all = expo_list * repeats"
   ]
  },
  {
   "cell_type": "code",
   "execution_count": null,
   "metadata": {},
   "outputs": [],
   "source": [
    "# Simulate a lens image\n",
    "image_lens_series = lens_image_series(\n",
    "    lens_class=lens_class,\n",
    "    band=\"i\",\n",
    "    mag_zero_point=mag_zero_points_all,\n",
    "    num_pix=32,\n",
    "    psf_kernel=psf_kernels_all,\n",
    "    transform_pix2angle=transform_matrix_all,\n",
    "    exposure_time=exposure_time_all,\n",
    "    t_obs=time,\n",
    "    # Sets extended source and deflector to appear in the lens image\n",
    "    with_deflector=True,\n",
    "    with_source=True,\n",
    ")\n",
    "\n",
    "# In log scale:\n",
    "log_images = []\n",
    "for i in range(len(image_lens_series)):\n",
    "    log_images.append(np.log10(image_lens_series[i]))"
   ]
  },
  {
   "cell_type": "code",
   "execution_count": null,
   "metadata": {},
   "outputs": [],
   "source": [
    "plot_montage = create_image_montage_from_image_list(\n",
    "    num_rows=2, num_cols=5, images=image_lens_series, time=time, image_center=pix_coord\n",
    ")"
   ]
  }
 ],
 "metadata": {
  "kernelspec": {
   "display_name": ".venv",
   "language": "python",
   "name": "python3"
  },
  "language_info": {
   "codemirror_mode": {
    "name": "ipython",
    "version": 3
   },
   "file_extension": ".py",
   "mimetype": "text/x-python",
   "name": "python",
   "nbconvert_exporter": "python",
   "pygments_lexer": "ipython3",
   "version": "3.9.7"
  }
 },
 "nbformat": 4,
 "nbformat_minor": 2
}
