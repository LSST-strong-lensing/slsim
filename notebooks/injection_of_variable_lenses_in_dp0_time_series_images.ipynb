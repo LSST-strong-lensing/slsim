{
 "cells": [
  {
   "cell_type": "code",
   "execution_count": null,
   "id": "1b32b208-cb34-4373-af7b-74f05e623ba5",
   "metadata": {
    "execution": {
     "iopub.execute_input": "2023-11-14T22:42:43.983838Z",
     "iopub.status.busy": "2023-11-14T22:42:43.983059Z",
     "iopub.status.idle": "2023-11-14T22:42:48.091198Z",
     "shell.execute_reply": "2023-11-14T22:42:48.090304Z",
     "shell.execute_reply.started": "2023-11-14T22:42:43.983811Z"
    },
    "tags": []
   },
   "outputs": [],
   "source": [
    "import numpy as np\n",
    "from slsim.Util.param_util import random_radec_string\n",
    "from slsim.lsst_science_pipeline import (\n",
    "    multiple_variable_lens_injection,\n",
    "    dp0_time_series_images_data,\n",
    ")\n",
    "import lsst.daf.butler as dafButler\n",
    "from astropy.cosmology import FlatLambdaCDM\n",
    "from astropy.units import Quantity\n",
    "from slsim.lens_pop import LensPop\n",
    "from slsim.Plots.plot_functions import create_image_montage_from_image_list"
   ]
  },
  {
   "cell_type": "markdown",
   "id": "95a9bb15-9ada-4db0-ada0-fb10282bf840",
   "metadata": {},
   "source": [
    "## Injection of variable lenses in dp0.2 data"
   ]
  },
  {
   "cell_type": "markdown",
   "id": "5c8b61f2-1c8f-4d23-a89b-fd493478d11e",
   "metadata": {},
   "source": [
    "This notebook shows how to use SLSim to simulate variable lens images and inject them to\n",
    "\n",
    " dp0.2 data.\n",
    "\n",
    "It involves three steps:\n",
    "1. Create a time series data from dp0 data using SLSim.\n",
    "2. Based on the created time seies data, simulate variable lenses using SLSim.\n",
    "3. Finally, inject variable lenses to time series data."
   ]
  },
  {
   "cell_type": "markdown",
   "id": "db366574-1108-404e-ad99-719dd544251e",
   "metadata": {},
   "source": [
    "## Create a time series data"
   ]
  },
  {
   "cell_type": "code",
   "execution_count": null,
   "id": "3c15c518-78e7-4bc9-a256-32eb427544f5",
   "metadata": {
    "execution": {
     "iopub.execute_input": "2023-11-14T22:45:02.158223Z",
     "iopub.status.busy": "2023-11-14T22:45:02.157833Z",
     "iopub.status.idle": "2023-11-14T22:45:05.968237Z",
     "shell.execute_reply": "2023-11-14T22:45:05.967335Z",
     "shell.execute_reply.started": "2023-11-14T22:45:02.158199Z"
    },
    "tags": []
   },
   "outputs": [],
   "source": [
    "config = \"dp02\"\n",
    "collection = \"2.2i/runs/DP0.2\"\n",
    "butler = dafButler.Butler(config, collections=collection)\n",
    "skymap = butler.get(\"skyMap\")"
   ]
  },
  {
   "cell_type": "code",
   "execution_count": null,
   "id": "2e8b1caa-55c6-422a-815a-33aa3c0ba85e",
   "metadata": {
    "execution": {
     "iopub.execute_input": "2023-11-14T22:45:07.851743Z",
     "iopub.status.busy": "2023-11-14T22:45:07.851272Z",
     "iopub.status.idle": "2023-11-14T22:45:07.856628Z",
     "shell.execute_reply": "2023-11-14T22:45:07.855920Z",
     "shell.execute_reply.started": "2023-11-14T22:45:07.851709Z"
    },
    "tags": []
   },
   "outputs": [],
   "source": [
    "radec_string = random_radec_string(ra_min=55, ra_max=70, dec_min=-43, dec_max=-30, n=5)"
   ]
  },
  {
   "cell_type": "code",
   "execution_count": null,
   "id": "3cf5ea35-9ae5-478a-9e8d-15e5423736f4",
   "metadata": {
    "execution": {
     "iopub.execute_input": "2023-11-14T22:45:08.983884Z",
     "iopub.status.busy": "2023-11-14T22:45:08.982824Z",
     "iopub.status.idle": "2023-11-14T22:46:53.164098Z",
     "shell.execute_reply": "2023-11-14T22:46:53.163174Z",
     "shell.execute_reply.started": "2023-11-14T22:45:08.983832Z"
    },
    "tags": []
   },
   "outputs": [],
   "source": [
    "expo_data_list = []\n",
    "for center_coords in radec_string:\n",
    "    expo_data_list.append(\n",
    "        dp0_time_series_images_data(\n",
    "            butler, center_coords, radius=\"0.034\", band=\"i\", size=301\n",
    "        )\n",
    "    )"
   ]
  },
  {
   "cell_type": "markdown",
   "id": "f84170e0-a0c0-4468-b915-269d8069d617",
   "metadata": {},
   "source": [
    "## Define a tranform matrices for each exposure"
   ]
  },
  {
   "cell_type": "markdown",
   "id": "ec40d77e-28be-4a1b-b558-e6b6910f8ee7",
   "metadata": {},
   "source": [
    "Here we use the same tranform matrices for each exposure but they can be different for \n",
    "\n",
    "each exposure based on observational conditions."
   ]
  },
  {
   "cell_type": "code",
   "execution_count": null,
   "id": "093ffc92-b27d-4c31-b58f-4c923de8d5fd",
   "metadata": {
    "execution": {
     "iopub.execute_input": "2023-11-14T22:47:09.992664Z",
     "iopub.status.busy": "2023-11-14T22:47:09.991530Z",
     "iopub.status.idle": "2023-11-14T22:47:09.997001Z",
     "shell.execute_reply": "2023-11-14T22:47:09.996287Z",
     "shell.execute_reply.started": "2023-11-14T22:47:09.992625Z"
    },
    "tags": []
   },
   "outputs": [],
   "source": [
    "transf_matrix_single = np.array([[0.2, 0], [0, 0.2]])\n",
    "transform_matrices_list = []\n",
    "for data in expo_data_list:\n",
    "    transform_matrices_list.append(\n",
    "        [transf_matrix_single.copy() for _ in range(len(data))]\n",
    "    )"
   ]
  },
  {
   "cell_type": "markdown",
   "id": "f9fb799d-fc5e-4d01-8aca-854a3d5ceca7",
   "metadata": {},
   "source": [
    "## Simulate lens population"
   ]
  },
  {
   "cell_type": "code",
   "execution_count": null,
   "id": "e0bed5bf-1831-4e4c-ad80-c05c87a22e20",
   "metadata": {
    "execution": {
     "iopub.execute_input": "2023-11-14T22:43:05.332837Z",
     "iopub.status.busy": "2023-11-14T22:43:05.332090Z",
     "iopub.status.idle": "2023-11-14T22:43:27.274715Z",
     "shell.execute_reply": "2023-11-14T22:43:27.273737Z",
     "shell.execute_reply.started": "2023-11-14T22:43:05.332810Z"
    },
    "tags": []
   },
   "outputs": [],
   "source": [
    "# define a cosmology\n",
    "cosmo = FlatLambdaCDM(H0=70, Om0=0.3)\n",
    "\n",
    "\n",
    "# define a sky area\n",
    "sky_area = Quantity(value=0.1, unit=\"deg2\")\n",
    "\n",
    "\n",
    "# define limits in the intrinsic deflector and source population (in addition\n",
    "# to the skypy config\n",
    "# file)\n",
    "kwargs_deflector_cut = {\"band\": \"g\", \"band_max\": 23, \"z_min\": 0.01, \"z_max\": 2.5}\n",
    "kwargs_source_cut = {\"band\": \"g\", \"band_max\": 26, \"z_min\": 0.1, \"z_max\": 5.0}\n",
    "kwargs_quasars = {\n",
    "    \"num_quasars\": 50000,\n",
    "    \"z_min\": 0.1,\n",
    "    \"z_max\": 5,\n",
    "    \"m_min\": 19,\n",
    "    \"m_max\": 25,\n",
    "    \"amp_min\": 0.95,\n",
    "    \"amp_max\": 1.1,\n",
    "    \"freq_min\": 0.5,\n",
    "    \"freq_max\": 0.6,\n",
    "}\n",
    "# run skypy pipeline and make galaxy-galaxy population class using LensPop\n",
    "lens_pop = LensPop(\n",
    "    deflector_type=\"all-galaxies\",\n",
    "    source_type=\"quasars\",\n",
    "    kwargs_deflector_cut=kwargs_deflector_cut,\n",
    "    kwargs_source_cut=kwargs_source_cut,\n",
    "    kwargs_quasars=kwargs_quasars,\n",
    "    variability_model=\"sinusoidal\",\n",
    "    kwargs_variability={\"amp\": 1, \"freq\": 0.5},\n",
    "    kwargs_mass2light=None,\n",
    "    skypy_config=None,\n",
    "    sky_area=sky_area,\n",
    "    cosmo=cosmo,\n",
    ")"
   ]
  },
  {
   "cell_type": "markdown",
   "id": "9e4ce684-ef79-4f1f-8271-41b42a149d9c",
   "metadata": {},
   "source": [
    "## Select lenses for each time series data"
   ]
  },
  {
   "cell_type": "code",
   "execution_count": null,
   "id": "9a933565-c970-474d-89c1-971eaaad7752",
   "metadata": {
    "execution": {
     "iopub.execute_input": "2023-11-14T15:29:41.028838Z",
     "iopub.status.busy": "2023-11-14T15:29:41.028137Z",
     "iopub.status.idle": "2023-11-14T15:29:42.022048Z",
     "shell.execute_reply": "2023-11-14T15:29:42.021205Z",
     "shell.execute_reply.started": "2023-11-14T15:29:41.028811Z"
    },
    "tags": []
   },
   "outputs": [],
   "source": [
    "kwargs_lens_cut = {\"min_image_separation\": 1, \"max_image_separation\": 10}\n",
    "rgb_band_list = [\"i\", \"r\", \"g\"]\n",
    "lens_class_list = []\n",
    "for i in range(len(expo_data_list)):\n",
    "    lens_class_list.append(lens_pop.select_lens_at_random(**kwargs_lens_cut))"
   ]
  },
  {
   "cell_type": "markdown",
   "id": "71d9b2a7-c9a8-4524-82c7-52fdc391f63d",
   "metadata": {},
   "source": [
    "## Inject lenses to time series data"
   ]
  },
  {
   "cell_type": "code",
   "execution_count": null,
   "id": "460881b2-3aee-41d6-ac51-d9c1ae57c559",
   "metadata": {
    "execution": {
     "iopub.execute_input": "2023-11-14T15:30:13.869863Z",
     "iopub.status.busy": "2023-11-14T15:30:13.869225Z",
     "iopub.status.idle": "2023-11-14T15:30:15.234090Z",
     "shell.execute_reply": "2023-11-14T15:30:15.233137Z",
     "shell.execute_reply.started": "2023-11-14T15:30:13.869837Z"
    },
    "tags": []
   },
   "outputs": [],
   "source": [
    "variable_lens_catalog = multiple_variable_lens_injection(\n",
    "    lens_class_list,\n",
    "    band=\"i\",\n",
    "    delta_pix=0.2,\n",
    "    num_pix=301,\n",
    "    transform_matrices_list=transform_matrices_list,\n",
    "    exposure_data_list=expo_data_list,\n",
    ")"
   ]
  },
  {
   "cell_type": "code",
   "execution_count": null,
   "id": "4ee36881-e0b5-4932-b93f-e8a74f174c1e",
   "metadata": {
    "execution": {
     "iopub.execute_input": "2023-11-14T15:33:08.034802Z",
     "iopub.status.busy": "2023-11-14T15:33:08.034466Z",
     "iopub.status.idle": "2023-11-14T15:33:09.272689Z",
     "shell.execute_reply": "2023-11-14T15:33:09.271919Z",
     "shell.execute_reply.started": "2023-11-14T15:33:08.034778Z"
    },
    "tags": []
   },
   "outputs": [],
   "source": [
    "##plot each injected lens\n",
    "plot_variable_lenses = create_image_montage_from_image_list(\n",
    "    num_rows=3,\n",
    "    num_cols=5,\n",
    "    images=variable_lens_catalog[4][\"injected_lens\"],\n",
    "    time=variable_lens_catalog[4][\"obs_time\"],\n",
    "    image_type=\"dp0\",\n",
    ")"
   ]
  }
 ],
 "metadata": {
  "kernelspec": {
   "display_name": "LSST",
   "language": "python",
   "name": "lsst"
  },
  "language_info": {
   "codemirror_mode": {
    "name": "ipython",
    "version": 3
   },
   "file_extension": ".py",
   "mimetype": "text/x-python",
   "name": "python",
   "nbconvert_exporter": "python",
   "pygments_lexer": "ipython3",
   "version": "3.11.4"
  }
 },
 "nbformat": 4,
 "nbformat_minor": 5
}
