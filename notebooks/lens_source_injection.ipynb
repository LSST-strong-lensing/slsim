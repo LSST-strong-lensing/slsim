{
 "cells": [
  {
   "cell_type": "code",
   "execution_count": null,
   "id": "64d66921",
   "metadata": {
    "execution": {
     "iopub.execute_input": "2023-08-14T22:44:03.255969Z",
     "iopub.status.busy": "2023-08-14T22:44:03.254836Z",
     "iopub.status.idle": "2023-08-14T22:44:06.388495Z",
     "shell.execute_reply": "2023-08-14T22:44:06.387611Z",
     "shell.execute_reply.started": "2023-08-14T22:44:03.255926Z"
    },
    "tags": []
   },
   "outputs": [],
   "source": [
    "import matplotlib.pyplot as plt\n",
    "import numpy as np\n",
    "import sys\n",
    "from astropy.cosmology import FlatLambdaCDM\n",
    "from astropy.units import Quantity\n",
    "from slsim.lens_pop import LensPop\n",
    "from slsim.image_simulation import (\n",
    "    sharp_image,\n",
    "    sharp_rgb_image,\n",
    "    rgb_image_from_image_list,\n",
    ")\n",
    "import galsim\n",
    "import mpl_toolkits.axisartist.floating_axes as floating_axes\n",
    "from mpl_toolkits.axisartist.grid_finder import MaxNLocator, DictFormatter\n",
    "from matplotlib.transforms import Affine2D\n",
    "import lsst.daf.butler as dafButler\n",
    "import lsst.geom as geom\n",
    "import lsst.afw.display as afwDisplay\n",
    "from lsst.pipe.tasks.insertFakes import _add_fake_sources\n",
    "from slsim import lsst_science_pipeline"
   ]
  },
  {
   "cell_type": "markdown",
   "id": "f3c701c3",
   "metadata": {},
   "source": [
    "## Lensed source injection in DC2 data"
   ]
  },
  {
   "cell_type": "markdown",
   "id": "ab92b75c-4ce7-4d54-b8bb-68d3db80eb7b",
   "metadata": {},
   "source": [
    "This notebook uses slsim to generate lens-deflector population. Then, we select a random lens-deflector\n",
    "\n",
    "and inject it to a patch of the DC2 data."
   ]
  },
  {
   "cell_type": "markdown",
   "id": "60e07f48-9aeb-45e0-9454-eacebcfc4921",
   "metadata": {},
   "source": [
    "## Generate population of sources and deflectors"
   ]
  },
  {
   "cell_type": "markdown",
   "id": "d79f6fa6-296a-447c-8cfa-f133a4c0d7bd",
   "metadata": {
    "execution": {
     "iopub.execute_input": "2023-07-21T18:51:20.484913Z",
     "iopub.status.busy": "2023-07-21T18:51:20.484398Z",
     "iopub.status.idle": "2023-07-21T18:51:20.490580Z",
     "shell.execute_reply": "2023-07-21T18:51:20.489623Z",
     "shell.execute_reply.started": "2023-07-21T18:51:20.484880Z"
    },
    "tags": []
   },
   "source": [
    "Using slsim one can generate galaxy-galaxy lenses."
   ]
  },
  {
   "cell_type": "code",
   "execution_count": null,
   "id": "d0d48388-dee5-4488-81f4-b3d636b3a698",
   "metadata": {
    "execution": {
     "iopub.execute_input": "2023-08-14T22:43:59.996001Z",
     "iopub.status.busy": "2023-08-14T22:43:59.994972Z",
     "iopub.status.idle": "2023-08-14T22:44:00.000126Z",
     "shell.execute_reply": "2023-08-14T22:43:59.999335Z",
     "shell.execute_reply.started": "2023-08-14T22:43:59.995960Z"
    },
    "tags": []
   },
   "outputs": [],
   "source": [
    "## Users should change this path to their slsim path\n",
    "sys.path.insert(0, \"/home/nkhadka/notebooks/mytutorials/slsim/\")"
   ]
  },
  {
   "cell_type": "code",
   "execution_count": null,
   "id": "834ce91e-1958-4c80-b35a-107720c4ff72",
   "metadata": {
    "execution": {
     "iopub.execute_input": "2023-08-14T22:44:11.102224Z",
     "iopub.status.busy": "2023-08-14T22:44:11.101637Z",
     "iopub.status.idle": "2023-08-14T22:44:43.143147Z",
     "shell.execute_reply": "2023-08-14T22:44:43.142083Z",
     "shell.execute_reply.started": "2023-08-14T22:44:11.102187Z"
    },
    "tags": []
   },
   "outputs": [],
   "source": [
    "# define a cosmology\n",
    "cosmo = FlatLambdaCDM(H0=70, Om0=0.3)\n",
    "\n",
    "# define a sky area\n",
    "sky_area = Quantity(value=0.1, unit=\"deg2\")\n",
    "\n",
    "\n",
    "# define limits in the intrinsic deflector and source population (in addition to the skypy config\n",
    "# file)\n",
    "kwargs_deflector_cut = {\"band\": \"g\", \"band_max\": 28, \"z_min\": 0.01, \"z_max\": 2.5}\n",
    "kwargs_source_cut = {\"band\": \"g\", \"band_max\": 28, \"z_min\": 0.1, \"z_max\": 5.0}\n",
    "\n",
    "# run skypy pipeline and make galaxy-galaxy population class using LensPop\n",
    "gg_lens_pop = LensPop(\n",
    "    deflector_type=\"all-galaxies\",\n",
    "    source_type=\"galaxies\",\n",
    "    kwargs_deflector_cut=kwargs_deflector_cut,\n",
    "    kwargs_source_cut=kwargs_source_cut,\n",
    "    kwargs_mass2light=None,\n",
    "    skypy_config=None,\n",
    "    sky_area=sky_area,\n",
    "    cosmo=cosmo,\n",
    ")"
   ]
  },
  {
   "cell_type": "markdown",
   "id": "568932d9-f62a-4a5e-945f-f5b82647039e",
   "metadata": {},
   "source": [
    "## Select a lens at random and generate a high resolution image"
   ]
  },
  {
   "cell_type": "code",
   "execution_count": null,
   "id": "efa81c8a-8404-40f2-a0b3-70e13ff1611e",
   "metadata": {
    "execution": {
     "iopub.execute_input": "2023-08-14T22:49:58.155179Z",
     "iopub.status.busy": "2023-08-14T22:49:58.153874Z",
     "iopub.status.idle": "2023-08-14T22:49:58.551444Z",
     "shell.execute_reply": "2023-08-14T22:49:58.550418Z",
     "shell.execute_reply.started": "2023-08-14T22:49:58.155139Z"
    },
    "tags": []
   },
   "outputs": [],
   "source": [
    "kwargs_lens_cut = {\n",
    "    \"min_image_separation\": 0.8,\n",
    "    \"max_image_separation\": 10,\n",
    "    \"mag_arc_limit\": {\"g\": 23, \"r\": 23, \"i\": 23},\n",
    "}\n",
    "rgb_band_list = [\"i\", \"r\", \"g\"]\n",
    "lens_class = gg_lens_pop.select_lens_at_random(**kwargs_lens_cut)"
   ]
  },
  {
   "cell_type": "code",
   "execution_count": null,
   "id": "9dce1a91-2c90-4f6e-b3cb-b18547c33c87",
   "metadata": {
    "execution": {
     "iopub.execute_input": "2023-08-14T22:50:02.322956Z",
     "iopub.status.busy": "2023-08-14T22:50:02.321951Z",
     "iopub.status.idle": "2023-08-14T22:50:02.432770Z",
     "shell.execute_reply": "2023-08-14T22:50:02.431771Z",
     "shell.execute_reply.started": "2023-08-14T22:50:02.322913Z"
    },
    "tags": []
   },
   "outputs": [],
   "source": [
    "image_i_1 = sharp_image(\n",
    "    lens_class=lens_class,\n",
    "    band=rgb_band_list[0],\n",
    "    mag_zero_point=27,\n",
    "    delta_pix=0.2,\n",
    "    num_pix=200,\n",
    ")\n",
    "image_r_1 = sharp_image(\n",
    "    lens_class=lens_class,\n",
    "    band=rgb_band_list[1],\n",
    "    mag_zero_point=27,\n",
    "    delta_pix=0.2,\n",
    "    num_pix=200,\n",
    ")\n",
    "image_g_1 = sharp_image(\n",
    "    lens_class=lens_class,\n",
    "    band=rgb_band_list[2],\n",
    "    mag_zero_point=27,\n",
    "    delta_pix=0.2,\n",
    "    num_pix=200,\n",
    ")"
   ]
  },
  {
   "cell_type": "code",
   "execution_count": null,
   "id": "9f44dc9c-1999-481b-87d9-bbaa6782395d",
   "metadata": {
    "execution": {
     "iopub.execute_input": "2023-08-14T22:50:05.761403Z",
     "iopub.status.busy": "2023-08-14T22:50:05.760033Z",
     "iopub.status.idle": "2023-08-14T22:50:05.958947Z",
     "shell.execute_reply": "2023-08-14T22:50:05.958217Z",
     "shell.execute_reply.started": "2023-08-14T22:50:05.761345Z"
    },
    "tags": []
   },
   "outputs": [],
   "source": [
    "# image_g.shape\n",
    "plt.imshow(image_r_1, origin=\"lower\")"
   ]
  },
  {
   "cell_type": "code",
   "execution_count": null,
   "id": "ad707603-1867-4014-96b7-234d60fd03fb",
   "metadata": {
    "execution": {
     "iopub.execute_input": "2023-07-21T18:48:11.924529Z",
     "iopub.status.busy": "2023-07-21T18:48:11.923414Z",
     "iopub.status.idle": "2023-07-21T18:48:12.102182Z",
     "shell.execute_reply": "2023-07-21T18:48:12.101351Z",
     "shell.execute_reply.started": "2023-07-21T18:48:11.924461Z"
    },
    "tags": []
   },
   "outputs": [],
   "source": [
    "high_reso_rgb = sharp_rgb_image(\n",
    "    lens_class=lens_class,\n",
    "    rgb_band_list=rgb_band_list,\n",
    "    mag_zero_point=27,\n",
    "    delta_pix=0.2,\n",
    "    num_pix=200,\n",
    ")"
   ]
  },
  {
   "cell_type": "code",
   "execution_count": null,
   "id": "6a716382-6c12-4e0a-ab6d-d623aacda2e1",
   "metadata": {
    "execution": {
     "iopub.execute_input": "2023-08-01T19:54:23.491206Z",
     "iopub.status.busy": "2023-08-01T19:54:23.490830Z",
     "iopub.status.idle": "2023-08-01T19:54:23.494457Z",
     "shell.execute_reply": "2023-08-01T19:54:23.493833Z",
     "shell.execute_reply.started": "2023-08-01T19:54:23.491179Z"
    },
    "tags": []
   },
   "outputs": [],
   "source": [
    "plt.imshow(high_reso_rgb, origin=\"lower\")"
   ]
  },
  {
   "cell_type": "markdown",
   "id": "cd1980b0-0d48-4526-823f-f4e5ce2be136",
   "metadata": {},
   "source": [
    "## Initiation of Butler"
   ]
  },
  {
   "cell_type": "markdown",
   "id": "fa934c1c-78ba-4984-9529-264577731ba1",
   "metadata": {},
   "source": [
    "Here we initiate butler and take a cutout of the DC2 data where we inject randomly selected lens."
   ]
  },
  {
   "cell_type": "code",
   "execution_count": null,
   "id": "b2e3280e-a268-44b0-a930-9cec37c34a7f",
   "metadata": {
    "execution": {
     "iopub.execute_input": "2023-08-14T22:50:14.582854Z",
     "iopub.status.busy": "2023-08-14T22:50:14.581650Z",
     "iopub.status.idle": "2023-08-14T22:50:14.631070Z",
     "shell.execute_reply": "2023-08-14T22:50:14.630198Z",
     "shell.execute_reply.started": "2023-08-14T22:50:14.582803Z"
    },
    "tags": []
   },
   "outputs": [],
   "source": [
    "gsobj_r = galsim.InterpolatedImage(\n",
    "    galsim.Image(image_r_1), scale=0.2, normalization=\"flux\"\n",
    ")\n",
    "gsobj_g = galsim.InterpolatedImage(\n",
    "    galsim.Image(image_g_1), scale=0.2, normalization=\"flux\"\n",
    ")\n",
    "gsobj_i = galsim.InterpolatedImage(\n",
    "    galsim.Image(image_i_1), scale=0.2, normalization=\"flux\"\n",
    ")"
   ]
  },
  {
   "cell_type": "code",
   "execution_count": null,
   "id": "219d0a65-5f33-4de8-95db-326cb088d9f7",
   "metadata": {
    "execution": {
     "iopub.execute_input": "2023-08-14T22:45:27.007618Z",
     "iopub.status.busy": "2023-08-14T22:45:27.007193Z",
     "iopub.status.idle": "2023-08-14T22:45:36.431288Z",
     "shell.execute_reply": "2023-08-14T22:45:36.430002Z",
     "shell.execute_reply.started": "2023-08-14T22:45:27.007590Z"
    },
    "tags": []
   },
   "outputs": [],
   "source": [
    "config = \"dp02\"\n",
    "collection = \"2.2i/runs/DP0.2\"\n",
    "butler = dafButler.Butler(config, collections=collection)\n",
    "skymap = butler.get(\"skyMap\")\n",
    "\n",
    "# Near the center of DC2\n",
    "ra = 62.541629  # degrees\n",
    "dec = -37.852021  # degrees\n",
    "point = geom.SpherePoint(ra, dec, geom.degrees)\n",
    "cutoutSize = geom.ExtentI(201, 201)\n",
    "# print(cutoutSize)\n",
    "\n",
    "\n",
    "# Read this from the table we have at hand...\n",
    "tractInfo = skymap.findTract(point)\n",
    "patchInfo = tractInfo.findPatch(point)\n",
    "my_tract = tractInfo.tract_id\n",
    "my_patch = patchInfo.getSequentialIndex()\n",
    "\n",
    "xy = geom.PointI(tractInfo.getWcs().skyToPixel(point))\n",
    "\n",
    "bbox = geom.BoxI(xy + cutoutSize // 2, cutoutSize)\n",
    "\n",
    "coaddId_r = {\"tract\": my_tract, \"patch\": my_patch, \"band\": \"i\"}\n",
    "coadd = butler.get(\"deepCoadd\", dataId=coaddId_r)\n",
    "coadd_cut_r = butler.get(\"deepCoadd\", parameters={\"bbox\": bbox}, dataId=coaddId_r)"
   ]
  },
  {
   "cell_type": "code",
   "execution_count": null,
   "id": "fe1404ea-20fd-4db7-8917-a6100c4acd5d",
   "metadata": {
    "execution": {
     "iopub.execute_input": "2023-08-14T22:45:38.473007Z",
     "iopub.status.busy": "2023-08-14T22:45:38.472634Z",
     "iopub.status.idle": "2023-08-14T22:45:40.805309Z",
     "shell.execute_reply": "2023-08-14T22:45:40.798790Z",
     "shell.execute_reply.started": "2023-08-14T22:45:38.472979Z"
    },
    "tags": []
   },
   "outputs": [],
   "source": [
    "coaddId_g = {\"tract\": 3638, \"patch\": 27, \"band\": \"g\"}\n",
    "coaddId_i = {\"tract\": 3638, \"patch\": 27, \"band\": \"i\"}\n",
    "coadd_cut_g = butler.get(\"deepCoadd\", parameters={\"bbox\": bbox}, dataId=coaddId_g)\n",
    "coadd_cut_i = butler.get(\"deepCoadd\", parameters={\"bbox\": bbox}, dataId=coaddId_i)"
   ]
  },
  {
   "cell_type": "code",
   "execution_count": null,
   "id": "1cf16f95-9b1a-499d-8fb3-35c135db4174",
   "metadata": {
    "execution": {
     "iopub.execute_input": "2023-07-21T18:52:38.680241Z",
     "iopub.status.busy": "2023-07-21T18:52:38.679276Z",
     "iopub.status.idle": "2023-07-21T18:52:38.715860Z",
     "shell.execute_reply": "2023-07-21T18:52:38.715059Z",
     "shell.execute_reply.started": "2023-07-21T18:52:38.680205Z"
    },
    "tags": []
   },
   "outputs": [],
   "source": [
    "afwDisplay.setDefaultBackend(\"matplotlib\")"
   ]
  },
  {
   "cell_type": "code",
   "execution_count": null,
   "id": "33c721ab-4e08-4a69-aea3-c03218bddb1c",
   "metadata": {
    "execution": {
     "iopub.execute_input": "2023-08-01T19:54:51.015458Z",
     "iopub.status.busy": "2023-08-01T19:54:51.014628Z",
     "iopub.status.idle": "2023-08-01T19:54:51.018193Z",
     "shell.execute_reply": "2023-08-01T19:54:51.017602Z",
     "shell.execute_reply.started": "2023-08-01T19:54:51.015428Z"
    },
    "tags": []
   },
   "outputs": [],
   "source": [
    "fig = plt.figure(figsize=(10, 8))\n",
    "afw_display = afwDisplay.Display(1)\n",
    "afw_display.scale(\"asinh\", \"zscale\")\n",
    "afw_display.mtv(coadd.image)\n",
    "plt.gca().axis(\"on\")"
   ]
  },
  {
   "cell_type": "markdown",
   "id": "f69b578f-5d39-4e67-a436-b7b760e7106c",
   "metadata": {},
   "source": [
    "## Cutout from the DC2 data"
   ]
  },
  {
   "cell_type": "code",
   "execution_count": null,
   "id": "71b509c9-d9e0-4cf8-a72f-33ec59e964da",
   "metadata": {
    "execution": {
     "iopub.execute_input": "2023-08-01T19:55:08.475063Z",
     "iopub.status.busy": "2023-08-01T19:55:08.474425Z",
     "iopub.status.idle": "2023-08-01T19:55:08.477803Z",
     "shell.execute_reply": "2023-08-01T19:55:08.477270Z",
     "shell.execute_reply.started": "2023-08-01T19:55:08.475030Z"
    },
    "tags": []
   },
   "outputs": [],
   "source": [
    "fig = plt.figure(figsize=(10, 8))\n",
    "afw_display = afwDisplay.Display(1)\n",
    "afw_display.scale(\"asinh\", \"zscale\")\n",
    "afw_display.mtv(coadd_cut_r.image)\n",
    "plt.gca().axis(\"on\")"
   ]
  },
  {
   "cell_type": "markdown",
   "id": "b7fdb441-5312-4615-a388-de5d4e2c2e7a",
   "metadata": {},
   "source": [
    "## Inject the randomly selected lens (we have already selected \n",
    "## a lens above)."
   ]
  },
  {
   "cell_type": "markdown",
   "id": "e9a276ad-8013-4389-b763-e83fdaac2429",
   "metadata": {},
   "source": [
    "## 1. r band"
   ]
  },
  {
   "cell_type": "code",
   "execution_count": null,
   "id": "d20b7b8c-0c0a-4ec0-8451-e97cff62532f",
   "metadata": {
    "execution": {
     "iopub.execute_input": "2023-08-14T22:59:36.446964Z",
     "iopub.status.busy": "2023-08-14T22:59:36.446205Z",
     "iopub.status.idle": "2023-08-14T22:59:36.456543Z",
     "shell.execute_reply": "2023-08-14T22:59:36.455701Z",
     "shell.execute_reply.started": "2023-08-14T22:59:36.446932Z"
    },
    "tags": []
   },
   "outputs": [],
   "source": [
    "# This is a function which takes a simulated lens (in the form of gsobj) and injects in a dp0\n",
    "# cutout image.\n",
    "def injection(coadd_image, coaddId, gsobj):\n",
    "    wcs = coadd_image.getWcs()\n",
    "    bbox = coadd_image.getBBox()\n",
    "    x_min = bbox.getMinX()\n",
    "    y_min = bbox.getMinY()\n",
    "    x_max = bbox.getMaxX()\n",
    "    y_max = bbox.getMaxY()\n",
    "\n",
    "    # Calculate the center coordinates\n",
    "    x_center = (x_min + x_max) / 2\n",
    "    y_center = (y_min + y_max) / 2\n",
    "\n",
    "    center = geom.Point2D(x_center, y_center)\n",
    "    # geom.Point2D(26679, 15614)\n",
    "    point = wcs.pixelToSky(center)\n",
    "    print(point)\n",
    "\n",
    "    image = butler.get(\"deepCoadd\", parameters={\"bbox\": bbox}, dataId=coaddId)\n",
    "    mat = np.eye(3)\n",
    "    mat[:2, :2] = wcs.getCdMatrix()\n",
    "\n",
    "    transform = Affine2D(mat)\n",
    "    fig = plt.figure(figsize=(20, 18))\n",
    "    arr = np.copy(image.image.array)\n",
    "    plot_extents = 0, bbox.width, 0, bbox.height\n",
    "    helper = floating_axes.GridHelperCurveLinear(\n",
    "        transform,\n",
    "        plot_extents,\n",
    "        tick_formatter1=DictFormatter({}),\n",
    "        tick_formatter2=DictFormatter({}),\n",
    "        grid_locator1=MaxNLocator(nbins=1),\n",
    "        grid_locator2=MaxNLocator(nbins=1),\n",
    "    )\n",
    "    ax = floating_axes.FloatingSubplot(fig, 132, grid_helper=helper)\n",
    "    ax.imshow((arr), vmin=0, transform=transform + ax.transData, origin=\"lower\")\n",
    "\n",
    "    fig.add_subplot(ax)\n",
    "    print(point)\n",
    "    _add_fake_sources(image, [(point, gsobj)])\n",
    "    inj_arr = image.image.array\n",
    "    plot_extents = 0, bbox.width, 0, bbox.height\n",
    "    helper = floating_axes.GridHelperCurveLinear(\n",
    "        transform,\n",
    "        plot_extents,\n",
    "        tick_formatter1=DictFormatter({}),\n",
    "        tick_formatter2=DictFormatter({}),\n",
    "        grid_locator1=MaxNLocator(nbins=1),\n",
    "        grid_locator2=MaxNLocator(nbins=1),\n",
    "    )\n",
    "    ax = floating_axes.FloatingSubplot(fig, 133, grid_helper=helper)\n",
    "    ax.imshow((inj_arr), vmin=0, transform=transform + ax.transData, origin=\"lower\")\n",
    "\n",
    "    fig.add_subplot(ax)\n",
    "\n",
    "    ax = floating_axes.FloatingSubplot(fig, 131, grid_helper=helper)\n",
    "    ax.imshow(\n",
    "        (inj_arr - arr), vmin=0, transform=transform + ax.transData, origin=\"lower\"\n",
    "    )\n",
    "\n",
    "    fig.add_subplot(ax)\n",
    "    # fig.suptitle(repr(coaddId))\n",
    "    return fig.show(), inj_arr, arr"
   ]
  },
  {
   "cell_type": "code",
   "execution_count": null,
   "id": "c5038c98-ea54-4fd2-ad25-b9ef9390ba30",
   "metadata": {
    "execution": {
     "iopub.execute_input": "2023-08-14T22:58:01.216124Z",
     "iopub.status.busy": "2023-08-14T22:58:01.215281Z",
     "iopub.status.idle": "2023-08-14T22:58:03.131152Z",
     "shell.execute_reply": "2023-08-14T22:58:03.130301Z",
     "shell.execute_reply.started": "2023-08-14T22:58:01.216094Z"
    },
    "tags": []
   },
   "outputs": [],
   "source": [
    "injection_in_r_band = injection(coadd_cut_r, coaddId_r, gsobj_r)"
   ]
  },
  {
   "cell_type": "markdown",
   "id": "3a9b1596-e47e-4086-a662-3814445dbaca",
   "metadata": {
    "execution": {
     "iopub.execute_input": "2023-07-21T18:55:21.772661Z",
     "iopub.status.busy": "2023-07-21T18:55:21.771600Z",
     "iopub.status.idle": "2023-07-21T18:55:21.776010Z",
     "shell.execute_reply": "2023-07-21T18:55:21.775339Z",
     "shell.execute_reply.started": "2023-07-21T18:55:21.772623Z"
    },
    "tags": []
   },
   "source": [
    "## 2. g band"
   ]
  },
  {
   "cell_type": "code",
   "execution_count": null,
   "id": "1c0b45cb-9f3c-4b5e-86b9-e75bbfb8afff",
   "metadata": {
    "execution": {
     "iopub.execute_input": "2023-08-14T22:58:08.407001Z",
     "iopub.status.busy": "2023-08-14T22:58:08.405991Z",
     "iopub.status.idle": "2023-08-14T22:58:09.607978Z",
     "shell.execute_reply": "2023-08-14T22:58:09.607180Z",
     "shell.execute_reply.started": "2023-08-14T22:58:08.406963Z"
    },
    "tags": []
   },
   "outputs": [],
   "source": [
    "injection_in_g_band = injection(coadd_cut_g, coaddId_g, gsobj_g)"
   ]
  },
  {
   "cell_type": "markdown",
   "id": "f7295c2f-ed6a-4239-971e-5e06a31c1fa2",
   "metadata": {},
   "source": [
    "## 3. i band"
   ]
  },
  {
   "cell_type": "code",
   "execution_count": null,
   "id": "72ed22d2-e28a-456f-ac03-c803b76128d5",
   "metadata": {
    "execution": {
     "iopub.execute_input": "2023-08-14T22:58:15.205619Z",
     "iopub.status.busy": "2023-08-14T22:58:15.205078Z",
     "iopub.status.idle": "2023-08-14T22:58:17.193598Z",
     "shell.execute_reply": "2023-08-14T22:58:17.192708Z",
     "shell.execute_reply.started": "2023-08-14T22:58:15.205587Z"
    },
    "tags": []
   },
   "outputs": [],
   "source": [
    "injection_in_i_band = injection(coadd_cut_i, coaddId_i, gsobj_i)"
   ]
  },
  {
   "cell_type": "markdown",
   "id": "0e989a47-f6b0-44d8-8288-d17edcbeb200",
   "metadata": {
    "tags": []
   },
   "source": [
    "## Create rgb images"
   ]
  },
  {
   "cell_type": "code",
   "execution_count": null,
   "id": "e34b4471-3ad9-4881-98b3-4c71cd7d9ad6",
   "metadata": {
    "execution": {
     "iopub.execute_input": "2023-08-14T22:58:21.264353Z",
     "iopub.status.busy": "2023-08-14T22:58:21.263623Z",
     "iopub.status.idle": "2023-08-14T22:58:21.280584Z",
     "shell.execute_reply": "2023-08-14T22:58:21.279607Z",
     "shell.execute_reply.started": "2023-08-14T22:58:21.264322Z"
    },
    "tags": []
   },
   "outputs": [],
   "source": [
    "inj_arr_i = injection_in_i_band[1]\n",
    "inj_arr_g = injection_in_g_band[1]\n",
    "inj_arr_r = injection_in_r_band[1]\n",
    "arr_i = injection_in_i_band[2]\n",
    "arr_g = injection_in_g_band[2]\n",
    "arr_r = injection_in_r_band[2]\n",
    "\n",
    "image_list = [inj_arr_i, inj_arr_r, inj_arr_g]\n",
    "image_list_1 = [arr_i, arr_r, arr_g]\n",
    "final_injected_image = rgb_image_from_image_list(image_list=image_list, stretch=2)\n",
    "final_uninjected_image = rgb_image_from_image_list(image_list=image_list_1, stretch=2)"
   ]
  },
  {
   "cell_type": "code",
   "execution_count": null,
   "id": "9fecef55-4c47-48a2-abac-72ff88134cd8",
   "metadata": {
    "execution": {
     "iopub.execute_input": "2023-08-14T22:58:23.270496Z",
     "iopub.status.busy": "2023-08-14T22:58:23.269605Z",
     "iopub.status.idle": "2023-08-14T22:58:23.488982Z",
     "shell.execute_reply": "2023-08-14T22:58:23.488173Z",
     "shell.execute_reply.started": "2023-08-14T22:58:23.270463Z"
    },
    "tags": []
   },
   "outputs": [],
   "source": [
    "plt.imshow(final_uninjected_image, extent=[0, bbox.width, 0, bbox.height])"
   ]
  },
  {
   "cell_type": "code",
   "execution_count": null,
   "id": "705e9657-d9b0-46c0-9cd1-a1c034db5cb8",
   "metadata": {
    "execution": {
     "iopub.execute_input": "2023-08-14T22:58:26.108665Z",
     "iopub.status.busy": "2023-08-14T22:58:26.107934Z",
     "iopub.status.idle": "2023-08-14T22:58:26.330607Z",
     "shell.execute_reply": "2023-08-14T22:58:26.329625Z",
     "shell.execute_reply.started": "2023-08-14T22:58:26.108634Z"
    },
    "tags": []
   },
   "outputs": [],
   "source": [
    "plt.imshow(final_injected_image, extent=[0, bbox.width, 0, bbox.height])"
   ]
  },
  {
   "cell_type": "code",
   "execution_count": null,
   "id": "385046fb-4b04-4705-aae0-59acaa8f1050",
   "metadata": {
    "execution": {
     "iopub.execute_input": "2023-08-14T22:58:29.093929Z",
     "iopub.status.busy": "2023-08-14T22:58:29.093128Z",
     "iopub.status.idle": "2023-08-14T22:58:29.292005Z",
     "shell.execute_reply": "2023-08-14T22:58:29.291149Z",
     "shell.execute_reply.started": "2023-08-14T22:58:29.093896Z"
    },
    "tags": []
   },
   "outputs": [],
   "source": [
    "plt.imshow(\n",
    "    final_injected_image - final_uninjected_image,\n",
    "    extent=[0, bbox.width, 0, bbox.height],\n",
    ")"
   ]
  },
  {
   "cell_type": "markdown",
   "id": "41002517-587c-4d5e-ac97-d6dafee3e345",
   "metadata": {},
   "source": [
    "## Instead all above process, one can simply call lsst_science_pipeline \n",
    "## module from slsim and do all aove process"
   ]
  },
  {
   "cell_type": "code",
   "execution_count": null,
   "id": "c3583a71-357a-4a32-8ffc-3093d58cffe6",
   "metadata": {
    "execution": {
     "iopub.execute_input": "2023-07-31T21:23:45.432354Z",
     "iopub.status.busy": "2023-07-31T21:23:45.431497Z",
     "iopub.status.idle": "2023-07-31T21:23:45.435397Z",
     "shell.execute_reply": "2023-07-31T21:23:45.434770Z",
     "shell.execute_reply.started": "2023-07-31T21:23:45.432323Z"
    },
    "tags": []
   },
   "outputs": [],
   "source": [
    "ra = 62.541629  # degrees\n",
    "dec = -37.852021  # degrees"
   ]
  },
  {
   "cell_type": "code",
   "execution_count": null,
   "id": "42db18da-5d0a-4dfc-86e6-7314936b4005",
   "metadata": {
    "execution": {
     "iopub.execute_input": "2023-07-31T21:23:47.574166Z",
     "iopub.status.busy": "2023-07-31T21:23:47.573355Z",
     "iopub.status.idle": "2023-07-31T21:23:58.136282Z",
     "shell.execute_reply": "2023-07-31T21:23:58.135425Z",
     "shell.execute_reply.started": "2023-07-31T21:23:47.574135Z"
    },
    "tags": []
   },
   "outputs": [],
   "source": [
    "y = lsst_science_pipeline.lens_inejection(\n",
    "    gg_lens_pop, 201, 0.2, butler, ra, dec, flux=None\n",
    ")"
   ]
  },
  {
   "cell_type": "code",
   "execution_count": null,
   "id": "870ff6da-17d5-459a-90c5-8c0b0fb1b3f0",
   "metadata": {
    "execution": {
     "iopub.execute_input": "2023-07-31T21:25:26.587461Z",
     "iopub.status.busy": "2023-07-31T21:25:26.586546Z",
     "iopub.status.idle": "2023-07-31T21:25:26.593078Z",
     "shell.execute_reply": "2023-07-31T21:25:26.592444Z",
     "shell.execute_reply.started": "2023-07-31T21:25:26.587426Z"
    },
    "tags": []
   },
   "outputs": [],
   "source": [
    "## This line should display an astropy table containg lens image,dp0 cutout_image, injected_lens\n",
    "## in r, g, and i band and  center of the dp0 cutout images.\n",
    "y"
   ]
  }
 ],
 "metadata": {
  "kernelspec": {
   "display_name": "LSST",
   "language": "python",
   "name": "lsst"
  },
  "language_info": {
   "codemirror_mode": {
    "name": "ipython",
    "version": 3
   },
   "file_extension": ".py",
   "mimetype": "text/x-python",
   "name": "python",
   "nbconvert_exporter": "python",
   "pygments_lexer": "ipython3",
   "version": "3.11.4"
  }
 },
 "nbformat": 4,
 "nbformat_minor": 5
}
