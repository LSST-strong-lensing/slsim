{
 "cells": [
  {
   "cell_type": "code",
   "execution_count": null,
   "metadata": {},
   "outputs": [],
   "source": [
    "from astropy.cosmology import FlatLambdaCDM\n",
    "from astropy.units import Quantity\n",
    "from slsim.lens_pop import LensPop\n",
    "import numpy as np\n",
    "from slsim.image_simulation import lens_image_series\n",
    "from slsim.Plots.plot_functions import create_image_montage_from_image_list\n",
    "from slsim.image_simulation import point_source_coordinate_properties\n",
    "import matplotlib.pyplot as plt\n",
    "import corner\n",
    "import slsim.Pipelines as pipelines\n",
    "import slsim.Deflectors as deflectors\n",
    "from slsim.Sources.point_plus_extended_sources import PointPlusExtendedSources\n",
    "from astropy.table import Table"
   ]
  },
  {
   "cell_type": "markdown",
   "metadata": {},
   "source": [
    "## Supernovae plus extended source simulation\n",
    "In this notebook, we simulate population of lensed supernovae and simulate image of a \n",
    "\n",
    "random lensed supernovae. It follows following steps:\n",
    "\n",
    "1. Simulate lensed supernovae population\n",
    "2. Choose a lens at random\n",
    "3. Set observation time and other image configuration\n",
    "4. Simulate image of a selected lens\n",
    "5. Visualize it\n",
    "\n",
    "Before running this notebook, please download the \"scotch_SNIa_host_galaxies.fits\"\n",
    "\n",
    "file from the following link: https://github.com/LSST-strong-lensing/data_public.git. \n",
    "\n",
    "This file contains type Ia supernovae host galaxies."
   ]
  },
  {
   "cell_type": "markdown",
   "metadata": {},
   "source": [
    "## Simulate lensed supernovae population"
   ]
  },
  {
   "cell_type": "code",
   "execution_count": null,
   "metadata": {},
   "outputs": [],
   "source": [
    "# define a cosmology\n",
    "cosmo = FlatLambdaCDM(H0=70, Om0=0.3)\n",
    "\n",
    "\n",
    "# define a sky area\n",
    "sky_area = Quantity(value=1, unit=\"deg2\")\n",
    "\n",
    "\n",
    "# define limits in the intrinsic deflector and source population (in addition to the\n",
    "# skypy config\n",
    "# file)\n",
    "kwargs_deflector_cut = {\"band\": \"g\", \"band_max\": 23, \"z_min\": 0.01, \"z_max\": 2.5}\n",
    "kwargs_source_cut = {\"z_min\": 0.1, \"z_max\": 5.0}"
   ]
  },
  {
   "cell_type": "code",
   "execution_count": null,
   "metadata": {},
   "outputs": [],
   "source": [
    "# Generate galaxy population using skypy pipeline.\n",
    "galaxy_simulation_pipeline = pipelines.SkyPyPipeline(\n",
    "    skypy_config=None, sky_area=sky_area, filters=None, cosmo=cosmo\n",
    ")"
   ]
  },
  {
   "cell_type": "code",
   "execution_count": null,
   "metadata": {},
   "outputs": [],
   "source": [
    "# Initiate deflector population class.\n",
    "lens_galaxies = deflectors.AllLensGalaxies(\n",
    "    red_galaxy_list=galaxy_simulation_pipeline.red_galaxies,\n",
    "    blue_galaxy_list=galaxy_simulation_pipeline.blue_galaxies,\n",
    "    kwargs_cut=kwargs_deflector_cut,\n",
    "    kwargs_mass2light=None,\n",
    "    cosmo=cosmo,\n",
    "    sky_area=sky_area,\n",
    ")"
   ]
  },
  {
   "cell_type": "code",
   "execution_count": null,
   "metadata": {},
   "outputs": [],
   "source": [
    "# Scotch host galaxy catalog can be downloaded from\n",
    "# https://github.com/LSST-strong-lensing/data_public/blob/main/SupernovaeHostcatalog/scotch_SNIa_host_galaxies.fits\n",
    "# Please download the data and give your path.\n",
    "path = \"/Users/narayankhadka/Desktop/strong_lensing/scotch_SNIa_host_galaxies.fits\"\n",
    "load_supernovae_data = Table.read(\n",
    "    path,\n",
    "    format=\"fits\",\n",
    ")"
   ]
  },
  {
   "cell_type": "code",
   "execution_count": null,
   "metadata": {},
   "outputs": [],
   "source": [
    "# Initiate source population class.\n",
    "supernovae_host_population = PointPlusExtendedSources(\n",
    "    load_supernovae_data,\n",
    "    cosmo=cosmo,\n",
    "    sky_area=sky_area,\n",
    "    kwargs_cut=kwargs_source_cut,  # cuts that one wants to apply for\n",
    "    # the source.\n",
    "    variability_model=\"light_curve\",  # keyword for the variability model.\n",
    "    kwargs_variability_model={\"supernovae_lightcurve\", \"i\"},  # specify kewords for\n",
    "    # lightcurve. \"i\" is a band for the lightcurve.\n",
    "    list_type=\"astropy_table\",  # the data is in astropy table\n",
    "    catalog_type=\"scotch\",  # catalog type. It can be None or scotch\n",
    "    light_profile=\"double_sersic\",  # light profile for the source galaxy\n",
    ")"
   ]
  },
  {
   "cell_type": "code",
   "execution_count": null,
   "metadata": {},
   "outputs": [],
   "source": [
    "# Initiate LensPop class\n",
    "sn_modeldir = \"/Users/narayankhadka/downloads/sncosmo_sn_models/SALT3.NIR_WAVEEXT\"\n",
    "supernova_lens_pop = LensPop(\n",
    "    deflector_population=lens_galaxies,\n",
    "    source_population=supernovae_host_population,\n",
    "    sky_area=sky_area,\n",
    "    cosmo=cosmo,\n",
    "    sn_type=\"Ia\",\n",
    "    sn_absolute_mag_band=\"bessellb\",\n",
    "    sn_absolute_zpsys=\"ab\",\n",
    "    lightcurve_time=np.linspace(-20, 100, 1000),\n",
    "    sn_modeldir=sn_modeldir,\n",
    ")"
   ]
  },
  {
   "cell_type": "markdown",
   "metadata": {},
   "source": [
    "## Choose a random lens"
   ]
  },
  {
   "cell_type": "code",
   "execution_count": null,
   "metadata": {},
   "outputs": [],
   "source": [
    "# specifying cuts of the population\n",
    "kwargs_lens_cuts = {}\n",
    "# drawing population\n",
    "supernovae_lens_population = supernova_lens_pop.draw_population(\n",
    "    kwargs_lens_cuts=kwargs_lens_cuts\n",
    ")"
   ]
  },
  {
   "cell_type": "code",
   "execution_count": null,
   "metadata": {},
   "outputs": [],
   "source": [
    "print(\"Number of lenses:\", len(supernovae_lens_population))\n",
    "\n",
    "lens_samples = []\n",
    "labels = [\n",
    "    r\"$\\sigma_v$\",\n",
    "    r\"$\\log(M_{*})$\",\n",
    "    r\"$\\theta_E$\",\n",
    "    r\"$z_{\\rm l}$\",\n",
    "    r\"$z_{\\rm s}$\",\n",
    "    r\"$m_{\\rm host}$\",\n",
    "    r\"$m_{\\rm ps}$\",\n",
    "    r\"$m_{\\rm lens}$\",\n",
    "]\n",
    "\n",
    "for supernovae_lens in supernovae_lens_population:\n",
    "    vel_disp = supernovae_lens.deflector_velocity_dispersion()\n",
    "    m_star = supernovae_lens.deflector_stellar_mass()\n",
    "    theta_e = supernovae_lens.einstein_radius\n",
    "    zl = supernovae_lens.deflector_redshift\n",
    "    zs = supernovae_lens.source_redshift\n",
    "    source_mag = supernovae_lens.extended_source_magnitude(band=\"i\", lensed=True)\n",
    "    ps_source_mag = supernovae_lens.point_source_magnitude(band=\"i\")\n",
    "    deflector_mag = supernovae_lens.deflector_magnitude(band=\"i\")\n",
    "    lens_samples.append(\n",
    "        [\n",
    "            vel_disp,\n",
    "            np.log10(m_star),\n",
    "            theta_e,\n",
    "            zl,\n",
    "            source_mag,\n",
    "            ps_source_mag,\n",
    "            deflector_mag,\n",
    "        ]\n",
    "    )"
   ]
  },
  {
   "cell_type": "code",
   "execution_count": null,
   "metadata": {},
   "outputs": [],
   "source": [
    "hist2dkwargs = {\n",
    "    \"plot_density\": False,\n",
    "    \"plot_contours\": False,\n",
    "    \"plot_datapoints\": True,\n",
    "    \"color\": \"b\",\n",
    "    \"data_kwargs\": {\"ms\": 5},\n",
    "}\n",
    "corner.corner(\n",
    "    np.array(lens_samples), labels=labels, label_kwargs={\"fontsize\": 20}, **hist2dkwargs\n",
    ")\n",
    "plt.show()"
   ]
  },
  {
   "cell_type": "markdown",
   "metadata": {},
   "source": [
    "## Choose a lens to simulate an image"
   ]
  },
  {
   "cell_type": "code",
   "execution_count": null,
   "metadata": {},
   "outputs": [],
   "source": [
    "kwargs_lens_cut = {\"min_image_separation\": 1, \"max_image_separation\": 10}\n",
    "rgb_band_list = [\"i\", \"r\", \"g\"]\n",
    "lens_class = supernovae_lens_population[0]\n",
    "(\n",
    "    lens_class.source.source_dict[\"z\"],\n",
    "    lens_class.einstein_radius,\n",
    "    lens_class.source.source_dict[\"mag_i\"],\n",
    "    lens_class.source.source_dict[\"ps_mag_i\"],\n",
    "    lens_class.deflector.magnitude(\"i\"),\n",
    "    lens_class.deflector.redshift,\n",
    ")"
   ]
  },
  {
   "cell_type": "code",
   "execution_count": null,
   "metadata": {},
   "outputs": [],
   "source": [
    "pix_coord = point_source_coordinate_properties(\n",
    "    lens_class,\n",
    "    band=\"i\",\n",
    "    mag_zero_point=27,\n",
    "    delta_pix=0.2,\n",
    "    num_pix=32,\n",
    "    transform_pix2angle=np.array([[0.2, 0], [0, 0.2]]),\n",
    ")[\"image_pix\"]"
   ]
  },
  {
   "cell_type": "code",
   "execution_count": null,
   "metadata": {},
   "outputs": [],
   "source": [
    "pix_coord"
   ]
  },
  {
   "cell_type": "markdown",
   "metadata": {},
   "source": [
    "## See the light curve of a selected supernovae"
   ]
  },
  {
   "cell_type": "code",
   "execution_count": null,
   "metadata": {},
   "outputs": [],
   "source": [
    "light_curve = lens_class.source.variability_class.kwargs_model"
   ]
  },
  {
   "cell_type": "code",
   "execution_count": null,
   "metadata": {},
   "outputs": [],
   "source": [
    "plt.plot(light_curve[\"MJD\"], light_curve[\"ps_mag_i\"])\n",
    "# plt.ylim(12, 18)\n",
    "plt.gca().invert_yaxis()\n",
    "plt.ylabel(\"Magnitude\")\n",
    "plt.xlabel(\"Time\" \"[Days]\")\n",
    "plt.xlim(-22, 100)"
   ]
  },
  {
   "cell_type": "markdown",
   "metadata": {},
   "source": [
    "## Set observation time and image configuration"
   ]
  },
  {
   "cell_type": "code",
   "execution_count": null,
   "metadata": {},
   "outputs": [],
   "source": [
    "time = np.array([-19.5, -15, -11.35135135135135, 0, 10, 20, 25, 30, 40, 44.86])\n",
    "# time = sorted(np.random.uniform(-20, 100, 10))\n",
    "# time = np.array([0, 50, 70, 120])\n",
    "repeats = 10\n",
    "# load your psf kernel and transform matrix. If you have your own psf, please provide\n",
    "# it here.\n",
    "path = \"../tests/TestData/psf_kernels_for_deflector.npy\"\n",
    "psf_kernel = 1 * np.load(path)\n",
    "psf_kernel[psf_kernel < 0] = 0\n",
    "transform_matrix = np.array([[0.2, 0], [0, 0.2]])\n",
    "\n",
    "# let's set up psf kernel for each exposure. Here we have taken the same psf that we\n",
    "# extracted above. However, each exposure can have different psf kernel and user should\n",
    "# provide corresponding psf kernel to each exposure.\n",
    "psf_kernel_list = [psf_kernel]\n",
    "transform_matrix_list = [transform_matrix]\n",
    "psf_kernels_all = psf_kernel_list * repeats\n",
    "# psf_kernels_all = np.array([dp0[\"psf_kernel\"][:10]])[0]\n",
    "\n",
    "# let's set pixel to angle transform matrix. Here we have taken the same matrix for\n",
    "# each exposure but user should provide corresponding transform matrix to each exposure.\n",
    "transform_matrix_all = transform_matrix_list * repeats\n",
    "\n",
    "# provide magnitude zero point for each exposures. Here we have taken the same magnitude\n",
    "#  zero point for each exposure but user should provide the corresponding magnitude\n",
    "# zero point for each exposure.\n",
    "mag_list = [31.0]\n",
    "mag_zero_points_all = mag_list * repeats\n",
    "# mag_zero_points_all = np.array([dp0[\"zero_point\"][:10]])[0]\n",
    "\n",
    "expo_list = [30]\n",
    "exposure_time_all = expo_list * repeats"
   ]
  },
  {
   "cell_type": "markdown",
   "metadata": {},
   "source": [
    "## Simulate Image"
   ]
  },
  {
   "cell_type": "code",
   "execution_count": null,
   "metadata": {},
   "outputs": [],
   "source": [
    "# Simulate a lens image\n",
    "image_lens_series = lens_image_series(\n",
    "    lens_class=lens_class,\n",
    "    band=\"i\",\n",
    "    mag_zero_point=mag_zero_points_all,\n",
    "    num_pix=32,\n",
    "    psf_kernel=psf_kernels_all,\n",
    "    transform_pix2angle=transform_matrix_all,\n",
    "    exposure_time=exposure_time_all,\n",
    "    t_obs=time,\n",
    "    with_deflector=True,\n",
    "    with_source=True,\n",
    ")"
   ]
  },
  {
   "cell_type": "code",
   "execution_count": null,
   "metadata": {},
   "outputs": [],
   "source": [
    "## Images in log scale\n",
    "log_images = []\n",
    "for i in range(len(image_lens_series)):\n",
    "    log_images.append(np.log10(image_lens_series[i]))"
   ]
  },
  {
   "cell_type": "markdown",
   "metadata": {},
   "source": [
    "## Visualize simulated images"
   ]
  },
  {
   "cell_type": "code",
   "execution_count": null,
   "metadata": {},
   "outputs": [],
   "source": [
    "plot_montage = create_image_montage_from_image_list(\n",
    "    num_rows=2, num_cols=5, images=image_lens_series, time=time, image_center=pix_coord\n",
    ")"
   ]
  },
  {
   "cell_type": "code",
   "execution_count": null,
   "metadata": {},
   "outputs": [],
   "source": []
  }
 ],
 "metadata": {
  "kernelspec": {
   "display_name": "base",
   "language": "python",
   "name": "python3"
  },
  "language_info": {
   "codemirror_mode": {
    "name": "ipython",
    "version": 3
   },
   "file_extension": ".py",
   "mimetype": "text/x-python",
   "name": "python",
   "nbconvert_exporter": "python",
   "pygments_lexer": "ipython3",
   "version": "3.9.7"
  }
 },
 "nbformat": 4,
 "nbformat_minor": 2
}
