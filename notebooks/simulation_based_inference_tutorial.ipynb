{
 "cells": [],
 "metadata": {
  "kernelspec": {
   "display_name": "slsim-env",
   "language": "python",
   "name": "python3"
  },
  "language_info": {
   "name": "python",
   "version": "3.10.14"
  }
 },
 "nbformat": 4,
 "nbformat_minor": 2
}
