{
 "cells": [
  {
   "cell_type": "code",
   "execution_count": 1,
   "metadata": {},
   "outputs": [],
   "source": [
    "from astropy.cosmology import FlatLambdaCDM\n",
    "from astropy.units import Quantity\n",
    "from slsim.lens_pop import LensPop\n",
    "import numpy as np\n",
    "import matplotlib.pyplot as plt\n",
    "import corner\n",
    "import astropy.coordinates as coord\n",
    "import astropy.units as u\n",
    "import pickle\n",
    "import time\n",
    "import os\n",
    "\n",
    "import slsim\n",
    "import slsim.Sources as sources\n",
    "import slsim.Pipelines as pipelines\n",
    "import slsim.Deflectors as deflectors\n",
    "\n",
    "from slsim.image_simulation import lens_image_series, sharp_rgb_image\n",
    "from slsim.Plots.plot_functions import create_image_montage_from_image_list\n",
    "from slsim.image_simulation import point_source_coordinate_properties\n",
    "from slsim.LsstSciencePipeline import opsim_pipeline\n",
    "from slsim.LsstSciencePipeline.util_lsst import opsim_variable_lens_injection"
   ]
  },
  {
   "cell_type": "markdown",
   "metadata": {},
   "source": [
    "## Supernovae plus extended source simulation using OpSim\n",
    "In this notebook, we simulate a population of lensed supernovae and simulated data of a random lensed supernovae, using the observing strategy from [OpSim](https://www.lsst.org/scientists/simulations/opsim). These are simulated databases with observations form the Vera Rubin Observatory that contain the distribution of bands, observing times, sky locations, psf, limiting magnitudes, sky brightness, and more. \n",
    "\n",
    "This notebook follows the following steps:\n",
    "\n",
    "1. Simulate lensed supernovae population\n",
    "2. Choose a lens at random\n",
    "3. Use OpSim to obtain the observation properties\n",
    "4. Visualize the light curves and observations of the selected lens\n",
    "4. Visualize time series of images of a selected lens\n",
    "\n",
    "Before running this notebook, please download an OpSim database from [here](https://s3df.slac.stanford.edu/data/rubin/sim-data/) (for example, select ```sim-data/sims_featureScheduler_runs3.4/baseline/baseline_v3.4_10yrs.db```). Place it in the folder ```../data/OpSim_database/```.\n",
    "\n",
    "Additionally, download the SALT3.NIR_WAVEEXT directory from [here](https://github.com/LSST-strong-lensing/data_public/tree/main/sncosmo_sn_models) and place the directory in the folder ```../data/```. These files are a modified version of the type Ia models which have the lower and upper wavelength ranges extended."
   ]
  },
  {
   "cell_type": "markdown",
   "metadata": {},
   "source": [
    "## Simulate lens and source galaxy populations"
   ]
  },
  {
   "cell_type": "code",
   "execution_count": null,
   "metadata": {},
   "outputs": [
    {
     "name": "stderr",
     "output_type": "stream",
     "text": [
      "/Users/nikki/Documents/Research/Projects/slsim/slsim/Deflectors/all_lens_galaxies.py:47: UserWarning: Angular size is converted to arcsec because provided input_catalog_type is skypy. If this is not correct, please refer to the documentation of the class you are using\n",
      "  red_galaxy_list = catalog_with_angular_size_in_arcsec(\n",
      "/Users/nikki/Documents/Research/Projects/slsim/slsim/Deflectors/all_lens_galaxies.py:50: UserWarning: Angular size is converted to arcsec because provided input_catalog_type is skypy. If this is not correct, please refer to the documentation of the class you are using\n",
      "  blue_galaxy_list = catalog_with_angular_size_in_arcsec(\n",
      "/Users/nikki/Documents/Research/Projects/slsim/slsim/lensed_population_base.py:53: UserWarning: No sky area provided, instead uses 0.1 deg2\n",
      "  warnings.warn(\"No sky area provided, instead uses 0.1 deg2\")\n"
     ]
    },
    {
     "name": "stdout",
     "output_type": "stream",
     "text": [
      "Duration:  7.14 minutes\n"
     ]
    }
   ],
   "source": [
    "start_time = time.time()\n",
    "\n",
    "# define a cosmology\n",
    "H0 = 67.4\n",
    "cosmo = FlatLambdaCDM(H0=H0, Om0=0.3)\n",
    "\n",
    "# define sky area scaling\n",
    "sky_area = Quantity(value=4, unit=\"deg2\")\n",
    "\n",
    "# define source and deflector sky areas (by keeping these low, the simulation is faster)\n",
    "source_sky_area = Quantity(value=4, unit=\"deg2\")\n",
    "deflector_sky_area = Quantity(value=1, unit=\"deg2\")\n",
    "\n",
    "# define limits in the intrinsic deflector and source population\n",
    "kwargs_deflector_cut = {\"z_min\": 0.01, \"z_max\": 1.0}\n",
    "kwargs_source_cut = {\"z_min\": 0.01, \"z_max\": 1.5}\n",
    "\n",
    "galaxy_simulation_pipeline = pipelines.SkyPyPipeline(\n",
    "    skypy_config=None,\n",
    "    sky_area=sky_area,\n",
    "    filters=None,\n",
    ")\n",
    "\n",
    "lens_galaxies = deflectors.AllLensGalaxies(\n",
    "    red_galaxy_list=galaxy_simulation_pipeline.red_galaxies,\n",
    "    blue_galaxy_list=galaxy_simulation_pipeline.blue_galaxies,\n",
    "    kwargs_cut=kwargs_deflector_cut,\n",
    "    kwargs_mass2light={},\n",
    "    cosmo=cosmo,\n",
    "    sky_area=deflector_sky_area,\n",
    ")\n",
    "\n",
    "path = (\n",
    "    os.path.dirname(slsim.__file__) + \"/Sources/SupernovaeCatalog/supernovae_data.pkl\"\n",
    ")\n",
    "with open(path, \"rb\") as f:\n",
    "    supernovae_data = pickle.load(f)\n",
    "\n",
    "source_galaxies = sources.PointPlusExtendedSources(\n",
    "    point_plus_extended_sources_list=supernovae_data,\n",
    "    cosmo=cosmo,\n",
    "    sky_area=source_sky_area,\n",
    "    kwargs_cut=kwargs_source_cut,\n",
    "    variability_model=\"light_curve\",\n",
    "    kwargs_variability_model={\"MJD\", \"ps_mag_r\"},\n",
    "    list_type=\"list\",\n",
    ")\n",
    "\n",
    "supernova_lens_pop = LensPop(\n",
    "    deflector_population=lens_galaxies,\n",
    "    source_population=source_galaxies,\n",
    "    cosmo=cosmo,\n",
    "    sky_area=sky_area,\n",
    ")\n",
    "kwargs_lens_cut = {}\n",
    "supernova_lens_class = supernova_lens_pop.select_lens_at_random(**kwargs_lens_cut)\n",
    "\n",
    "\n",
    "end_time = time.time()\n",
    "print(\"Duration: \", np.around((end_time - start_time) / 60, 2), \"minutes\")"
   ]
  },
  {
   "cell_type": "code",
   "execution_count": 3,
   "metadata": {},
   "outputs": [
    {
     "name": "stdout",
     "output_type": "stream",
     "text": [
      "Found 151704 potential deflector galaxies and 1 potential source galaxies.\n"
     ]
    }
   ],
   "source": [
    "print(\n",
    "    \"Found\",\n",
    "    supernova_lens_pop.deflector_number,\n",
    "    \"potential deflector galaxies and\",\n",
    "    supernova_lens_pop.source_number,\n",
    "    \"potential source galaxies.\",\n",
    ")"
   ]
  },
  {
   "cell_type": "markdown",
   "metadata": {},
   "source": [
    "## Generate strong lensing systems and visualise properties"
   ]
  },
  {
   "cell_type": "code",
   "execution_count": 4,
   "metadata": {},
   "outputs": [
    {
     "name": "stdout",
     "output_type": "stream",
     "text": [
      "0.0 minutes needed to generate strong lenses.\n",
      "Number of strong lens systems: 0\n"
     ]
    }
   ],
   "source": [
    "start_time = time.time()\n",
    "# specifying cuts of the population\n",
    "kwargs_lens_cuts = {}\n",
    "# drawing population\n",
    "supernovae_lens_population = supernova_lens_pop.draw_population(\n",
    "    kwargs_lens_cuts=kwargs_lens_cuts, speed_factor=10000\n",
    ")\n",
    "\n",
    "end_time = time.time()\n",
    "print(\n",
    "    np.around((end_time - start_time) / 60, 2),\n",
    "    \"minutes needed to generate strong lenses.\",\n",
    ")\n",
    "print(\"Number of strong lens systems:\", len(supernovae_lens_population))"
   ]
  },
  {
   "cell_type": "code",
   "execution_count": 5,
   "metadata": {
    "scrolled": false
   },
   "outputs": [
    {
     "name": "stdout",
     "output_type": "stream",
     "text": [
      "z_l =  []\n",
      "z_s =  []\n"
     ]
    }
   ],
   "source": [
    "lens_samples = []\n",
    "labels = [\n",
    "    r\"$\\sigma_v$\",\n",
    "    r\"$\\log(M_{*})$\",\n",
    "    r\"$\\theta_E$\",\n",
    "    r\"$z_{\\rm l}$\",\n",
    "    r\"$z_{\\rm s}$\",\n",
    "    r\"$m_{\\rm host}$\",\n",
    "    r\"$m_{\\rm ps}$\",\n",
    "    r\"$m_{\\rm lens}$\",\n",
    "]\n",
    "\n",
    "z_l = []\n",
    "z_s = []\n",
    "\n",
    "for supernovae_lens in supernovae_lens_population:\n",
    "\n",
    "    z_l.append(supernovae_lens.deflector_redshift)\n",
    "    z_s.append(supernovae_lens.source_redshift)\n",
    "\n",
    "    vel_disp = supernovae_lens.deflector_velocity_dispersion()\n",
    "    m_star = supernovae_lens.deflector_stellar_mass()\n",
    "    theta_e = supernovae_lens.einstein_radius\n",
    "    zl = supernovae_lens.deflector_redshift\n",
    "    zs = supernovae_lens.source_redshift\n",
    "    source_mag = supernovae_lens.extended_source_magnitude(band=\"i\", lensed=True)\n",
    "    ps_source_mag = supernovae_lens.point_source_magnitude(band=\"i\")\n",
    "    deflector_mag = supernovae_lens.deflector_magnitude(band=\"i\")\n",
    "    lens_samples.append(\n",
    "        [\n",
    "            vel_disp,\n",
    "            np.log10(m_star),\n",
    "            theta_e,\n",
    "            zl,\n",
    "            zs,\n",
    "            source_mag,\n",
    "            ps_source_mag,\n",
    "            deflector_mag,\n",
    "        ]\n",
    "    )\n",
    "\n",
    "print(\"z_l = \", np.around(z_l, 2))\n",
    "print(\"z_s = \", np.around(z_s, 2))"
   ]
  },
  {
   "cell_type": "code",
   "execution_count": 6,
   "metadata": {},
   "outputs": [
    {
     "ename": "AssertionError",
     "evalue": "I don't believe that you want more dimensions than samples!",
     "output_type": "error",
     "traceback": [
      "\u001b[0;31m---------------------------------------------------------------------------\u001b[0m",
      "\u001b[0;31mAssertionError\u001b[0m                            Traceback (most recent call last)",
      "Cell \u001b[0;32mIn[6], line 8\u001b[0m\n\u001b[1;32m      1\u001b[0m hist2dkwargs \u001b[38;5;241m=\u001b[39m {\n\u001b[1;32m      2\u001b[0m     \u001b[38;5;124m\"\u001b[39m\u001b[38;5;124mplot_density\u001b[39m\u001b[38;5;124m\"\u001b[39m: \u001b[38;5;28;01mFalse\u001b[39;00m,\n\u001b[1;32m      3\u001b[0m     \u001b[38;5;124m\"\u001b[39m\u001b[38;5;124mplot_contours\u001b[39m\u001b[38;5;124m\"\u001b[39m: \u001b[38;5;28;01mFalse\u001b[39;00m,\n\u001b[0;32m   (...)\u001b[0m\n\u001b[1;32m      6\u001b[0m     \u001b[38;5;124m\"\u001b[39m\u001b[38;5;124mdata_kwargs\u001b[39m\u001b[38;5;124m\"\u001b[39m: {\u001b[38;5;124m\"\u001b[39m\u001b[38;5;124mms\u001b[39m\u001b[38;5;124m\"\u001b[39m: \u001b[38;5;241m5\u001b[39m},\n\u001b[1;32m      7\u001b[0m }\n\u001b[0;32m----> 8\u001b[0m \u001b[43mcorner\u001b[49m\u001b[38;5;241;43m.\u001b[39;49m\u001b[43mcorner\u001b[49m\u001b[43m(\u001b[49m\n\u001b[1;32m      9\u001b[0m \u001b[43m    \u001b[49m\u001b[43mnp\u001b[49m\u001b[38;5;241;43m.\u001b[39;49m\u001b[43marray\u001b[49m\u001b[43m(\u001b[49m\u001b[43mlens_samples\u001b[49m\u001b[43m)\u001b[49m\u001b[43m,\u001b[49m\u001b[43m \u001b[49m\u001b[43mlabels\u001b[49m\u001b[38;5;241;43m=\u001b[39;49m\u001b[43mlabels\u001b[49m\u001b[43m,\u001b[49m\u001b[43m \u001b[49m\u001b[43mlabel_kwargs\u001b[49m\u001b[38;5;241;43m=\u001b[39;49m\u001b[43m{\u001b[49m\u001b[38;5;124;43m\"\u001b[39;49m\u001b[38;5;124;43mfontsize\u001b[39;49m\u001b[38;5;124;43m\"\u001b[39;49m\u001b[43m:\u001b[49m\u001b[43m \u001b[49m\u001b[38;5;241;43m20\u001b[39;49m\u001b[43m}\u001b[49m\u001b[43m,\u001b[49m\u001b[43m \u001b[49m\u001b[38;5;241;43m*\u001b[39;49m\u001b[38;5;241;43m*\u001b[39;49m\u001b[43mhist2dkwargs\u001b[49m\n\u001b[1;32m     10\u001b[0m \u001b[43m)\u001b[49m\n\u001b[1;32m     11\u001b[0m plt\u001b[38;5;241m.\u001b[39mshow()\n",
      "File \u001b[0;32m~/anaconda3/envs/slsim/lib/python3.12/site-packages/corner/corner.py:248\u001b[0m, in \u001b[0;36mcorner\u001b[0;34m(data, bins, range, axes_scale, weights, color, hist_bin_factor, smooth, smooth1d, labels, label_kwargs, titles, show_titles, title_quantiles, title_fmt, title_kwargs, truths, truth_color, scale_hist, quantiles, verbose, fig, max_n_ticks, top_ticks, use_math_text, reverse, labelpad, hist_kwargs, group, var_names, filter_vars, coords, divergences, divergences_kwargs, labeller, **hist2d_kwargs)\u001b[0m\n\u001b[1;32m    236\u001b[0m     \u001b[38;5;28;01mif\u001b[39;00m (\n\u001b[1;32m    237\u001b[0m         var_names \u001b[38;5;129;01mis\u001b[39;00m \u001b[38;5;129;01mnot\u001b[39;00m \u001b[38;5;28;01mNone\u001b[39;00m\n\u001b[1;32m    238\u001b[0m         \u001b[38;5;129;01mor\u001b[39;00m filter_vars \u001b[38;5;129;01mis\u001b[39;00m \u001b[38;5;129;01mnot\u001b[39;00m \u001b[38;5;28;01mNone\u001b[39;00m\n\u001b[0;32m   (...)\u001b[0m\n\u001b[1;32m    242\u001b[0m         \u001b[38;5;129;01mor\u001b[39;00m labeller \u001b[38;5;129;01mis\u001b[39;00m \u001b[38;5;129;01mnot\u001b[39;00m \u001b[38;5;28;01mNone\u001b[39;00m\n\u001b[1;32m    243\u001b[0m     ):\n\u001b[1;32m    244\u001b[0m         logging\u001b[38;5;241m.\u001b[39mwarning(\n\u001b[1;32m    245\u001b[0m             \u001b[38;5;124m\"\u001b[39m\u001b[38;5;124mPlease install arviz to use the advanced features of corner\u001b[39m\u001b[38;5;124m\"\u001b[39m\n\u001b[1;32m    246\u001b[0m         )\n\u001b[0;32m--> 248\u001b[0m     \u001b[38;5;28;01mreturn\u001b[39;00m \u001b[43mcorner_impl\u001b[49m\u001b[43m(\u001b[49m\n\u001b[1;32m    249\u001b[0m \u001b[43m        \u001b[49m\u001b[43mdata\u001b[49m\u001b[43m,\u001b[49m\n\u001b[1;32m    250\u001b[0m \u001b[43m        \u001b[49m\u001b[43mbins\u001b[49m\u001b[38;5;241;43m=\u001b[39;49m\u001b[43mbins\u001b[49m\u001b[43m,\u001b[49m\n\u001b[1;32m    251\u001b[0m \u001b[43m        \u001b[49m\u001b[38;5;28;43mrange\u001b[39;49m\u001b[38;5;241;43m=\u001b[39;49m\u001b[38;5;28;43mrange\u001b[39;49m\u001b[43m,\u001b[49m\n\u001b[1;32m    252\u001b[0m \u001b[43m        \u001b[49m\u001b[43maxes_scale\u001b[49m\u001b[38;5;241;43m=\u001b[39;49m\u001b[43maxes_scale\u001b[49m\u001b[43m,\u001b[49m\n\u001b[1;32m    253\u001b[0m \u001b[43m        \u001b[49m\u001b[43mweights\u001b[49m\u001b[38;5;241;43m=\u001b[39;49m\u001b[43mweights\u001b[49m\u001b[43m,\u001b[49m\n\u001b[1;32m    254\u001b[0m \u001b[43m        \u001b[49m\u001b[43mcolor\u001b[49m\u001b[38;5;241;43m=\u001b[39;49m\u001b[43mcolor\u001b[49m\u001b[43m,\u001b[49m\n\u001b[1;32m    255\u001b[0m \u001b[43m        \u001b[49m\u001b[43mhist_bin_factor\u001b[49m\u001b[38;5;241;43m=\u001b[39;49m\u001b[43mhist_bin_factor\u001b[49m\u001b[43m,\u001b[49m\n\u001b[1;32m    256\u001b[0m \u001b[43m        \u001b[49m\u001b[43msmooth\u001b[49m\u001b[38;5;241;43m=\u001b[39;49m\u001b[43msmooth\u001b[49m\u001b[43m,\u001b[49m\n\u001b[1;32m    257\u001b[0m \u001b[43m        \u001b[49m\u001b[43msmooth1d\u001b[49m\u001b[38;5;241;43m=\u001b[39;49m\u001b[43msmooth1d\u001b[49m\u001b[43m,\u001b[49m\n\u001b[1;32m    258\u001b[0m \u001b[43m        \u001b[49m\u001b[43mlabels\u001b[49m\u001b[38;5;241;43m=\u001b[39;49m\u001b[43mlabels\u001b[49m\u001b[43m,\u001b[49m\n\u001b[1;32m    259\u001b[0m \u001b[43m        \u001b[49m\u001b[43mlabel_kwargs\u001b[49m\u001b[38;5;241;43m=\u001b[39;49m\u001b[43mlabel_kwargs\u001b[49m\u001b[43m,\u001b[49m\n\u001b[1;32m    260\u001b[0m \u001b[43m        \u001b[49m\u001b[43mtitles\u001b[49m\u001b[38;5;241;43m=\u001b[39;49m\u001b[43mtitles\u001b[49m\u001b[43m,\u001b[49m\n\u001b[1;32m    261\u001b[0m \u001b[43m        \u001b[49m\u001b[43mshow_titles\u001b[49m\u001b[38;5;241;43m=\u001b[39;49m\u001b[43mshow_titles\u001b[49m\u001b[43m,\u001b[49m\n\u001b[1;32m    262\u001b[0m \u001b[43m        \u001b[49m\u001b[43mtitle_quantiles\u001b[49m\u001b[38;5;241;43m=\u001b[39;49m\u001b[43mtitle_quantiles\u001b[49m\u001b[43m,\u001b[49m\n\u001b[1;32m    263\u001b[0m \u001b[43m        \u001b[49m\u001b[43mtitle_fmt\u001b[49m\u001b[38;5;241;43m=\u001b[39;49m\u001b[43mtitle_fmt\u001b[49m\u001b[43m,\u001b[49m\n\u001b[1;32m    264\u001b[0m \u001b[43m        \u001b[49m\u001b[43mtitle_kwargs\u001b[49m\u001b[38;5;241;43m=\u001b[39;49m\u001b[43mtitle_kwargs\u001b[49m\u001b[43m,\u001b[49m\n\u001b[1;32m    265\u001b[0m \u001b[43m        \u001b[49m\u001b[43mtruths\u001b[49m\u001b[38;5;241;43m=\u001b[39;49m\u001b[43mtruths\u001b[49m\u001b[43m,\u001b[49m\n\u001b[1;32m    266\u001b[0m \u001b[43m        \u001b[49m\u001b[43mtruth_color\u001b[49m\u001b[38;5;241;43m=\u001b[39;49m\u001b[43mtruth_color\u001b[49m\u001b[43m,\u001b[49m\n\u001b[1;32m    267\u001b[0m \u001b[43m        \u001b[49m\u001b[43mscale_hist\u001b[49m\u001b[38;5;241;43m=\u001b[39;49m\u001b[43mscale_hist\u001b[49m\u001b[43m,\u001b[49m\n\u001b[1;32m    268\u001b[0m \u001b[43m        \u001b[49m\u001b[43mquantiles\u001b[49m\u001b[38;5;241;43m=\u001b[39;49m\u001b[43mquantiles\u001b[49m\u001b[43m,\u001b[49m\n\u001b[1;32m    269\u001b[0m \u001b[43m        \u001b[49m\u001b[43mverbose\u001b[49m\u001b[38;5;241;43m=\u001b[39;49m\u001b[43mverbose\u001b[49m\u001b[43m,\u001b[49m\n\u001b[1;32m    270\u001b[0m \u001b[43m        \u001b[49m\u001b[43mfig\u001b[49m\u001b[38;5;241;43m=\u001b[39;49m\u001b[43mfig\u001b[49m\u001b[43m,\u001b[49m\n\u001b[1;32m    271\u001b[0m \u001b[43m        \u001b[49m\u001b[43mmax_n_ticks\u001b[49m\u001b[38;5;241;43m=\u001b[39;49m\u001b[43mmax_n_ticks\u001b[49m\u001b[43m,\u001b[49m\n\u001b[1;32m    272\u001b[0m \u001b[43m        \u001b[49m\u001b[43mtop_ticks\u001b[49m\u001b[38;5;241;43m=\u001b[39;49m\u001b[43mtop_ticks\u001b[49m\u001b[43m,\u001b[49m\n\u001b[1;32m    273\u001b[0m \u001b[43m        \u001b[49m\u001b[43muse_math_text\u001b[49m\u001b[38;5;241;43m=\u001b[39;49m\u001b[43muse_math_text\u001b[49m\u001b[43m,\u001b[49m\n\u001b[1;32m    274\u001b[0m \u001b[43m        \u001b[49m\u001b[43mreverse\u001b[49m\u001b[38;5;241;43m=\u001b[39;49m\u001b[43mreverse\u001b[49m\u001b[43m,\u001b[49m\n\u001b[1;32m    275\u001b[0m \u001b[43m        \u001b[49m\u001b[43mlabelpad\u001b[49m\u001b[38;5;241;43m=\u001b[39;49m\u001b[43mlabelpad\u001b[49m\u001b[43m,\u001b[49m\n\u001b[1;32m    276\u001b[0m \u001b[43m        \u001b[49m\u001b[43mhist_kwargs\u001b[49m\u001b[38;5;241;43m=\u001b[39;49m\u001b[43mhist_kwargs\u001b[49m\u001b[43m,\u001b[49m\n\u001b[1;32m    277\u001b[0m \u001b[43m        \u001b[49m\u001b[38;5;241;43m*\u001b[39;49m\u001b[38;5;241;43m*\u001b[39;49m\u001b[43mhist2d_kwargs\u001b[49m\u001b[43m,\u001b[49m\n\u001b[1;32m    278\u001b[0m \u001b[43m    \u001b[49m\u001b[43m)\u001b[49m\n\u001b[1;32m    280\u001b[0m \u001b[38;5;28;01mreturn\u001b[39;00m arviz_corner(\n\u001b[1;32m    281\u001b[0m     data,\n\u001b[1;32m    282\u001b[0m     bins\u001b[38;5;241m=\u001b[39mbins,\n\u001b[0;32m   (...)\u001b[0m\n\u001b[1;32m    316\u001b[0m     \u001b[38;5;241m*\u001b[39m\u001b[38;5;241m*\u001b[39mhist2d_kwargs,\n\u001b[1;32m    317\u001b[0m )\n",
      "File \u001b[0;32m~/anaconda3/envs/slsim/lib/python3.12/site-packages/corner/core.py:90\u001b[0m, in \u001b[0;36mcorner_impl\u001b[0;34m(xs, bins, range, axes_scale, weights, color, hist_bin_factor, smooth, smooth1d, labels, label_kwargs, titles, show_titles, title_fmt, title_kwargs, truths, truth_color, scale_hist, quantiles, title_quantiles, verbose, fig, max_n_ticks, top_ticks, use_math_text, reverse, labelpad, hist_kwargs, **hist2d_kwargs)\u001b[0m\n\u001b[1;32m     88\u001b[0m \u001b[38;5;66;03m# Deal with 1D sample lists.\u001b[39;00m\n\u001b[1;32m     89\u001b[0m xs \u001b[38;5;241m=\u001b[39m _parse_input(xs)\n\u001b[0;32m---> 90\u001b[0m \u001b[38;5;28;01massert\u001b[39;00m xs\u001b[38;5;241m.\u001b[39mshape[\u001b[38;5;241m0\u001b[39m] \u001b[38;5;241m<\u001b[39m\u001b[38;5;241m=\u001b[39m xs\u001b[38;5;241m.\u001b[39mshape[\u001b[38;5;241m1\u001b[39m], (\n\u001b[1;32m     91\u001b[0m     \u001b[38;5;124m\"\u001b[39m\u001b[38;5;124mI don\u001b[39m\u001b[38;5;124m'\u001b[39m\u001b[38;5;124mt believe that you want more \u001b[39m\u001b[38;5;124m\"\u001b[39m \u001b[38;5;124m\"\u001b[39m\u001b[38;5;124mdimensions than samples!\u001b[39m\u001b[38;5;124m\"\u001b[39m\n\u001b[1;32m     92\u001b[0m )\n\u001b[1;32m     94\u001b[0m \u001b[38;5;66;03m# Parse the weight array.\u001b[39;00m\n\u001b[1;32m     95\u001b[0m \u001b[38;5;28;01mif\u001b[39;00m weights \u001b[38;5;129;01mis\u001b[39;00m \u001b[38;5;129;01mnot\u001b[39;00m \u001b[38;5;28;01mNone\u001b[39;00m:\n",
      "\u001b[0;31mAssertionError\u001b[0m: I don't believe that you want more dimensions than samples!"
     ]
    }
   ],
   "source": [
    "hist2dkwargs = {\n",
    "    \"plot_density\": False,\n",
    "    \"plot_contours\": False,\n",
    "    \"plot_datapoints\": True,\n",
    "    \"color\": \"b\",\n",
    "    \"data_kwargs\": {\"ms\": 5},\n",
    "}\n",
    "corner.corner(\n",
    "    np.array(lens_samples), labels=labels, label_kwargs={\"fontsize\": 20}, **hist2dkwargs\n",
    ")\n",
    "plt.show()"
   ]
  },
  {
   "cell_type": "markdown",
   "metadata": {},
   "source": [
    "## Choose one lens system to simulate LSST data"
   ]
  },
  {
   "cell_type": "code",
   "execution_count": null,
   "metadata": {},
   "outputs": [],
   "source": [
    "index = 0\n",
    "# kwargs_lens_cut = {\"min_image_separation\": 1, \"max_image_separation\": 10}\n",
    "rgb_band_list = [\"i\", \"r\", \"g\"]\n",
    "lens_class = supernovae_lens_population[index]\n",
    "\n",
    "print(\"Chosen lens system properties:\")\n",
    "print(\" \")\n",
    "print(\"z_lens = \", lens_class.deflector_redshift)\n",
    "print(\"z_source = \", lens_class.source.source_dict[\"z\"])\n",
    "print(\"theta_E = \", lens_class.einstein_radius)\n",
    "print(\"Number of images = \", lens_class.image_number)\n",
    "print(\"Time delays = \", lens_class.point_source_arrival_times())\n",
    "print(\"Lens galaxy magnitude: \", lens_class.deflector_magnitude(band=\"i\"))\n",
    "print(\"Host galaxy magnitude: \", lens_class.source.source_dict[\"mag_i\"])\n",
    "print(\"Supernova magnitude: \", lens_class.source.source_dict[\"ps_mag_i\"])"
   ]
  },
  {
   "cell_type": "code",
   "execution_count": null,
   "metadata": {},
   "outputs": [],
   "source": [
    "pix_coord = point_source_coordinate_properties(\n",
    "    lens_class,\n",
    "    band=\"i\",\n",
    "    mag_zero_point=27,\n",
    "    delta_pix=0.2,\n",
    "    num_pix=32,\n",
    "    transform_pix2angle=np.array([[0.2, 0], [0, 0.2]]),\n",
    ")[\"image_pix\"]"
   ]
  },
  {
   "cell_type": "code",
   "execution_count": null,
   "metadata": {},
   "outputs": [],
   "source": [
    "pix_coord"
   ]
  },
  {
   "cell_type": "markdown",
   "metadata": {},
   "source": [
    "## See the light curve of a selected supernovae"
   ]
  },
  {
   "cell_type": "code",
   "execution_count": null,
   "metadata": {},
   "outputs": [],
   "source": [
    "light_curve = lens_class.source.variability_class.kwargs_model\n",
    "\n",
    "print(\"This is a type\", lens_class.source.sn_type, \"SN\")\n",
    "\n",
    "plt.figure(figsize=(5, 3))\n",
    "plt.plot(light_curve[\"MJD\"], light_curve[\"ps_mag_i\"], color=\"Midnightblue\")\n",
    "plt.gca().invert_yaxis()\n",
    "plt.ylabel(r\"$i$-band magnitude\")\n",
    "plt.xlabel(\"Time [days]\")\n",
    "plt.xlim(-50, 100)"
   ]
  },
  {
   "cell_type": "markdown",
   "metadata": {},
   "source": [
    "## High-resolution rgb image"
   ]
  },
  {
   "cell_type": "code",
   "execution_count": null,
   "metadata": {},
   "outputs": [],
   "source": [
    "rgb_band_list = [\"i\", \"r\", \"g\"]\n",
    "\n",
    "high_reso_rgb = sharp_rgb_image(\n",
    "    lens_class=lens_class,\n",
    "    rgb_band_list=rgb_band_list,\n",
    "    mag_zero_point=28,\n",
    "    delta_pix=0.02,\n",
    "    num_pix=200,\n",
    ")\n",
    "plt.figure(figsize=(5, 5))\n",
    "plt.imshow(high_reso_rgb, origin=\"lower\")\n",
    "plt.xlabel(\"pixels\")\n",
    "plt.ylabel(\"pixels\")\n",
    "plt.title(\"High-resolution RGB image\")"
   ]
  },
  {
   "cell_type": "markdown",
   "metadata": {},
   "source": [
    "## Get observation properties from OpSim"
   ]
  },
  {
   "cell_type": "markdown",
   "metadata": {},
   "source": [
    "Generate random points on the sky"
   ]
  },
  {
   "cell_type": "code",
   "execution_count": null,
   "metadata": {},
   "outputs": [],
   "source": [
    "np.random.seed(1)\n",
    "N = 10\n",
    "\n",
    "ra_points = coord.Angle(np.random.uniform(low=0, high=360, size=N) * u.degree)\n",
    "ra_points = ra_points.wrap_at(180 * u.degree)\n",
    "dec_points = np.arcsin(2 * np.random.uniform(size=N) - 1) / np.pi * 180\n",
    "dec_points = coord.Angle(dec_points * u.degree)"
   ]
  },
  {
   "cell_type": "code",
   "execution_count": null,
   "metadata": {
    "scrolled": false
   },
   "outputs": [],
   "source": [
    "exposure_data = opsim_pipeline.opsim_time_series_images_data(\n",
    "    ra_points,\n",
    "    dec_points,\n",
    "    \"baseline_v3.0_10yrs\",\n",
    "    MJD_min=60000,\n",
    "    MJD_max=60500,\n",
    "    print_warning=True,\n",
    ")"
   ]
  },
  {
   "cell_type": "markdown",
   "metadata": {},
   "source": [
    "## Inject lensed SNe into empty image\n",
    "\n",
    "using ```opsim_variable_lens_injection()```"
   ]
  },
  {
   "cell_type": "code",
   "execution_count": null,
   "metadata": {
    "scrolled": false
   },
   "outputs": [],
   "source": [
    "index = 0\n",
    "bands = [\"g\", \"r\", \"i\"]\n",
    "num_pix = 200\n",
    "transform_pix2angle = np.array([[0.2, 0], [0, 0.2]])\n",
    "\n",
    "images = opsim_variable_lens_injection(\n",
    "    lens_class, bands, num_pix, transform_pix2angle, exposure_data[index]\n",
    ")\n",
    "print(\"images.keys() : \", images.keys())\n",
    "print(\" \")\n",
    "print(len(images[\"obs_time\"]), \"observations\")\n",
    "\n",
    "plt.figure(figsize=(3, 3))\n",
    "plt.imshow(images[\"lens\"][0], origin=\"lower\")\n",
    "plt.xlim(80, 120)\n",
    "plt.ylim(80, 120)\n",
    "plt.xlabel(\"pixels\")\n",
    "plt.ylabel(\"pixels\")\n",
    "plt.title(\"Injected lens system\")"
   ]
  },
  {
   "cell_type": "markdown",
   "metadata": {},
   "source": [
    "## Compute time series of images\n",
    "Using ```lens_image_series()``` with OpSim input for ```band, mag_zero_point, psf_kernel, exposure_time, t_obs```."
   ]
  },
  {
   "cell_type": "code",
   "execution_count": null,
   "metadata": {
    "scrolled": false
   },
   "outputs": [],
   "source": [
    "im_times = images[\"obs_time\"] - images[\"obs_time\"][0] - 20\n",
    "repeats = len(im_times)\n",
    "transform_matrix = np.array([[0.2, 0], [0, 0.2]])\n",
    "transform_matrix_list = [transform_matrix]\n",
    "transform_matrix_all = transform_matrix_list * repeats\n",
    "\n",
    "# Simulate a lens image\n",
    "images_opsim = lens_image_series(\n",
    "    lens_class=lens_class,\n",
    "    band=list(images[\"band\"]),\n",
    "    mag_zero_point=images[\"zero_point\"],\n",
    "    num_pix=32,\n",
    "    psf_kernel=images[\"psf_kernel\"],\n",
    "    transform_pix2angle=transform_matrix_all,\n",
    "    exposure_time=images[\"expo_time\"],\n",
    "    t_obs=im_times,\n",
    "    with_deflector=True,\n",
    "    with_source=True,\n",
    ")"
   ]
  },
  {
   "cell_type": "code",
   "execution_count": null,
   "metadata": {},
   "outputs": [],
   "source": [
    "## Images in log scale\n",
    "log_images = []\n",
    "for i in range(len(images_opsim)):\n",
    "    log_images.append(np.log10(images_opsim[i]))\n",
    "\n",
    "plt.figure(figsize=(3, 3))\n",
    "plt.imshow(log_images[0], origin=\"lower\")\n",
    "plt.xlabel(\"pixels\")\n",
    "plt.ylabel(\"pixels\")\n",
    "plt.title(\"log-scale image\")"
   ]
  },
  {
   "cell_type": "code",
   "execution_count": null,
   "metadata": {
    "scrolled": false
   },
   "outputs": [],
   "source": [
    "plot_montage = create_image_montage_from_image_list(\n",
    "    num_rows=6,\n",
    "    num_cols=5,\n",
    "    images=images_opsim,\n",
    "    time=im_times,\n",
    "    image_center=pix_coord,\n",
    "    band=list(images[\"band\"]),\n",
    ")"
   ]
  },
  {
   "cell_type": "markdown",
   "metadata": {},
   "source": [
    "### Notes\n",
    "\n",
    "- calexp_center just contains the object coordinates so is currently a lot of duplicates for each epoch. Maybe there's a more efficient way to save it (or maybe it doesn't matter). \n",
    "\n",
    "- 'injected_lens' now contains the same as 'lens', because there is no background image."
   ]
  },
  {
   "cell_type": "markdown",
   "metadata": {},
   "source": [
    "### Issues\n",
    "\n",
    "- if ```catalog_type=None``` instead of ```\"scotch\"```, the ```double_sersic``` model is not defined. I get the error: ellipticity or semi-major and semi-minor axis are missing for the first light profile in galaxy_list columns.\n",
    "- If the light curve goes down to very low magnitudes (~40), then I get a \"lam value too large\" error (see screenshot).\n",
    "- ```lens_class._deflector_dict[\"mag_i\"]}```, and ```lens_class._deflector_dict[\"z\"]``` were not working for me, I replaced them with ```lens_class.deflector_magnitude(band='i')``` and ```lens_class.deflector_redshift```.\n",
    "- In the code to generate data for the cornerplot, ```z_s``` was missing.\n",
    "- The magnitudes of the supernovae are all very faint, so in the images I only see the lens galaxy. I tend to sample very low-redshift lenses and high-redshift sources. It would be great if there's a way to define a magnitude cut for point sources."
   ]
  },
  {
   "cell_type": "code",
   "execution_count": null,
   "metadata": {},
   "outputs": [],
   "source": [
    "# To do:\n",
    "# Brightness cut for SNe (23rd mag)\n",
    "# Run the code without errors and for all bands (also z and y once added to ps_mag).\n",
    "# Plot both light curves (with time delay) with LSST observations (new plot function?)"
   ]
  }
 ],
 "metadata": {
  "kernelspec": {
   "display_name": "Python (slsim)",
   "language": "python",
   "name": "slsim"
  },
  "language_info": {
   "codemirror_mode": {
    "name": "ipython",
    "version": 3
   },
   "file_extension": ".py",
   "mimetype": "text/x-python",
   "name": "python",
   "nbconvert_exporter": "python",
   "pygments_lexer": "ipython3",
   "version": "3.12.4"
  }
 },
 "nbformat": 4,
 "nbformat_minor": 2
}
